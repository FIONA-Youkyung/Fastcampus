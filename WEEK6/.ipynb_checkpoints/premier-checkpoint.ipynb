{
 "cells": [
  {
   "cell_type": "markdown",
   "metadata": {},
   "source": [
    "# Premier table"
   ]
  },
  {
   "cell_type": "markdown",
   "metadata": {},
   "source": [
    "https://www.premierleague.com/tables"
   ]
  },
  {
   "cell_type": "code",
   "execution_count": 1,
   "metadata": {},
   "outputs": [],
   "source": [
    "from selenium import webdriver\n",
    "import pandas as pd"
   ]
  },
  {
   "cell_type": "code",
   "execution_count": 2,
   "metadata": {},
   "outputs": [],
   "source": [
    "number = 10\n",
    "driver =  webdriver.Chrome()\n",
    "driver.get('http://corners.gmarket.co.kr/Bestsellers')\n",
    "\n",
    "def to_int(price):\n",
    "        return int(price.replace(\",\",\"\").replace(\"원\",\"\"))\n",
    "\n",
    "\n",
    "bestlist_selector = driver.find_elements_by_css_selector(\"#gBestWrap .best-list\")[1]\n",
    "items = bestlist_selector.find_elements_by_css_selector(\"li\")[:number]\n",
    "    \n",
    "df = pd.DataFrame(columns=[\"상품명\",\"원가\",\"판매가\",\"이미지\",\"상품링크\"])\n",
    "    \n",
    "for item in items:\n",
    "\n",
    "    idx = item.find_element_by_css_selector(\"p\").text # 순번\n",
    "    img_link = item.find_element_by_css_selector(\"img\").get_attribute(\"src\") # 이미지 URL\n",
    "    item_link = item.find_element_by_css_selector(\".itemname\").get_attribute(\"href\") # 아이템 URL\n",
    "    content = item.find_element_by_css_selector(\".itemname\").text # 아이템 텍스트\n",
    "    o_price = item.find_element_by_css_selector(\".item_price .o-price\").text # 오리지날 가격\n",
    "    s_price = item.find_element_by_css_selector(\".item_price .s-price\").text.split(\" \")[0] # 판매 가격\n",
    "    o_price = o_price if o_price else s_price # 원가 데이터가 없는경우 판매가를 대입\n",
    "        \n",
    "    data = {\"상품명\": content,\n",
    "                \"원가\": to_int(o_price), \n",
    "                \"판매가\": to_int(s_price),\n",
    "                \"이미지\": img_link, \n",
    "                \"상품링크\": item_link, }\n",
    "        \n",
    "        # Pandas 데이터 입력\n",
    "    df.loc[len(df)] = data\n",
    "        "
   ]
  },
  {
   "cell_type": "code",
   "execution_count": 3,
   "metadata": {},
   "outputs": [
    {
     "data": {
      "text/html": [
       "<div>\n",
       "<style scoped>\n",
       "    .dataframe tbody tr th:only-of-type {\n",
       "        vertical-align: middle;\n",
       "    }\n",
       "\n",
       "    .dataframe tbody tr th {\n",
       "        vertical-align: top;\n",
       "    }\n",
       "\n",
       "    .dataframe thead th {\n",
       "        text-align: right;\n",
       "    }\n",
       "</style>\n",
       "<table border=\"1\" class=\"dataframe\">\n",
       "  <thead>\n",
       "    <tr style=\"text-align: right;\">\n",
       "      <th></th>\n",
       "      <th>상품명</th>\n",
       "      <th>원가</th>\n",
       "      <th>판매가</th>\n",
       "      <th>이미지</th>\n",
       "      <th>상품링크</th>\n",
       "    </tr>\n",
       "  </thead>\n",
       "  <tbody>\n",
       "    <tr>\n",
       "      <th>0</th>\n",
       "      <td>[오랄비]오랄비 초미세모 저자극케어 칫솔 8입 + 2입</td>\n",
       "      <td>20000</td>\n",
       "      <td>8000</td>\n",
       "      <td>http://gdimg.gmarket.co.kr/933850208/still/300</td>\n",
       "      <td>http://item2.gmarket.co.kr/Item/DetailView/Ite...</td>\n",
       "    </tr>\n",
       "    <tr>\n",
       "      <th>1</th>\n",
       "      <td>나크21 S~XL 봄신상 라운드넥 브이넥 원피스 무료배송</td>\n",
       "      <td>22900</td>\n",
       "      <td>6900</td>\n",
       "      <td>http://gdimg.gmarket.co.kr/1118941810/still/300</td>\n",
       "      <td>http://item2.gmarket.co.kr/Item/DetailView/Ite...</td>\n",
       "    </tr>\n",
       "    <tr>\n",
       "      <th>2</th>\n",
       "      <td>[디프니]20%쿠폰 디프니 봄신상~롱티셔츠/맨투맨</td>\n",
       "      <td>42900</td>\n",
       "      <td>12900</td>\n",
       "      <td>http://gdimg.gmarket.co.kr/189607991/still/300</td>\n",
       "      <td>http://item2.gmarket.co.kr/Item/DetailView/Ite...</td>\n",
       "    </tr>\n",
       "    <tr>\n",
       "      <th>3</th>\n",
       "      <td>새코롬 한라봉 5kg(25-35과내외)벌크포장</td>\n",
       "      <td>36000</td>\n",
       "      <td>16900</td>\n",
       "      <td>http://gdimg.gmarket.co.kr/1231950648/still/300</td>\n",
       "      <td>http://item2.gmarket.co.kr/Item/DetailView/Ite...</td>\n",
       "    </tr>\n",
       "    <tr>\n",
       "      <th>4</th>\n",
       "      <td>글램공감/브라1+팬티2세트/ABCD컵/속옷/왕뽕/빅사이즈</td>\n",
       "      <td>25900</td>\n",
       "      <td>7900</td>\n",
       "      <td>http://gdimg.gmarket.co.kr/787562120/still/300</td>\n",
       "      <td>http://item2.gmarket.co.kr/Item/DetailView/Ite...</td>\n",
       "    </tr>\n",
       "    <tr>\n",
       "      <th>5</th>\n",
       "      <td>닥터방기원 메딕 탈모방지 샴푸 1000ml 2개+토닉</td>\n",
       "      <td>50000</td>\n",
       "      <td>17900</td>\n",
       "      <td>http://gdimg.gmarket.co.kr/874194128/still/300</td>\n",
       "      <td>http://item2.gmarket.co.kr/Item/DetailView/Ite...</td>\n",
       "    </tr>\n",
       "    <tr>\n",
       "      <th>6</th>\n",
       "      <td>[월튼키즈]상하복8900/아동복/신학기/점퍼/원피스/티셔츠/팬츠</td>\n",
       "      <td>29000</td>\n",
       "      <td>8900</td>\n",
       "      <td>http://gdimg.gmarket.co.kr/226919468/still/300</td>\n",
       "      <td>http://item2.gmarket.co.kr/Item/DetailView/Ite...</td>\n",
       "    </tr>\n",
       "    <tr>\n",
       "      <th>7</th>\n",
       "      <td>[마미포코]하루만 윈터팬티 대형 특대형 3팩 16년11월이후</td>\n",
       "      <td>35900</td>\n",
       "      <td>24900</td>\n",
       "      <td>http://gdimg.gmarket.co.kr/871967966/still/300</td>\n",
       "      <td>http://item2.gmarket.co.kr/Item/DetailView/Ite...</td>\n",
       "    </tr>\n",
       "    <tr>\n",
       "      <th>8</th>\n",
       "      <td>1+1 에디슨젓가락 2개/수저세트 식판 도시락통 물통</td>\n",
       "      <td>18900</td>\n",
       "      <td>5900</td>\n",
       "      <td>http://image.gmarket.co.kr/challenge/neo_image...</td>\n",
       "      <td>http://item2.gmarket.co.kr/Item/DetailView/Ite...</td>\n",
       "    </tr>\n",
       "    <tr>\n",
       "      <th>9</th>\n",
       "      <td>[베지밀]정식품 베지밀 A/B 담백/달콤 고칼슘 두유 190mlx48</td>\n",
       "      <td>25000</td>\n",
       "      <td>17900</td>\n",
       "      <td>http://image.gmarket.co.kr/challenge/neo_image...</td>\n",
       "      <td>http://item2.gmarket.co.kr/Item/DetailView/Ite...</td>\n",
       "    </tr>\n",
       "  </tbody>\n",
       "</table>\n",
       "</div>"
      ],
      "text/plain": [
       "                                      상품명     원가    판매가  \\\n",
       "0          [오랄비]오랄비 초미세모 저자극케어 칫솔 8입 + 2입  20000   8000   \n",
       "1         나크21 S~XL 봄신상 라운드넥 브이넥 원피스 무료배송  22900   6900   \n",
       "2             [디프니]20%쿠폰 디프니 봄신상~롱티셔츠/맨투맨  42900  12900   \n",
       "3               새코롬 한라봉 5kg(25-35과내외)벌크포장  36000  16900   \n",
       "4         글램공감/브라1+팬티2세트/ABCD컵/속옷/왕뽕/빅사이즈  25900   7900   \n",
       "5           닥터방기원 메딕 탈모방지 샴푸 1000ml 2개+토닉  50000  17900   \n",
       "6     [월튼키즈]상하복8900/아동복/신학기/점퍼/원피스/티셔츠/팬츠  29000   8900   \n",
       "7       [마미포코]하루만 윈터팬티 대형 특대형 3팩 16년11월이후  35900  24900   \n",
       "8           1+1 에디슨젓가락 2개/수저세트 식판 도시락통 물통  18900   5900   \n",
       "9  [베지밀]정식품 베지밀 A/B 담백/달콤 고칼슘 두유 190mlx48  25000  17900   \n",
       "\n",
       "                                                 이미지  \\\n",
       "0     http://gdimg.gmarket.co.kr/933850208/still/300   \n",
       "1    http://gdimg.gmarket.co.kr/1118941810/still/300   \n",
       "2     http://gdimg.gmarket.co.kr/189607991/still/300   \n",
       "3    http://gdimg.gmarket.co.kr/1231950648/still/300   \n",
       "4     http://gdimg.gmarket.co.kr/787562120/still/300   \n",
       "5     http://gdimg.gmarket.co.kr/874194128/still/300   \n",
       "6     http://gdimg.gmarket.co.kr/226919468/still/300   \n",
       "7     http://gdimg.gmarket.co.kr/871967966/still/300   \n",
       "8  http://image.gmarket.co.kr/challenge/neo_image...   \n",
       "9  http://image.gmarket.co.kr/challenge/neo_image...   \n",
       "\n",
       "                                                상품링크  \n",
       "0  http://item2.gmarket.co.kr/Item/DetailView/Ite...  \n",
       "1  http://item2.gmarket.co.kr/Item/DetailView/Ite...  \n",
       "2  http://item2.gmarket.co.kr/Item/DetailView/Ite...  \n",
       "3  http://item2.gmarket.co.kr/Item/DetailView/Ite...  \n",
       "4  http://item2.gmarket.co.kr/Item/DetailView/Ite...  \n",
       "5  http://item2.gmarket.co.kr/Item/DetailView/Ite...  \n",
       "6  http://item2.gmarket.co.kr/Item/DetailView/Ite...  \n",
       "7  http://item2.gmarket.co.kr/Item/DetailView/Ite...  \n",
       "8  http://item2.gmarket.co.kr/Item/DetailView/Ite...  \n",
       "9  http://item2.gmarket.co.kr/Item/DetailView/Ite...  "
      ]
     },
     "execution_count": 3,
     "metadata": {},
     "output_type": "execute_result"
    }
   ],
   "source": [
    "df"
   ]
  },
  {
   "cell_type": "code",
   "execution_count": 4,
   "metadata": {},
   "outputs": [],
   "source": [
    "#mainTableTab active\n",
    "\n",
    "\n",
    "driver =  webdriver.Chrome()\n",
    "driver.get('https://www.premierleague.com/tables')"
   ]
  },
  {
   "cell_type": "code",
   "execution_count": 14,
   "metadata": {},
   "outputs": [
    {
     "data": {
      "text/plain": [
       "[<selenium.webdriver.remote.webelement.WebElement (session=\"eb35fe11e435c526f23ee0091130b4b6\", element=\"0.8691680457487094-7\")>,\n",
       " <selenium.webdriver.remote.webelement.WebElement (session=\"eb35fe11e435c526f23ee0091130b4b6\", element=\"0.8691680457487094-8\")>,\n",
       " <selenium.webdriver.remote.webelement.WebElement (session=\"eb35fe11e435c526f23ee0091130b4b6\", element=\"0.8691680457487094-9\")>,\n",
       " <selenium.webdriver.remote.webelement.WebElement (session=\"eb35fe11e435c526f23ee0091130b4b6\", element=\"0.8691680457487094-10\")>,\n",
       " <selenium.webdriver.remote.webelement.WebElement (session=\"eb35fe11e435c526f23ee0091130b4b6\", element=\"0.8691680457487094-11\")>,\n",
       " <selenium.webdriver.remote.webelement.WebElement (session=\"eb35fe11e435c526f23ee0091130b4b6\", element=\"0.8691680457487094-12\")>,\n",
       " <selenium.webdriver.remote.webelement.WebElement (session=\"eb35fe11e435c526f23ee0091130b4b6\", element=\"0.8691680457487094-13\")>,\n",
       " <selenium.webdriver.remote.webelement.WebElement (session=\"eb35fe11e435c526f23ee0091130b4b6\", element=\"0.8691680457487094-14\")>]"
      ]
     },
     "execution_count": 14,
     "metadata": {},
     "output_type": "execute_result"
    }
   ],
   "source": [
    "table = driver.find_elements_by_xpath('//*[@class=\"tableContainer\"]')\n",
    "table"
   ]
  },
  {
   "cell_type": "code",
   "execution_count": null,
   "metadata": {},
   "outputs": [],
   "source": [
    "//*[@id=\"mainContent\"]/div[2]/div[1]/div[3]/div/div/div/table/tbody"
   ]
  },
  {
   "cell_type": "code",
   "execution_count": null,
   "metadata": {},
   "outputs": [],
   "source": []
  }
 ],
 "metadata": {
  "kernelspec": {
   "display_name": "Python 3",
   "language": "python",
   "name": "python3"
  },
  "language_info": {
   "codemirror_mode": {
    "name": "ipython",
    "version": 3
   },
   "file_extension": ".py",
   "mimetype": "text/x-python",
   "name": "python",
   "nbconvert_exporter": "python",
   "pygments_lexer": "ipython3",
   "version": "3.6.3"
  }
 },
 "nbformat": 4,
 "nbformat_minor": 2
}
