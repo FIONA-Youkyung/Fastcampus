{
 "cells": [
  {
   "cell_type": "code",
   "execution_count": 1,
   "metadata": {},
   "outputs": [],
   "source": [
    "from selenium import webdriver"
   ]
  },
  {
   "cell_type": "code",
   "execution_count": null,
   "metadata": {},
   "outputs": [],
   "source": [
    "article_list = []\n",
    "\n",
    "def get_article(page):\n",
    "    \n",
    "    driver =  webdriver.Chrome()\n",
    "    \n",
    "    driver.get(\"http://news.naver.com/main/main.nhn?mode=LSD&mid =shm&sid1=105#&date=2018-02-20 00:00:00&page=\" + str(page))\n",
    "\n",
    "    articles = driver.find_elements_by_css_selector('#section_body li')\n",
    "    \n",
    "    for article in articles:\n",
    "        title = article.find_element_by_css_selector('dt:not(.photo) > a').text\n",
    "        article_list.append(title)\n",
    "        \n",
    "    driver.close()"
   ]
  },
  {
   "cell_type": "code",
   "execution_count": null,
   "metadata": {},
   "outputs": [],
   "source": [
    "articles = driver.find_elements_by_css_selector('#section_body li')\n",
    "len(articles)"
   ]
  },
  {
   "cell_type": "code",
   "execution_count": null,
   "metadata": {},
   "outputs": [],
   "source": [
    "%%time\n",
    "for page in range(1,9):\n",
    "    get_article(page)"
   ]
  },
  {
   "cell_type": "code",
   "execution_count": null,
   "metadata": {},
   "outputs": [],
   "source": [
    "len(article_list), article_list[:5]"
   ]
  },
  {
   "cell_type": "code",
   "execution_count": null,
   "metadata": {},
   "outputs": [],
   "source": [
    "import threading\n",
    "\n",
    "for page in range(1,9):\n",
    "    th = threading.Thread(target=get_article, args=(page,))\n",
    "    th.start()"
   ]
  },
  {
   "cell_type": "code",
   "execution_count": null,
   "metadata": {},
   "outputs": [],
   "source": [
    "len(article_list), article_list[:5]"
   ]
  },
  {
   "cell_type": "code",
   "execution_count": null,
   "metadata": {},
   "outputs": [],
   "source": []
  },
  {
   "cell_type": "code",
   "execution_count": 2,
   "metadata": {},
   "outputs": [],
   "source": [
    "#Tooltip > span.value"
   ]
  },
  {
   "cell_type": "code",
   "execution_count": null,
   "metadata": {},
   "outputs": [],
   "source": [
    "#mainContent > div.tabbedContent > div.mainTableTab.active > div.allTablesContainer > div > div > div > table > tbody > tr.tableDark > td.team"
   ]
  },
  {
   "cell_type": "code",
   "execution_count": 36,
   "metadata": {},
   "outputs": [],
   "source": [
    "article_list = []\n",
    "\n",
    "driver =  webdriver.Chrome()\n",
    "driver.get(\"https://www.premierleague.com/tables\")"
   ]
  },
  {
   "cell_type": "code",
   "execution_count": 37,
   "metadata": {},
   "outputs": [],
   "source": [
    "\n",
    "# num2 = driver.find_elements_by_css_selector('#Tooltip')\n",
    "num3 = driver.find_elements_by_css_selector('#Tooltip > span.value')\n",
    "num4 = driver.find_elements_by_css_selector('#mainContent > div.tabbedContent > div.mainTableTab.active > div.allTablesContainer > div > div > div > table > tbody > tr:nth-child(7)')\n",
    "\n",
    "#start here ==> team2\n",
    "team2 = driver.find_elements_by_css_selector('#mainContent > div.tabbedContent > div.mainTableTab.active > div.allTablesContainer > div > div > div > table > tbody ')\n",
    "team3 = driver.find_elements_by_css_selector('#Tooltip')\n",
    "team4 = driver.find_elements_by_css_selector('#mainContent > div.tabbedContent > div.mainTableTab.active > div.allTablesContainer > div > div > div > table > tbody > tr:nth-child(7)')\n",
    "\n",
    "driver.close()"
   ]
  },
  {
   "cell_type": "code",
   "execution_count": 38,
   "metadata": {},
   "outputs": [
    {
     "data": {
      "text/plain": [
       "[<selenium.webdriver.remote.webelement.WebElement (session=\"3ac3fcf72323e02dadddd3a450c171a8\", element=\"0.5290444394766367-30\")>]"
      ]
     },
     "execution_count": 38,
     "metadata": {},
     "output_type": "execute_result"
    }
   ],
   "source": [
    "team2"
   ]
  },
  {
   "cell_type": "code",
   "execution_count": null,
   "metadata": {},
   "outputs": [],
   "source": [
    "#Tooltip > span.value"
   ]
  },
  {
   "cell_type": "code",
   "execution_count": null,
   "metadata": {},
   "outputs": [],
   "source": [
    "#mainContent > div.tabbedContent > div.mainTableTab.active > div.allTablesContainer > div > div > div > table > tbody > tr.tableDark > td.team > a > span.short"
   ]
  },
  {
   "cell_type": "code",
   "execution_count": null,
   "metadata": {},
   "outputs": [],
   "source": []
  }
 ],
 "metadata": {
  "kernelspec": {
   "display_name": "Python 3",
   "language": "python",
   "name": "python3"
  },
  "language_info": {
   "codemirror_mode": {
    "name": "ipython",
    "version": 3
   },
   "file_extension": ".py",
   "mimetype": "text/x-python",
   "name": "python",
   "nbconvert_exporter": "python",
   "pygments_lexer": "ipython3",
   "version": "3.6.3"
  }
 },
 "nbformat": 4,
 "nbformat_minor": 2
}
