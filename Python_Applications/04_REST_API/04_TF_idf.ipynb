{
 "cells": [
  {
   "cell_type": "code",
   "execution_count": 14,
   "metadata": {},
   "outputs": [
    {
     "name": "stderr",
     "output_type": "stream",
     "text": [
      "/home/jk/enter/lib/python3.6/importlib/_bootstrap.py:219: RuntimeWarning: numpy.dtype size changed, may indicate binary incompatibility. Expected 96, got 88\n",
      "  return f(*args, **kwds)\n"
     ]
    }
   ],
   "source": [
    "from sklearn.feature_extraction.text import TfidfVectorizer, CountVectorizer\n",
    "import pandas as pd"
   ]
  },
  {
   "cell_type": "code",
   "execution_count": 9,
   "metadata": {},
   "outputs": [],
   "source": [
    "sentence = [\n",
    "    'python python python java java', \n",
    "    'python python java html',\n",
    "    'python html html html css', \n",
    "       \n",
    "]"
   ]
  },
  {
   "cell_type": "code",
   "execution_count": 10,
   "metadata": {},
   "outputs": [],
   "source": [
    "# countvectorizer\n",
    "cv = CountVectorizer()"
   ]
  },
  {
   "cell_type": "code",
   "execution_count": 11,
   "metadata": {},
   "outputs": [],
   "source": [
    "cv_obj = cv.fit_transform(sentence)"
   ]
  },
  {
   "cell_type": "code",
   "execution_count": 12,
   "metadata": {},
   "outputs": [
    {
     "data": {
      "text/plain": [
       "['css', 'html', 'java', 'python']"
      ]
     },
     "execution_count": 12,
     "metadata": {},
     "output_type": "execute_result"
    }
   ],
   "source": [
    "cv.get_feature_names()"
   ]
  },
  {
   "cell_type": "code",
   "execution_count": 16,
   "metadata": {},
   "outputs": [
    {
     "data": {
      "text/html": [
       "<div>\n",
       "<style scoped>\n",
       "    .dataframe tbody tr th:only-of-type {\n",
       "        vertical-align: middle;\n",
       "    }\n",
       "\n",
       "    .dataframe tbody tr th {\n",
       "        vertical-align: top;\n",
       "    }\n",
       "\n",
       "    .dataframe thead th {\n",
       "        text-align: right;\n",
       "    }\n",
       "</style>\n",
       "<table border=\"1\" class=\"dataframe\">\n",
       "  <thead>\n",
       "    <tr style=\"text-align: right;\">\n",
       "      <th></th>\n",
       "      <th>css</th>\n",
       "      <th>html</th>\n",
       "      <th>java</th>\n",
       "      <th>python</th>\n",
       "    </tr>\n",
       "  </thead>\n",
       "  <tbody>\n",
       "    <tr>\n",
       "      <th>0</th>\n",
       "      <td>0</td>\n",
       "      <td>0</td>\n",
       "      <td>2</td>\n",
       "      <td>3</td>\n",
       "    </tr>\n",
       "    <tr>\n",
       "      <th>1</th>\n",
       "      <td>0</td>\n",
       "      <td>1</td>\n",
       "      <td>1</td>\n",
       "      <td>2</td>\n",
       "    </tr>\n",
       "    <tr>\n",
       "      <th>2</th>\n",
       "      <td>1</td>\n",
       "      <td>3</td>\n",
       "      <td>0</td>\n",
       "      <td>1</td>\n",
       "    </tr>\n",
       "  </tbody>\n",
       "</table>\n",
       "</div>"
      ],
      "text/plain": [
       "   css  html  java  python\n",
       "0    0     0     2       3\n",
       "1    0     1     1       2\n",
       "2    1     3     0       1"
      ]
     },
     "execution_count": 16,
     "metadata": {},
     "output_type": "execute_result"
    }
   ],
   "source": [
    "cv_df = pd.DataFrame(cv_obj.todense(), columns = cv.get_feature_names())\n",
    "cv_df"
   ]
  },
  {
   "cell_type": "code",
   "execution_count": 18,
   "metadata": {},
   "outputs": [],
   "source": [
    "# TfidfVectorizer\n",
    "tv = TfidfVectorizer()"
   ]
  },
  {
   "cell_type": "code",
   "execution_count": 19,
   "metadata": {},
   "outputs": [],
   "source": [
    "tv_obj = tv.fit_transform(sentence)"
   ]
  },
  {
   "cell_type": "code",
   "execution_count": 21,
   "metadata": {},
   "outputs": [
    {
     "data": {
      "text/html": [
       "<div>\n",
       "<style scoped>\n",
       "    .dataframe tbody tr th:only-of-type {\n",
       "        vertical-align: middle;\n",
       "    }\n",
       "\n",
       "    .dataframe tbody tr th {\n",
       "        vertical-align: top;\n",
       "    }\n",
       "\n",
       "    .dataframe thead th {\n",
       "        text-align: right;\n",
       "    }\n",
       "</style>\n",
       "<table border=\"1\" class=\"dataframe\">\n",
       "  <thead>\n",
       "    <tr style=\"text-align: right;\">\n",
       "      <th></th>\n",
       "      <th>css</th>\n",
       "      <th>html</th>\n",
       "      <th>java</th>\n",
       "      <th>python</th>\n",
       "    </tr>\n",
       "  </thead>\n",
       "  <tbody>\n",
       "    <tr>\n",
       "      <th>0</th>\n",
       "      <td>0.0000</td>\n",
       "      <td>0.000000</td>\n",
       "      <td>0.651365</td>\n",
       "      <td>0.758765</td>\n",
       "    </tr>\n",
       "    <tr>\n",
       "      <th>1</th>\n",
       "      <td>0.0000</td>\n",
       "      <td>0.476063</td>\n",
       "      <td>0.476063</td>\n",
       "      <td>0.739411</td>\n",
       "    </tr>\n",
       "    <tr>\n",
       "      <th>2</th>\n",
       "      <td>0.3906</td>\n",
       "      <td>0.891185</td>\n",
       "      <td>0.000000</td>\n",
       "      <td>0.230695</td>\n",
       "    </tr>\n",
       "  </tbody>\n",
       "</table>\n",
       "</div>"
      ],
      "text/plain": [
       "      css      html      java    python\n",
       "0  0.0000  0.000000  0.651365  0.758765\n",
       "1  0.0000  0.476063  0.476063  0.739411\n",
       "2  0.3906  0.891185  0.000000  0.230695"
      ]
     },
     "execution_count": 21,
     "metadata": {},
     "output_type": "execute_result"
    }
   ],
   "source": [
    "tv_df = pd.DataFrame(tv_obj.toarray(), columns=tv.get_feature_names())\n",
    "tv_df"
   ]
  },
  {
   "cell_type": "code",
   "execution_count": 23,
   "metadata": {},
   "outputs": [
    {
     "data": {
      "text/html": [
       "<div>\n",
       "<style scoped>\n",
       "    .dataframe tbody tr th:only-of-type {\n",
       "        vertical-align: middle;\n",
       "    }\n",
       "\n",
       "    .dataframe tbody tr th {\n",
       "        vertical-align: top;\n",
       "    }\n",
       "\n",
       "    .dataframe thead th {\n",
       "        text-align: right;\n",
       "    }\n",
       "</style>\n",
       "<table border=\"1\" class=\"dataframe\">\n",
       "  <thead>\n",
       "    <tr style=\"text-align: right;\">\n",
       "      <th></th>\n",
       "      <th>0</th>\n",
       "      <th>1</th>\n",
       "      <th>2</th>\n",
       "    </tr>\n",
       "  </thead>\n",
       "  <tbody>\n",
       "    <tr>\n",
       "      <th>0</th>\n",
       "      <td>1.000000</td>\n",
       "      <td>0.871129</td>\n",
       "      <td>0.175043</td>\n",
       "    </tr>\n",
       "    <tr>\n",
       "      <th>1</th>\n",
       "      <td>0.871129</td>\n",
       "      <td>1.000000</td>\n",
       "      <td>0.594839</td>\n",
       "    </tr>\n",
       "    <tr>\n",
       "      <th>2</th>\n",
       "      <td>0.175043</td>\n",
       "      <td>0.594839</td>\n",
       "      <td>1.000000</td>\n",
       "    </tr>\n",
       "  </tbody>\n",
       "</table>\n",
       "</div>"
      ],
      "text/plain": [
       "          0         1         2\n",
       "0  1.000000  0.871129  0.175043\n",
       "1  0.871129  1.000000  0.594839\n",
       "2  0.175043  0.594839  1.000000"
      ]
     },
     "execution_count": 23,
     "metadata": {},
     "output_type": "execute_result"
    }
   ],
   "source": [
    "tv_similarity = pd.DataFrame((tv_obj*tv_obj.T).toarray(), columns=tv_df.index)\n",
    "tv_similarity"
   ]
  },
  {
   "cell_type": "code",
   "execution_count": 24,
   "metadata": {},
   "outputs": [
    {
     "data": {
      "text/plain": [
       "array([1.69314718, 1.28768207, 1.28768207, 1.        ])"
      ]
     },
     "execution_count": 24,
     "metadata": {},
     "output_type": "execute_result"
    }
   ],
   "source": [
    "tv.idf_"
   ]
  },
  {
   "cell_type": "code",
   "execution_count": null,
   "metadata": {},
   "outputs": [],
   "source": []
  },
  {
   "cell_type": "code",
   "execution_count": null,
   "metadata": {},
   "outputs": [],
   "source": []
  },
  {
   "cell_type": "code",
   "execution_count": 66,
   "metadata": {},
   "outputs": [],
   "source": [
    "from sklearn.feature_extraction.text import CountVectorizer, TfidfVectorizer\n",
    "from sklearn.model_selection import train_test_split\n",
    "from sklearn.naive_bayes import MultinomialNB\n",
    "from sklearn.pipeline import Pipeline\n",
    "import pandas as pd\n",
    "import numpy as np\n",
    "import pickle\n",
    "from konlpy.tag import Twitter"
   ]
  },
  {
   "cell_type": "code",
   "execution_count": 31,
   "metadata": {},
   "outputs": [
    {
     "name": "stdout",
     "output_type": "stream",
     "text": [
      "2327\n"
     ]
    },
    {
     "data": {
      "text/html": [
       "<div>\n",
       "<style scoped>\n",
       "    .dataframe tbody tr th:only-of-type {\n",
       "        vertical-align: middle;\n",
       "    }\n",
       "\n",
       "    .dataframe tbody tr th {\n",
       "        vertical-align: top;\n",
       "    }\n",
       "\n",
       "    .dataframe thead th {\n",
       "        text-align: right;\n",
       "    }\n",
       "</style>\n",
       "<table border=\"1\" class=\"dataframe\">\n",
       "  <thead>\n",
       "    <tr style=\"text-align: right;\">\n",
       "      <th></th>\n",
       "      <th>newsid</th>\n",
       "      <th>oid</th>\n",
       "      <th>newspaper</th>\n",
       "      <th>title</th>\n",
       "      <th>link</th>\n",
       "      <th>comment</th>\n",
       "      <th>likeit</th>\n",
       "      <th>content</th>\n",
       "      <th>date</th>\n",
       "      <th>category</th>\n",
       "    </tr>\n",
       "  </thead>\n",
       "  <tbody>\n",
       "    <tr>\n",
       "      <th>0</th>\n",
       "      <td>3689326</td>\n",
       "      <td>8</td>\n",
       "      <td>머니투데이</td>\n",
       "      <td>美 '北 주요자금세탁우려대상국' 지정…'돈줄' 차단 강화</td>\n",
       "      <td>http://news.naver.com/main/read.nhn?mode=LSD&amp;m...</td>\n",
       "      <td>5</td>\n",
       "      <td>7</td>\n",
       "      <td>[머니투데이 뉴욕=서명훈 특파원] 미국이 1일(현지시간) 북한을 '주요 자금세탁 우...</td>\n",
       "      <td>2016-06-01</td>\n",
       "      <td>0</td>\n",
       "    </tr>\n",
       "    <tr>\n",
       "      <th>1</th>\n",
       "      <td>8444786</td>\n",
       "      <td>1</td>\n",
       "      <td>연합뉴스</td>\n",
       "      <td>美재무부, 북한 '주요 자금세탁 우려 대상국' 첫 지정(3보)</td>\n",
       "      <td>http://news.naver.com/main/read.nhn?mode=LSD&amp;m...</td>\n",
       "      <td>64</td>\n",
       "      <td>35</td>\n",
       "      <td>미 재무부 청사&lt;&lt;연합뉴스 DB&gt;&gt;국제금융망 접근 차단…국제사회에도 북한과 금융거래...</td>\n",
       "      <td>2016-06-01</td>\n",
       "      <td>0</td>\n",
       "    </tr>\n",
       "    <tr>\n",
       "      <th>2</th>\n",
       "      <td>3556076</td>\n",
       "      <td>18</td>\n",
       "      <td>이데일리</td>\n",
       "      <td>'냉정'과 '대화' 강조한 시진핑…北뿐 아니라 한미일도 겨냥</td>\n",
       "      <td>http://news.naver.com/main/read.nhn?mode=LSD&amp;m...</td>\n",
       "      <td>12</td>\n",
       "      <td>2</td>\n",
       "      <td>- 유관국의 냉정과 자제는 北 뿐 아니라 6자회담 당사국 모두 향한 메시지- 대화 ...</td>\n",
       "      <td>2016-06-01</td>\n",
       "      <td>0</td>\n",
       "    </tr>\n",
       "    <tr>\n",
       "      <th>3</th>\n",
       "      <td>8444772</td>\n",
       "      <td>1</td>\n",
       "      <td>연합뉴스</td>\n",
       "      <td>北, '200일 전투' 평양시 군중대회 개최</td>\n",
       "      <td>http://news.naver.com/main/read.nhn?mode=LSD&amp;m...</td>\n",
       "      <td>16</td>\n",
       "      <td>2</td>\n",
       "      <td>北,'200일 전투' 평양시 군중대회 개최   (서울=연합뉴스) 북한이 올해 두 ...</td>\n",
       "      <td>2016-06-01</td>\n",
       "      <td>0</td>\n",
       "    </tr>\n",
       "    <tr>\n",
       "      <th>4</th>\n",
       "      <td>8444770</td>\n",
       "      <td>1</td>\n",
       "      <td>연합뉴스</td>\n",
       "      <td>시진핑, 北리수용에 &amp;quot;냉정·자제…지역 평화·안정 수호해야&amp;quot;(종합2보)</td>\n",
       "      <td>http://news.naver.com/main/read.nhn?mode=LSD&amp;m...</td>\n",
       "      <td>3</td>\n",
       "      <td>1</td>\n",
       "      <td>시진핑, 리수용과 면담(베이징=연합뉴스) 시진핑(習近平) 중국 국가주석이 1일 베이...</td>\n",
       "      <td>2016-06-01</td>\n",
       "      <td>0</td>\n",
       "    </tr>\n",
       "  </tbody>\n",
       "</table>\n",
       "</div>"
      ],
      "text/plain": [
       "    newsid  oid newspaper                                             title  \\\n",
       "0  3689326    8     머니투데이                   美 '北 주요자금세탁우려대상국' 지정…'돈줄' 차단 강화   \n",
       "1  8444786    1      연합뉴스                美재무부, 북한 '주요 자금세탁 우려 대상국' 첫 지정(3보)   \n",
       "2  3556076   18      이데일리                 '냉정'과 '대화' 강조한 시진핑…北뿐 아니라 한미일도 겨냥   \n",
       "3  8444772    1      연합뉴스                          北, '200일 전투' 평양시 군중대회 개최   \n",
       "4  8444770    1      연합뉴스  시진핑, 北리수용에 &quot;냉정·자제…지역 평화·안정 수호해야&quot;(종합2보)   \n",
       "\n",
       "                                                link  comment  likeit  \\\n",
       "0  http://news.naver.com/main/read.nhn?mode=LSD&m...        5       7   \n",
       "1  http://news.naver.com/main/read.nhn?mode=LSD&m...       64      35   \n",
       "2  http://news.naver.com/main/read.nhn?mode=LSD&m...       12       2   \n",
       "3  http://news.naver.com/main/read.nhn?mode=LSD&m...       16       2   \n",
       "4  http://news.naver.com/main/read.nhn?mode=LSD&m...        3       1   \n",
       "\n",
       "                                             content        date  category  \n",
       "0  [머니투데이 뉴욕=서명훈 특파원] 미국이 1일(현지시간) 북한을 '주요 자금세탁 우...  2016-06-01         0  \n",
       "1  미 재무부 청사<<연합뉴스 DB>>국제금융망 접근 차단…국제사회에도 북한과 금융거래...  2016-06-01         0  \n",
       "2  - 유관국의 냉정과 자제는 北 뿐 아니라 6자회담 당사국 모두 향한 메시지- 대화 ...  2016-06-01         0  \n",
       "3   北,'200일 전투' 평양시 군중대회 개최   (서울=연합뉴스) 북한이 올해 두 ...  2016-06-01         0  \n",
       "4  시진핑, 리수용과 면담(베이징=연합뉴스) 시진핑(習近平) 중국 국가주석이 1일 베이...  2016-06-01         0  "
      ]
     },
     "execution_count": 31,
     "metadata": {},
     "output_type": "execute_result"
    }
   ],
   "source": [
    "article_df = pd.read_pickle('article_2016-06-01.plk')\n",
    "print(len(article_df))\n",
    "article_df.head()"
   ]
  },
  {
   "cell_type": "markdown",
   "metadata": {},
   "source": [
    "### split train, test"
   ]
  },
  {
   "cell_type": "code",
   "execution_count": 35,
   "metadata": {},
   "outputs": [],
   "source": [
    "X_train, X_test, y_train, y_test = train_test_split(article_df.content, article_df.category ,test_size = 0.1, random_state=1)"
   ]
  },
  {
   "cell_type": "code",
   "execution_count": 82,
   "metadata": {},
   "outputs": [],
   "source": [
    "# pos_tagger = Twitter()\n",
    "# def tokenize_pos(doc):\n",
    "#     return [\"/\".join(t) for t in pos_tagger.pos(doc)]"
   ]
  },
  {
   "cell_type": "code",
   "execution_count": null,
   "metadata": {},
   "outputs": [],
   "source": [
    "# clf = Pipeline([\n",
    "#     ('vect', TfidfVectorizer(tokenizer=tokenize_pos)),\n",
    "#     ('clf', MultinomialNB(alpha=0.01)),   \n",
    "# ])"
   ]
  },
  {
   "cell_type": "code",
   "execution_count": 83,
   "metadata": {},
   "outputs": [],
   "source": [
    "clf = Pipeline([\n",
    "    ('vect', TfidfVectorizer()),\n",
    "    ('clf', MultinomialNB(alpha=0.01)),   \n",
    "])"
   ]
  },
  {
   "cell_type": "code",
   "execution_count": 84,
   "metadata": {},
   "outputs": [],
   "source": [
    "model = clf.fit(X_train, y_train)"
   ]
  },
  {
   "cell_type": "markdown",
   "metadata": {},
   "source": [
    "### confusion matrix, classification report"
   ]
  },
  {
   "cell_type": "code",
   "execution_count": 85,
   "metadata": {},
   "outputs": [],
   "source": [
    "from sklearn.metrics import confusion_matrix, classification_report"
   ]
  },
  {
   "cell_type": "code",
   "execution_count": 86,
   "metadata": {},
   "outputs": [],
   "source": [
    "y_pred = model.predict(X_test)"
   ]
  },
  {
   "cell_type": "code",
   "execution_count": 87,
   "metadata": {},
   "outputs": [
    {
     "data": {
      "text/plain": [
       "array([[41,  1,  1,  0,  1,  0],\n",
       "       [ 0, 33,  2,  0,  1,  1],\n",
       "       [ 3,  0, 77,  2,  2,  1],\n",
       "       [ 1,  5,  2, 18,  0,  0],\n",
       "       [ 1,  1,  1,  0, 25,  0],\n",
       "       [ 0,  1,  0,  1,  0, 11]])"
      ]
     },
     "execution_count": 87,
     "metadata": {},
     "output_type": "execute_result"
    }
   ],
   "source": [
    "confusion_matrix(y_pred, y_test)"
   ]
  },
  {
   "cell_type": "code",
   "execution_count": 88,
   "metadata": {},
   "outputs": [
    {
     "name": "stdout",
     "output_type": "stream",
     "text": [
      "             precision    recall  f1-score   support\n",
      "\n",
      "          0       0.93      0.89      0.91        46\n",
      "          1       0.89      0.80      0.85        41\n",
      "          2       0.91      0.93      0.92        83\n",
      "          3       0.69      0.86      0.77        21\n",
      "          4       0.89      0.86      0.88        29\n",
      "          5       0.85      0.85      0.85        13\n",
      "\n",
      "avg / total       0.88      0.88      0.88       233\n",
      "\n"
     ]
    }
   ],
   "source": [
    "print(classification_report(y_test, y_pred))"
   ]
  },
  {
   "cell_type": "markdown",
   "metadata": {},
   "source": [
    "# prediction"
   ]
  },
  {
   "cell_type": "code",
   "execution_count": 89,
   "metadata": {},
   "outputs": [
    {
     "data": {
      "text/plain": [
       "('인천 송도 삼성바이오로직스 현장을 가다“삼성이 처음 핸드폰 사업을 시작할 때 망치로 핸드폰',\n",
       " '[구의역 사고를 보며] 청년을 위한 나라는 없다\\xa0[ 주동식 지역평등시민연대 대표]\\xa0요즘 사',\n",
       " ' [한겨레] 구의역·남양주 사고에 입법대책 분주더민주, 직접 고용법 제정안 발의국민의당, ')"
      ]
     },
     "execution_count": 89,
     "metadata": {},
     "output_type": "execute_result"
    }
   ],
   "source": [
    "X_test = X_test.reset_index(drop=True)\n",
    "X_test[0][:50], X_test[1][:50], X_test[2][:50]"
   ]
  },
  {
   "cell_type": "code",
   "execution_count": 90,
   "metadata": {},
   "outputs": [
    {
     "data": {
      "text/plain": [
       "array([1, 2, 0])"
      ]
     },
     "execution_count": 90,
     "metadata": {},
     "output_type": "execute_result"
    }
   ],
   "source": [
    "result = model.predict([X_test[0], X_test[1], X_test[2]])\n",
    "result"
   ]
  },
  {
   "cell_type": "code",
   "execution_count": 91,
   "metadata": {},
   "outputs": [
    {
     "name": "stdout",
     "output_type": "stream",
     "text": [
      "경제 - 인천 송도 삼성바이오로직스 현장을 가다“삼성이 처음 핸드폰 사업을 시작할 때 망치로 핸드폰\n",
      "사회 - [구의역 사고를 보며] 청년을 위한 나라는 없다 [ 주동식 지역평등시민연대 대표] 요즘 사\n",
      "정치 -  [한겨레] 구의역·남양주 사고에 입법대책 분주더민주, 직접 고용법 제정안 발의국민의당, \n"
     ]
    }
   ],
   "source": [
    "classification_dict = {\n",
    "    0:'정치', 1:'경제', 2:'사회',3:'생활/문화', 4:'세계', 5:'IT/과학'\n",
    "        \n",
    "}\n",
    "for idx, category in enumerate(result):\n",
    "    print(classification_dict[category], '-', X_test[idx][:50])"
   ]
  },
  {
   "cell_type": "markdown",
   "metadata": {},
   "source": [
    "### save and load model"
   ]
  },
  {
   "cell_type": "code",
   "execution_count": 92,
   "metadata": {},
   "outputs": [],
   "source": [
    "pickle.dump(model, open('classification.plk', 'wb'))"
   ]
  },
  {
   "cell_type": "code",
   "execution_count": 93,
   "metadata": {},
   "outputs": [],
   "source": [
    "load_model = pickle.load(open('classification.plk', 'rb'))"
   ]
  },
  {
   "cell_type": "code",
   "execution_count": 94,
   "metadata": {},
   "outputs": [
    {
     "data": {
      "text/plain": [
       "array([5, 0])"
      ]
     },
     "execution_count": 94,
     "metadata": {},
     "output_type": "execute_result"
    }
   ],
   "source": [
    "str1 = '네이버와 카카오는 드론 기술 발전에 주력'\n",
    "str2 = '요즘 환률과 주가는 예측이 불가'\n",
    "load_model.predict([str1, str2])"
   ]
  },
  {
   "cell_type": "code",
   "execution_count": 95,
   "metadata": {},
   "outputs": [
    {
     "data": {
      "text/plain": [
       "('IT/과학', '정치')"
      ]
     },
     "execution_count": 95,
     "metadata": {},
     "output_type": "execute_result"
    }
   ],
   "source": [
    "classification_dict[load_model.predict([str1])[0]], classification_dict[load_model.predict([str2])[0]]"
   ]
  },
  {
   "cell_type": "code",
   "execution_count": 96,
   "metadata": {},
   "outputs": [
    {
     "data": {
      "text/plain": [
       "array([[0.38518805, 0.35692534, 0.12105192, 0.04011175, 0.03158595,\n",
       "        0.065137  ]])"
      ]
     },
     "execution_count": 96,
     "metadata": {},
     "output_type": "execute_result"
    }
   ],
   "source": [
    "load_model.predict_proba([str2])"
   ]
  },
  {
   "cell_type": "code",
   "execution_count": null,
   "metadata": {},
   "outputs": [],
   "source": []
  },
  {
   "cell_type": "code",
   "execution_count": null,
   "metadata": {},
   "outputs": [],
   "source": []
  }
 ],
 "metadata": {
  "kernelspec": {
   "display_name": "Python 3",
   "language": "python",
   "name": "python3"
  },
  "language_info": {
   "codemirror_mode": {
    "name": "ipython",
    "version": 3
   },
   "file_extension": ".py",
   "mimetype": "text/x-python",
   "name": "python",
   "nbconvert_exporter": "python",
   "pygments_lexer": "ipython3",
   "version": "3.6.3"
  }
 },
 "nbformat": 4,
 "nbformat_minor": 2
}
