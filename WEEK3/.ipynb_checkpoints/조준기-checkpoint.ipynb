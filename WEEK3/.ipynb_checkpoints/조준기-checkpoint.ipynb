{
 "cells": [
  {
   "cell_type": "markdown",
   "metadata": {},
   "source": [
    "### Quiz"
   ]
  },
  {
   "cell_type": "code",
   "execution_count": 2,
   "metadata": {
    "collapsed": true
   },
   "outputs": [],
   "source": [
    "import numpy as np"
   ]
  },
  {
   "cell_type": "markdown",
   "metadata": {},
   "source": [
    "##### 1. 5개의 1로 이루어진 정수데이터 타입의 벡터를 만드세요 - ok"
   ]
  },
  {
   "cell_type": "code",
   "execution_count": 3,
   "metadata": {},
   "outputs": [
    {
     "data": {
      "text/plain": [
       "array([1, 1, 1, 1, 1])"
      ]
     },
     "execution_count": 3,
     "metadata": {},
     "output_type": "execute_result"
    }
   ],
   "source": [
    "# data = np.array([1,1,1,1,1], dtype = int)\n",
    "# data\n",
    "\n",
    "#or\n",
    "\n",
    "data1 = np.ones(5, dtype = int)\n",
    "data1"
   ]
  },
  {
   "cell_type": "markdown",
   "metadata": {},
   "source": [
    "##### 2. 10개의 1로 이루어진 정수 데이터 타입의 벡터에서 마지막 3개의 데이터는 5가 들어있는 벡터를 만드세요 -ok"
   ]
  },
  {
   "cell_type": "code",
   "execution_count": 91,
   "metadata": {},
   "outputs": [
    {
     "name": "stdout",
     "output_type": "stream",
     "text": [
      "[1 1 1 1 1 1 1 5 5 5]\n"
     ]
    }
   ],
   "source": [
    "data = np.ones(10, dtype = int)\n",
    "data[7:] = 5\n",
    "print(data)\n"
   ]
  },
  {
   "cell_type": "markdown",
   "metadata": {},
   "source": [
    "##### 3. 10에서 20까지의 데이터를 가지는 벡터를 만드세요 - ok"
   ]
  },
  {
   "cell_type": "code",
   "execution_count": 5,
   "metadata": {},
   "outputs": [
    {
     "data": {
      "text/plain": [
       "array([10, 11, 12, 13, 14, 15, 16, 17, 18, 19, 20])"
      ]
     },
     "execution_count": 5,
     "metadata": {},
     "output_type": "execute_result"
    }
   ],
   "source": [
    "data = np.arange(10, 21)\n",
    "data"
   ]
  },
  {
   "cell_type": "markdown",
   "metadata": {},
   "source": [
    "##### 4. 위 벡터의 순서를 바꾸세요 - ok"
   ]
  },
  {
   "cell_type": "code",
   "execution_count": 6,
   "metadata": {},
   "outputs": [
    {
     "data": {
      "text/plain": [
       "array([20, 19, 18, 17, 16, 15, 14, 13, 12, 11, 10])"
      ]
     },
     "execution_count": 6,
     "metadata": {},
     "output_type": "execute_result"
    }
   ],
   "source": [
    "data = np.arange(10, 21)[::-1]\n",
    "data"
   ]
  },
  {
   "cell_type": "markdown",
   "metadata": {},
   "source": [
    "##### 5. 0부터 8까지의 값을 가지는 3x3 행렬을 만드세요 - ok"
   ]
  },
  {
   "cell_type": "code",
   "execution_count": 7,
   "metadata": {},
   "outputs": [
    {
     "data": {
      "text/plain": [
       "array([[0, 1, 2],\n",
       "       [3, 4, 5],\n",
       "       [6, 7, 8]])"
      ]
     },
     "execution_count": 7,
     "metadata": {},
     "output_type": "execute_result"
    }
   ],
   "source": [
    "data = np.arange(0, 9).reshape(3,3)\n",
    "data"
   ]
  },
  {
   "cell_type": "markdown",
   "metadata": {},
   "source": [
    "##### 6. 위의 벡터에서  `[[4,5],[7,8]]`  행렬을 만드세요 - okay"
   ]
  },
  {
   "cell_type": "code",
   "execution_count": 13,
   "metadata": {},
   "outputs": [
    {
     "name": "stdout",
     "output_type": "stream",
     "text": [
      "[[0 1 2]\n",
      " [3 4 5]\n",
      " [6 7 8]]\n",
      "[[4 5]\n",
      " [7 8]]\n"
     ]
    }
   ],
   "source": [
    "data = np.arange(0, 9).reshape(3,3)\n",
    "print(data)\n",
    "data1 = data[1:,1:]\n",
    "print(data1)"
   ]
  },
  {
   "cell_type": "markdown",
   "metadata": {},
   "source": [
    "##### 7. 1에서 10까지의 데이터를 랜덤하게 가지는 3*4 행렬을 만드세요 - ok"
   ]
  },
  {
   "cell_type": "code",
   "execution_count": 14,
   "metadata": {},
   "outputs": [
    {
     "data": {
      "text/plain": [
       "array([[ 6,  9, 10,  6],\n",
       "       [ 1,  1,  2,  8],\n",
       "       [ 7, 10,  3,  5]])"
      ]
     },
     "execution_count": 14,
     "metadata": {},
     "output_type": "execute_result"
    }
   ],
   "source": [
    "np.random.seed(1) #fixed random number generate \n",
    "data = np.random.randint(1,11,(3,4))\n",
    "data"
   ]
  },
  {
   "cell_type": "markdown",
   "metadata": {},
   "source": [
    "##### 8. 위에서 만든 행렬의 unique 한 숫자들 리스트와 각숫자의 갯수를 리스트로 나타내세요 - ok"
   ]
  },
  {
   "cell_type": "code",
   "execution_count": 239,
   "metadata": {},
   "outputs": [
    {
     "data": {
      "text/plain": [
       "(array([ 1,  2,  3,  5,  6,  7,  8,  9, 10]),\n",
       " array([2, 1, 1, 1, 2, 1, 1, 1, 2]))"
      ]
     },
     "execution_count": 239,
     "metadata": {},
     "output_type": "execute_result"
    }
   ],
   "source": [
    "index, count = np.unique(data, return_counts=True)\n",
    "index, count"
   ]
  },
  {
   "cell_type": "markdown",
   "metadata": {},
   "source": [
    "##### 9. 1에서 12까지에 숫자가 들어간 3*4 행렬을 만드시고 행과 열에 관계없이 데이터를 섞으세요 - ok"
   ]
  },
  {
   "cell_type": "code",
   "execution_count": 240,
   "metadata": {},
   "outputs": [
    {
     "name": "stdout",
     "output_type": "stream",
     "text": [
      "random 3x4 matrix\n",
      " [[ 6 12  9 10]\n",
      " [12  6  1  1]\n",
      " [ 2  8  7 10]]\n",
      "\n",
      "shuffled 3x4 matrix\n",
      " [[12  6  1  1]\n",
      " [ 6 12  9 10]\n",
      " [ 2  8  7 10]]\n"
     ]
    }
   ],
   "source": [
    "np.random.seed(1) #fixed random number generate \n",
    "data = np.random.randint(1,13,(3,4))\n",
    "print(\"random 3x4 matrix\\n\", data)\n",
    "print()\n",
    "np.random.shuffle(data)\n",
    "print(\"shuffled 3x4 matrix\\n\",data)"
   ]
  },
  {
   "cell_type": "markdown",
   "metadata": {},
   "source": [
    "##### 10. 1부터 10까지의 랜덤한 데이터가 들어가는 `3*3`행렬을 만드시고 가장 아래에 위의 데이터를 모두 합한 `1*3`행렬을 추가해서 `4*3`행렬을 만드세요 - ok"
   ]
  },
  {
   "cell_type": "code",
   "execution_count": 93,
   "metadata": {},
   "outputs": [
    {
     "name": "stdout",
     "output_type": "stream",
     "text": [
      "[[ 6  9 10]\n",
      " [ 6  1  1]\n",
      " [ 2  8  7]]\n",
      "\n",
      "[14 18 18]\n",
      "\n",
      "[[ 6  9 10]\n",
      " [ 6  1  1]\n",
      " [ 2  8  7]\n",
      " [14 18 18]]\n"
     ]
    }
   ],
   "source": [
    "np.random.seed(1) #fixed random number generate \n",
    "data = np.random.randint(1,11,(3,3))\n",
    "print(data)\n",
    "print()\n",
    "data1 = data[0]  +  data[1] + data[2]   \n",
    "print(data1)\n",
    "print()\n",
    "data2 = np.vstack((data, data1))\n",
    "print(data2)\n"
   ]
  },
  {
   "cell_type": "markdown",
   "metadata": {},
   "source": [
    "##### 11. 10번문제의 결과로 나온 행렬데이터에서 평균값을 출력하고 평균값보다 큰 숫자들만 유니크한 리스트로 나열하세요 (평균값은 소수 둘째 자리까지만 나타내세요) - ok"
   ]
  },
  {
   "cell_type": "code",
   "execution_count": 94,
   "metadata": {},
   "outputs": [
    {
     "name": "stdout",
     "output_type": "stream",
     "text": [
      "avg :  8.33\n"
     ]
    },
    {
     "data": {
      "text/plain": [
       "array([ 9, 10, 14, 18])"
      ]
     },
     "execution_count": 94,
     "metadata": {},
     "output_type": "execute_result"
    }
   ],
   "source": [
    "avg_data2 = np.round(data2.mean(), decimals=2)\n",
    "print(\"avg : \", avg_data2)\n",
    "\n",
    "data3 = np.unique(data2[data2>avg_data2])\n",
    "data3\n"
   ]
  },
  {
   "cell_type": "markdown",
   "metadata": {},
   "source": [
    "##### 12. 1부터 20까지의 랜덤숫자를 가지는 5*5 행렬을 만드시고 최대값에는 숫자(MAX), 최소값에는 숫자(MIN)으로 행렬을 바꾸세요 - ok"
   ]
  },
  {
   "cell_type": "code",
   "execution_count": 105,
   "metadata": {},
   "outputs": [
    {
     "name": "stdout",
     "output_type": "stream",
     "text": [
      "[[ 9 16 14  9 12]\n",
      " [19 12  9  8  3]\n",
      " [18 12 16  6  8]\n",
      " [ 4  7  5 11 12]\n",
      " [20  8  7 11  2]]\n",
      "\n",
      "int64\n",
      "min : 2 \n",
      "max : 20\n"
     ]
    },
    {
     "data": {
      "text/plain": [
       "array([['9', '16', '2(min)', '9', '12'],\n",
       "       ['19', '12', '9', '8', '3'],\n",
       "       ['18', '12', '16', '6', '8'],\n",
       "       ['4', '7', '5', '11', '12'],\n",
       "       ['20(max)', '8', '7', '11', '2']], dtype='<U21')"
      ]
     },
     "execution_count": 105,
     "metadata": {},
     "output_type": "execute_result"
    }
   ],
   "source": [
    "import numpy.core.defchararray as np_f\n",
    "\n",
    "np.random.seed(2) #fixed random number generate \n",
    "data = np.random.randint(1,21,(5,5))\n",
    "print(data)\n",
    "print()\n",
    "\n",
    "data1 = data.flatten()\n",
    "\n",
    "min_data = data1.min()\n",
    "max_data = data1.max()\n",
    "\n",
    "print(\"min :\", min_data, \"\\nmax :\", max_data)\n",
    "\n",
    "\n",
    "data1 = data1.astype('U21')\n",
    "\n",
    "data1[min_data] = \"{}({})\".format(min_data, \"min\")\n",
    "data1[max_data] = \"{}({})\".format(max_data, \"max\")\n",
    "\n",
    "data2 = data1.reshape(5,5)\n",
    "data2"
   ]
  },
  {
   "cell_type": "markdown",
   "metadata": {},
   "source": [
    "##### 13. 100에서 130까지의 랜덤 숫자를 가지는 8*8행렬을 만드시고 3의 배수에는 fiz, 5의 배수에는 buz, 3과 5의 배수는 fbz 문자를 출력하세요"
   ]
  },
  {
   "cell_type": "code",
   "execution_count": 109,
   "metadata": {},
   "outputs": [
    {
     "name": "stdout",
     "output_type": "stream",
     "text": [
      "[[110 124 125 103 124 108 100 121]\n",
      " [129 119 110 111 125 109 110 121]\n",
      " [123 106 100 120 112 129 107 114]\n",
      " [124 126 117 126 122 102 102 128]\n",
      " [101 119 126 105 108 114 101 129]\n",
      " [110 124 127 130 107 124 111 101]\n",
      " [127 115 116 105 120 130 117 121]\n",
      " [114 120 128 123 122 100 100 109]]\n",
      "\n"
     ]
    },
    {
     "ename": "IndexError",
     "evalue": "index 120 is out of bounds for axis 0 with size 64",
     "output_type": "error",
     "traceback": [
      "\u001b[0;31m---------------------------------------------------------------------------\u001b[0m",
      "\u001b[0;31mIndexError\u001b[0m                                Traceback (most recent call last)",
      "\u001b[0;32m<ipython-input-109-96ad1cfcd854>\u001b[0m in \u001b[0;36m<module>\u001b[0;34m()\u001b[0m\n\u001b[1;32m     19\u001b[0m \u001b[0mdata1\u001b[0m \u001b[0;34m=\u001b[0m \u001b[0mdata1\u001b[0m\u001b[0;34m.\u001b[0m\u001b[0mastype\u001b[0m\u001b[0;34m(\u001b[0m\u001b[0;34m'U21'\u001b[0m\u001b[0;34m)\u001b[0m\u001b[0;34m\u001b[0m\u001b[0m\n\u001b[1;32m     20\u001b[0m \u001b[0;34m\u001b[0m\u001b[0m\n\u001b[0;32m---> 21\u001b[0;31m \u001b[0mdata1\u001b[0m\u001b[0;34m[\u001b[0m\u001b[0mfzbb\u001b[0m\u001b[0;34m]\u001b[0m \u001b[0;34m=\u001b[0m \u001b[0;34m\"{}\"\u001b[0m\u001b[0;34m.\u001b[0m\u001b[0mformat\u001b[0m\u001b[0;34m(\u001b[0m\u001b[0;34m\"fzbb\"\u001b[0m\u001b[0;34m)\u001b[0m\u001b[0;34m\u001b[0m\u001b[0m\n\u001b[0m\u001b[1;32m     22\u001b[0m \u001b[0mdata1\u001b[0m\u001b[0;34m[\u001b[0m\u001b[0mfizz\u001b[0m\u001b[0;34m]\u001b[0m \u001b[0;34m=\u001b[0m \u001b[0;34m\"{}\"\u001b[0m\u001b[0;34m.\u001b[0m\u001b[0mformat\u001b[0m\u001b[0;34m(\u001b[0m\u001b[0;34m\"fizz\"\u001b[0m\u001b[0;34m)\u001b[0m\u001b[0;34m\u001b[0m\u001b[0m\n\u001b[1;32m     23\u001b[0m \u001b[0mdata1\u001b[0m\u001b[0;34m[\u001b[0m\u001b[0mbuzz\u001b[0m\u001b[0;34m]\u001b[0m \u001b[0;34m=\u001b[0m \u001b[0;34m\"{}\"\u001b[0m\u001b[0;34m.\u001b[0m\u001b[0mformat\u001b[0m\u001b[0;34m(\u001b[0m\u001b[0;34m\"buzz\"\u001b[0m\u001b[0;34m)\u001b[0m\u001b[0;34m\u001b[0m\u001b[0m\n",
      "\u001b[0;31mIndexError\u001b[0m: index 120 is out of bounds for axis 0 with size 64"
     ]
    }
   ],
   "source": [
    "np.random.seed(3) #fixed random number generate \n",
    "data = np.random.randint(100,131,(8,8))\n",
    "print(data)\n",
    "print()\n",
    "\n",
    "data1 = data.flatten()\n",
    "\n",
    "\n",
    "for idx in data1:\n",
    "    if idx % 3 ==0 and idx % 5 == 0:\n",
    "        fzbb = idx\n",
    "    elif idx % 3 ==0:\n",
    "        fizz = idx\n",
    "    elif idx % 5 ==0:\n",
    "        buzz = idx\n",
    "    else:\n",
    "        idx = idx\n",
    "\n",
    "data1 = data1.astype('U21')\n",
    "\n",
    "data1[fzbb] = \"{}\".format(\"fzbb\")\n",
    "data1[fizz] = \"{}\".format(\"fizz\")\n",
    "data1[buzz] = \"{}\".format(\"buzz\")\n",
    "\n",
    "data2 = data1.reshape(8,8)\n",
    "data2\n",
    "    "
   ]
  },
  {
   "cell_type": "code",
   "execution_count": 19,
   "metadata": {},
   "outputs": [
    {
     "data": {
      "text/plain": [
       "array([[115, 115, 129, 116, 106],\n",
       "       [128, 107, 102, 110, 122],\n",
       "       [110, 124, 118, 126, 116],\n",
       "       [105, 110, 105, 111, 119],\n",
       "       [121, 113, 121, 117, 118]])"
      ]
     },
     "execution_count": 19,
     "metadata": {},
     "output_type": "execute_result"
    }
   ],
   "source": []
  },
  {
   "cell_type": "code",
   "execution_count": 20,
   "metadata": {
    "collapsed": true
   },
   "outputs": [],
   "source": []
  },
  {
   "cell_type": "code",
   "execution_count": 21,
   "metadata": {},
   "outputs": [
    {
     "data": {
      "text/plain": [
       "array([['buz', 'buz', 'fiz', '116', '106'],\n",
       "       ['128', '107', 'fiz', 'buz', '122'],\n",
       "       ['buz', '124', '118', 'fiz', '116'],\n",
       "       ['fbz', 'buz', 'fbz', 'fiz', '119'],\n",
       "       ['121', '113', '121', 'fiz', '118']], dtype='<U21')"
      ]
     },
     "execution_count": 21,
     "metadata": {},
     "output_type": "execute_result"
    }
   ],
   "source": []
  },
  {
   "cell_type": "markdown",
   "metadata": {},
   "source": [
    "##### 14. 리스트 컴프리헨션을 이용하여 아래와 같은 규칙은 갖는 행렬을 만드세요"
   ]
  },
  {
   "cell_type": "code",
   "execution_count": 60,
   "metadata": {},
   "outputs": [
    {
     "name": "stdout",
     "output_type": "stream",
     "text": [
      "[1 2 3 4 5 6 7]\n",
      "[ 2  4  6  8 10 12 14]\n",
      "[ 3  6  9 12 15 18 21]\n",
      "[ 4  8 12 16 20 24 28]\n",
      "[ 5 10 15 20 25 30 35]\n",
      "[ 6 12 18 24 30 36 42]\n",
      "[ 7 14 21 28 35 42 49]\n"
     ]
    },
    {
     "data": {
      "text/plain": [
       "array([[ 7, 14, 21, 28, 35, 42, 49],\n",
       "       [ 7, 14, 21, 28, 35, 42, 49]])"
      ]
     },
     "execution_count": 60,
     "metadata": {},
     "output_type": "execute_result"
    }
   ],
   "source": [
    "numbers = 7\n",
    "\n",
    "for idx in range(1, numbers+1):\n",
    "    data = np.arange(1, numbers+1)*idx\n",
    "    print(data)\n",
    "    data_sum = np.vstack((data, data))\n",
    "\n",
    "data_sum"
   ]
  },
  {
   "cell_type": "code",
   "execution_count": 22,
   "metadata": {},
   "outputs": [
    {
     "name": "stdout",
     "output_type": "stream",
     "text": [
      "number :  5\n"
     ]
    },
    {
     "data": {
      "text/plain": [
       "array([[ 1,  2,  3,  4,  5],\n",
       "       [ 2,  4,  6,  8, 10],\n",
       "       [ 3,  6,  9, 12, 15],\n",
       "       [ 4,  8, 12, 16, 20],\n",
       "       [ 5, 10, 15, 20, 25]])"
      ]
     },
     "execution_count": 22,
     "metadata": {},
     "output_type": "execute_result"
    }
   ],
   "source": []
  },
  {
   "cell_type": "code",
   "execution_count": null,
   "metadata": {
    "collapsed": true
   },
   "outputs": [],
   "source": []
  },
  {
   "cell_type": "code",
   "execution_count": 23,
   "metadata": {},
   "outputs": [
    {
     "name": "stdout",
     "output_type": "stream",
     "text": [
      "number :  7\n"
     ]
    },
    {
     "data": {
      "text/plain": [
       "array([[ 1,  2,  3,  4,  5,  6,  7],\n",
       "       [ 2,  4,  6,  8, 10, 12, 14],\n",
       "       [ 3,  6,  9, 12, 15, 18, 21],\n",
       "       [ 4,  8, 12, 16, 20, 24, 28],\n",
       "       [ 5, 10, 15, 20, 25, 30, 35],\n",
       "       [ 6, 12, 18, 24, 30, 36, 42],\n",
       "       [ 7, 14, 21, 28, 35, 42, 49]])"
      ]
     },
     "execution_count": 23,
     "metadata": {},
     "output_type": "execute_result"
    }
   ],
   "source": []
  }
 ],
 "metadata": {
  "kernelspec": {
   "display_name": "Python 3",
   "language": "python",
   "name": "python3"
  },
  "language_info": {
   "codemirror_mode": {
    "name": "ipython",
    "version": 3
   },
   "file_extension": ".py",
   "mimetype": "text/x-python",
   "name": "python",
   "nbconvert_exporter": "python",
   "pygments_lexer": "ipython3",
   "version": "3.6.3"
  }
 },
 "nbformat": 4,
 "nbformat_minor": 2
}
