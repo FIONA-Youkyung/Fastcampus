{
 "cells": [
  {
   "cell_type": "code",
   "execution_count": 7,
   "metadata": {
    "collapsed": true
   },
   "outputs": [],
   "source": [
    "import os"
   ]
  },
  {
   "cell_type": "code",
   "execution_count": 8,
   "metadata": {},
   "outputs": [
    {
     "ename": "FileExistsError",
     "evalue": "[Errno 17] File exists: 'os_dir'",
     "output_type": "error",
     "traceback": [
      "\u001b[0;31m---------------------------------------------------------------------------\u001b[0m",
      "\u001b[0;31mFileExistsError\u001b[0m                           Traceback (most recent call last)",
      "\u001b[0;32m<ipython-input-8-bb35e751a2d2>\u001b[0m in \u001b[0;36m<module>\u001b[0;34m()\u001b[0m\n\u001b[0;32m----> 1\u001b[0;31m \u001b[0mos\u001b[0m\u001b[0;34m.\u001b[0m\u001b[0mmakedirs\u001b[0m\u001b[0;34m(\u001b[0m\u001b[0;34m\"os_dir\"\u001b[0m\u001b[0;34m)\u001b[0m\u001b[0;34m\u001b[0m\u001b[0m\n\u001b[0m",
      "\u001b[0;32m~/enter/lib/python3.6/os.py\u001b[0m in \u001b[0;36mmakedirs\u001b[0;34m(name, mode, exist_ok)\u001b[0m\n\u001b[1;32m    218\u001b[0m             \u001b[0;32mreturn\u001b[0m\u001b[0;34m\u001b[0m\u001b[0m\n\u001b[1;32m    219\u001b[0m     \u001b[0;32mtry\u001b[0m\u001b[0;34m:\u001b[0m\u001b[0;34m\u001b[0m\u001b[0m\n\u001b[0;32m--> 220\u001b[0;31m         \u001b[0mmkdir\u001b[0m\u001b[0;34m(\u001b[0m\u001b[0mname\u001b[0m\u001b[0;34m,\u001b[0m \u001b[0mmode\u001b[0m\u001b[0;34m)\u001b[0m\u001b[0;34m\u001b[0m\u001b[0m\n\u001b[0m\u001b[1;32m    221\u001b[0m     \u001b[0;32mexcept\u001b[0m \u001b[0mOSError\u001b[0m\u001b[0;34m:\u001b[0m\u001b[0;34m\u001b[0m\u001b[0m\n\u001b[1;32m    222\u001b[0m         \u001b[0;31m# Cannot rely on checking for EEXIST, since the operating system\u001b[0m\u001b[0;34m\u001b[0m\u001b[0;34m\u001b[0m\u001b[0m\n",
      "\u001b[0;31mFileExistsError\u001b[0m: [Errno 17] File exists: 'os_dir'"
     ]
    }
   ],
   "source": [
    "os.makedirs(\"os_dir\")"
   ]
  },
  {
   "cell_type": "code",
   "execution_count": 3,
   "metadata": {},
   "outputs": [
    {
     "name": "stdout",
     "output_type": "stream",
     "text": [
      "09_os.ipynb  10_thread.ipynb  11_regex.ipynb  os_dir  practice week3.ipynb\r\n"
     ]
    }
   ],
   "source": [
    "!ls"
   ]
  },
  {
   "cell_type": "code",
   "execution_count": 17,
   "metadata": {
    "collapsed": true
   },
   "outputs": [],
   "source": [
    "s = \"data science\"\n",
    "\n",
    "with open(\"os_dir/test1.txt\", \"wt\") as f:\n",
    "    f.write(s)\n",
    "    \n",
    "with open(\"os_dir/test2.txt\", \"wt\") as f:\n",
    "    f.write(s)\n",
    "\n",
    "with open(\"os_dir/test3.csv\", \"wt\") as f:\n",
    "    f.write(s)\n",
    "\n"
   ]
  },
  {
   "cell_type": "code",
   "execution_count": 18,
   "metadata": {},
   "outputs": [
    {
     "name": "stdout",
     "output_type": "stream",
     "text": [
      "test1.txt  test2.csv  test2.txt  test3.csv  test3.txt\r\n"
     ]
    }
   ],
   "source": [
    "!ls os_dir"
   ]
  },
  {
   "cell_type": "code",
   "execution_count": 19,
   "metadata": {},
   "outputs": [
    {
     "name": "stdout",
     "output_type": "stream",
     "text": [
      "['test3.csv', 'test2.txt', 'test3.txt', 'test1.txt', 'test2.csv']\n"
     ]
    }
   ],
   "source": [
    "file_list = os.listdir(\"os_dir\")\n",
    "print(file_list)"
   ]
  },
  {
   "cell_type": "code",
   "execution_count": 20,
   "metadata": {},
   "outputs": [
    {
     "name": "stdout",
     "output_type": "stream",
     "text": [
      "['test2.txt', 'test3.txt', 'test1.txt']\n"
     ]
    }
   ],
   "source": [
    "result_1 = [ file_name for file_name in file_list if file_name.endswith(\".txt\")]\n",
    "print(result_1)"
   ]
  },
  {
   "cell_type": "code",
   "execution_count": 21,
   "metadata": {
    "collapsed": true
   },
   "outputs": [],
   "source": [
    "file_name = \"test3.csv\"\n",
    "os.remove(\"os_dir/\" + file_name)"
   ]
  },
  {
   "cell_type": "code",
   "execution_count": 22,
   "metadata": {},
   "outputs": [
    {
     "name": "stdout",
     "output_type": "stream",
     "text": [
      "test1.txt  test2.csv  test2.txt  test3.txt\r\n"
     ]
    }
   ],
   "source": [
    "!ls os_dir"
   ]
  },
  {
   "cell_type": "code",
   "execution_count": 24,
   "metadata": {},
   "outputs": [
    {
     "ename": "OSError",
     "evalue": "[Errno 39] Directory not empty: 'os_dir/'",
     "output_type": "error",
     "traceback": [
      "\u001b[0;31m---------------------------------------------------------------------------\u001b[0m",
      "\u001b[0;31mOSError\u001b[0m                                   Traceback (most recent call last)",
      "\u001b[0;32m<ipython-input-24-2767bb254829>\u001b[0m in \u001b[0;36m<module>\u001b[0;34m()\u001b[0m\n\u001b[0;32m----> 1\u001b[0;31m \u001b[0mos\u001b[0m\u001b[0;34m.\u001b[0m\u001b[0mremovedirs\u001b[0m\u001b[0;34m(\u001b[0m\u001b[0;34m\"os_dir/\"\u001b[0m\u001b[0;34m)\u001b[0m\u001b[0;34m\u001b[0m\u001b[0m\n\u001b[0m",
      "\u001b[0;32m~/enter/lib/python3.6/os.py\u001b[0m in \u001b[0;36mremovedirs\u001b[0;34m(name)\u001b[0m\n\u001b[1;32m    236\u001b[0m \u001b[0;34m\u001b[0m\u001b[0m\n\u001b[1;32m    237\u001b[0m     \"\"\"\n\u001b[0;32m--> 238\u001b[0;31m     \u001b[0mrmdir\u001b[0m\u001b[0;34m(\u001b[0m\u001b[0mname\u001b[0m\u001b[0;34m)\u001b[0m\u001b[0;34m\u001b[0m\u001b[0m\n\u001b[0m\u001b[1;32m    239\u001b[0m     \u001b[0mhead\u001b[0m\u001b[0;34m,\u001b[0m \u001b[0mtail\u001b[0m \u001b[0;34m=\u001b[0m \u001b[0mpath\u001b[0m\u001b[0;34m.\u001b[0m\u001b[0msplit\u001b[0m\u001b[0;34m(\u001b[0m\u001b[0mname\u001b[0m\u001b[0;34m)\u001b[0m\u001b[0;34m\u001b[0m\u001b[0m\n\u001b[1;32m    240\u001b[0m     \u001b[0;32mif\u001b[0m \u001b[0;32mnot\u001b[0m \u001b[0mtail\u001b[0m\u001b[0;34m:\u001b[0m\u001b[0;34m\u001b[0m\u001b[0m\n",
      "\u001b[0;31mOSError\u001b[0m: [Errno 39] Directory not empty: 'os_dir/'"
     ]
    }
   ],
   "source": [
    "os.removedirs(\"os_dir/\")"
   ]
  },
  {
   "cell_type": "code",
   "execution_count": null,
   "metadata": {
    "collapsed": true
   },
   "outputs": [],
   "source": []
  },
  {
   "cell_type": "code",
   "execution_count": null,
   "metadata": {
    "collapsed": true
   },
   "outputs": [],
   "source": []
  },
  {
   "cell_type": "code",
   "execution_count": 25,
   "metadata": {
    "collapsed": true
   },
   "outputs": [],
   "source": [
    "import threading"
   ]
  },
  {
   "cell_type": "code",
   "execution_count": 26,
   "metadata": {
    "collapsed": true
   },
   "outputs": [],
   "source": [
    "ls1 = []\n",
    "ls2 = []\n",
    "\n",
    "def threading_func_1(number=1000):\n",
    "    for idx in range(number):\n",
    "        ls1.append(idx)\n",
    "        if idx % 100 == 0:\n",
    "            print(\"ls1:\", idx)\n",
    "            \n",
    "\n",
    "def threading_func_2(number=1000):\n",
    "    for idx in range(number):\n",
    "        ls2.append(idx)\n",
    "        if idx % 100 == 0:\n",
    "            print(\"ls2:\", idx)\n",
    "        "
   ]
  },
  {
   "cell_type": "code",
   "execution_count": 28,
   "metadata": {},
   "outputs": [
    {
     "name": "stdout",
     "output_type": "stream",
     "text": [
      "ls2:ls1: 0 \n",
      "0ls2:\n",
      " ls1:100 \n",
      "100ls2:\n",
      " ls1:200 \n",
      "200ls2:\n",
      " ls1:300 \n",
      "300ls2:\n",
      " ls1:400 \n",
      "400ls2:\n",
      " ls1:500 \n",
      "500ls2:\n",
      " ls1:600 \n",
      "600ls2:\n",
      " ls1:700 \n",
      "700ls2:\n",
      "ls1:  800800\n",
      "\n",
      "ls2:ls1:  900900\n",
      "\n",
      "ls2: 1000\n",
      "ls2: 1100\n",
      "ls2: 1200\n",
      "ls2: 1300\n",
      "ls2: 1400\n",
      "ls2: 1500\n",
      "ls2: 1600\n",
      "ls2: 1700\n",
      "ls2: 1800\n",
      "ls2: 1900\n",
      "ls2: 2000\n",
      "ls2: 2100\n",
      "ls2: 2200\n",
      "ls2: 2300\n",
      "ls2: 2400\n",
      "ls2: 2500\n",
      "ls2: 2600\n",
      "ls2: 2700\n",
      "ls2: 2800\n",
      "ls2: 2900\n"
     ]
    }
   ],
   "source": [
    "th1 = threading.Thread(target = threading_func_1, args=(1000, ))\n",
    "th1.start()\n",
    "th2 = threading.Thread(target = threading_func_2, args=(3000, ))\n",
    "th2.start()"
   ]
  },
  {
   "cell_type": "code",
   "execution_count": 9,
   "metadata": {},
   "outputs": [
    {
     "data": {
      "text/html": [
       "<div>\n",
       "<style>\n",
       "    .dataframe thead tr:only-child th {\n",
       "        text-align: right;\n",
       "    }\n",
       "\n",
       "    .dataframe thead th {\n",
       "        text-align: left;\n",
       "    }\n",
       "\n",
       "    .dataframe tbody tr th {\n",
       "        vertical-align: top;\n",
       "    }\n",
       "</style>\n",
       "<table border=\"1\" class=\"dataframe\">\n",
       "  <thead>\n",
       "    <tr style=\"text-align: right;\">\n",
       "      <th></th>\n",
       "      <th>0</th>\n",
       "      <th>1</th>\n",
       "      <th>2</th>\n",
       "    </tr>\n",
       "  </thead>\n",
       "  <tbody>\n",
       "    <tr>\n",
       "      <th>0</th>\n",
       "      <td>0</td>\n",
       "      <td>0</td>\n",
       "      <td>0</td>\n",
       "    </tr>\n",
       "    <tr>\n",
       "      <th>1</th>\n",
       "      <td>1</td>\n",
       "      <td>0</td>\n",
       "      <td>-1</td>\n",
       "    </tr>\n",
       "    <tr>\n",
       "      <th>2</th>\n",
       "      <td>0</td>\n",
       "      <td>0</td>\n",
       "      <td>0</td>\n",
       "    </tr>\n",
       "  </tbody>\n",
       "</table>\n",
       "</div>"
      ],
      "text/plain": [
       "   0  1  2\n",
       "0  0  0  0\n",
       "1  1  0 -1\n",
       "2  0  0  0"
      ]
     },
     "execution_count": 9,
     "metadata": {},
     "output_type": "execute_result"
    }
   ],
   "source": [
    "import pandas as pd\n",
    "import numpy as np\n",
    "\n",
    "df = pd.DataFrame(np.random.randn(3, 3), dtype = int)\n",
    "df\n"
   ]
  },
  {
   "cell_type": "code",
   "execution_count": 1,
   "metadata": {
    "collapsed": true
   },
   "outputs": [],
   "source": [
    "import pandas as pd\n",
    "import numpy as np\n",
    "import matplotlib as plt"
   ]
  },
  {
   "cell_type": "code",
   "execution_count": 12,
   "metadata": {},
   "outputs": [
    {
     "data": {
      "text/plain": [
       "0    1.0\n",
       "1    2.0\n",
       "2    3.0\n",
       "3    NaN\n",
       "4    6.0\n",
       "5    8.0\n",
       "dtype: float64"
      ]
     },
     "execution_count": 12,
     "metadata": {},
     "output_type": "execute_result"
    }
   ],
   "source": [
    "s= pd.Series([1,2,3,np.nan,6,8])\n",
    "s"
   ]
  },
  {
   "cell_type": "code",
   "execution_count": 16,
   "metadata": {},
   "outputs": [
    {
     "data": {
      "text/plain": [
       "DatetimeIndex(['2013-01-01', '2013-01-02', '2013-01-03', '2013-01-04',\n",
       "               '2013-01-05', '2013-01-06'],\n",
       "              dtype='datetime64[ns]', freq='D')"
      ]
     },
     "execution_count": 16,
     "metadata": {},
     "output_type": "execute_result"
    }
   ],
   "source": [
    "dates = pd.date_range('20130101', periods=6)\n",
    "dates"
   ]
  },
  {
   "cell_type": "code",
   "execution_count": 47,
   "metadata": {
    "collapsed": true
   },
   "outputs": [],
   "source": [
    "nums = []\n",
    "for num in range(0,6):\n",
    "    nums.append(num)\n",
    "\n",
    "dates = nums"
   ]
  },
  {
   "cell_type": "code",
   "execution_count": 48,
   "metadata": {},
   "outputs": [
    {
     "data": {
      "text/html": [
       "<div>\n",
       "<style>\n",
       "    .dataframe thead tr:only-child th {\n",
       "        text-align: right;\n",
       "    }\n",
       "\n",
       "    .dataframe thead th {\n",
       "        text-align: left;\n",
       "    }\n",
       "\n",
       "    .dataframe tbody tr th {\n",
       "        vertical-align: top;\n",
       "    }\n",
       "</style>\n",
       "<table border=\"1\" class=\"dataframe\">\n",
       "  <thead>\n",
       "    <tr style=\"text-align: right;\">\n",
       "      <th></th>\n",
       "      <th>A</th>\n",
       "      <th>B</th>\n",
       "      <th>C</th>\n",
       "      <th>D</th>\n",
       "    </tr>\n",
       "  </thead>\n",
       "  <tbody>\n",
       "    <tr>\n",
       "      <th>0</th>\n",
       "      <td>1.228726</td>\n",
       "      <td>-0.819638</td>\n",
       "      <td>0.316883</td>\n",
       "      <td>-1.274699</td>\n",
       "    </tr>\n",
       "    <tr>\n",
       "      <th>1</th>\n",
       "      <td>0.500531</td>\n",
       "      <td>1.312805</td>\n",
       "      <td>0.422591</td>\n",
       "      <td>0.458943</td>\n",
       "    </tr>\n",
       "    <tr>\n",
       "      <th>2</th>\n",
       "      <td>-0.179171</td>\n",
       "      <td>-1.365223</td>\n",
       "      <td>0.428212</td>\n",
       "      <td>0.205888</td>\n",
       "    </tr>\n",
       "    <tr>\n",
       "      <th>3</th>\n",
       "      <td>0.452646</td>\n",
       "      <td>-1.527801</td>\n",
       "      <td>0.871736</td>\n",
       "      <td>1.485619</td>\n",
       "    </tr>\n",
       "    <tr>\n",
       "      <th>4</th>\n",
       "      <td>0.349638</td>\n",
       "      <td>-0.225804</td>\n",
       "      <td>0.070677</td>\n",
       "      <td>0.427922</td>\n",
       "    </tr>\n",
       "    <tr>\n",
       "      <th>5</th>\n",
       "      <td>1.312072</td>\n",
       "      <td>1.449723</td>\n",
       "      <td>0.530833</td>\n",
       "      <td>1.962786</td>\n",
       "    </tr>\n",
       "  </tbody>\n",
       "</table>\n",
       "</div>"
      ],
      "text/plain": [
       "          A         B         C         D\n",
       "0  1.228726 -0.819638  0.316883 -1.274699\n",
       "1  0.500531  1.312805  0.422591  0.458943\n",
       "2 -0.179171 -1.365223  0.428212  0.205888\n",
       "3  0.452646 -1.527801  0.871736  1.485619\n",
       "4  0.349638 -0.225804  0.070677  0.427922\n",
       "5  1.312072  1.449723  0.530833  1.962786"
      ]
     },
     "execution_count": 48,
     "metadata": {},
     "output_type": "execute_result"
    }
   ],
   "source": [
    "\n",
    "df = pd.DataFrame(np.random.randn(6,4), index = dates, columns=list('ABCD'))\n",
    "df"
   ]
  },
  {
   "cell_type": "code",
   "execution_count": 54,
   "metadata": {},
   "outputs": [
    {
     "data": {
      "text/html": [
       "<div>\n",
       "<style>\n",
       "    .dataframe thead tr:only-child th {\n",
       "        text-align: right;\n",
       "    }\n",
       "\n",
       "    .dataframe thead th {\n",
       "        text-align: left;\n",
       "    }\n",
       "\n",
       "    .dataframe tbody tr th {\n",
       "        vertical-align: top;\n",
       "    }\n",
       "</style>\n",
       "<table border=\"1\" class=\"dataframe\">\n",
       "  <thead>\n",
       "    <tr style=\"text-align: right;\">\n",
       "      <th></th>\n",
       "      <th>A</th>\n",
       "      <th>D</th>\n",
       "      <th>E</th>\n",
       "      <th>F</th>\n",
       "      <th>b</th>\n",
       "      <th>c</th>\n",
       "    </tr>\n",
       "  </thead>\n",
       "  <tbody>\n",
       "    <tr>\n",
       "      <th>0</th>\n",
       "      <td>1</td>\n",
       "      <td>3</td>\n",
       "      <td>test</td>\n",
       "      <td>foo</td>\n",
       "      <td>2013-01-02</td>\n",
       "      <td>1.0</td>\n",
       "    </tr>\n",
       "    <tr>\n",
       "      <th>1</th>\n",
       "      <td>1</td>\n",
       "      <td>3</td>\n",
       "      <td>train</td>\n",
       "      <td>foo</td>\n",
       "      <td>2013-01-02</td>\n",
       "      <td>1.0</td>\n",
       "    </tr>\n",
       "    <tr>\n",
       "      <th>2</th>\n",
       "      <td>1</td>\n",
       "      <td>3</td>\n",
       "      <td>test</td>\n",
       "      <td>foo</td>\n",
       "      <td>2013-01-02</td>\n",
       "      <td>1.0</td>\n",
       "    </tr>\n",
       "    <tr>\n",
       "      <th>3</th>\n",
       "      <td>1</td>\n",
       "      <td>3</td>\n",
       "      <td>train</td>\n",
       "      <td>foo</td>\n",
       "      <td>2013-01-02</td>\n",
       "      <td>1.0</td>\n",
       "    </tr>\n",
       "  </tbody>\n",
       "</table>\n",
       "</div>"
      ],
      "text/plain": [
       "   A  D      E    F          b    c\n",
       "0  1  3   test  foo 2013-01-02  1.0\n",
       "1  1  3  train  foo 2013-01-02  1.0\n",
       "2  1  3   test  foo 2013-01-02  1.0\n",
       "3  1  3  train  foo 2013-01-02  1.0"
      ]
     },
     "execution_count": 54,
     "metadata": {},
     "output_type": "execute_result"
    }
   ],
   "source": [
    "df2 = pd.DataFrame({    'A': 1,\n",
    "                        'b': pd.Timestamp('20130102'),\n",
    "                        'c': pd.Series(1, index=list(range(4)),dtype='float32'),\n",
    "                        'D': np.array([3] * 4,dtype='int32'),\n",
    "                        'E': pd.Categorical([\"test\", \"train\", \"test\", \"train\"]),\n",
    "                        'F': 'foo' })\n",
    "df2"
   ]
  },
  {
   "cell_type": "code",
   "execution_count": 53,
   "metadata": {},
   "outputs": [
    {
     "data": {
      "text/html": [
       "<div>\n",
       "<style>\n",
       "    .dataframe thead tr:only-child th {\n",
       "        text-align: right;\n",
       "    }\n",
       "\n",
       "    .dataframe thead th {\n",
       "        text-align: left;\n",
       "    }\n",
       "\n",
       "    .dataframe tbody tr th {\n",
       "        vertical-align: top;\n",
       "    }\n",
       "</style>\n",
       "<table border=\"1\" class=\"dataframe\">\n",
       "  <thead>\n",
       "    <tr style=\"text-align: right;\">\n",
       "      <th></th>\n",
       "      <th>A</th>\n",
       "      <th>B</th>\n",
       "      <th>C</th>\n",
       "      <th>D</th>\n",
       "      <th>E</th>\n",
       "      <th>F</th>\n",
       "    </tr>\n",
       "  </thead>\n",
       "  <tbody>\n",
       "    <tr>\n",
       "      <th>0</th>\n",
       "      <td>1.0</td>\n",
       "      <td>2013-01-02</td>\n",
       "      <td>1.0</td>\n",
       "      <td>3</td>\n",
       "      <td>test</td>\n",
       "      <td>foo</td>\n",
       "    </tr>\n",
       "    <tr>\n",
       "      <th>1</th>\n",
       "      <td>1.0</td>\n",
       "      <td>2013-01-02</td>\n",
       "      <td>1.0</td>\n",
       "      <td>3</td>\n",
       "      <td>train</td>\n",
       "      <td>foo</td>\n",
       "    </tr>\n",
       "    <tr>\n",
       "      <th>2</th>\n",
       "      <td>1.0</td>\n",
       "      <td>2013-01-02</td>\n",
       "      <td>1.0</td>\n",
       "      <td>3</td>\n",
       "      <td>test</td>\n",
       "      <td>foo</td>\n",
       "    </tr>\n",
       "    <tr>\n",
       "      <th>3</th>\n",
       "      <td>1.0</td>\n",
       "      <td>2013-01-02</td>\n",
       "      <td>1.0</td>\n",
       "      <td>3</td>\n",
       "      <td>train</td>\n",
       "      <td>foo</td>\n",
       "    </tr>\n",
       "  </tbody>\n",
       "</table>\n",
       "</div>"
      ],
      "text/plain": [
       "     A          B    C  D      E    F\n",
       "0  1.0 2013-01-02  1.0  3   test  foo\n",
       "1  1.0 2013-01-02  1.0  3  train  foo\n",
       "2  1.0 2013-01-02  1.0  3   test  foo\n",
       "3  1.0 2013-01-02  1.0  3  train  foo"
      ]
     },
     "execution_count": 53,
     "metadata": {},
     "output_type": "execute_result"
    }
   ],
   "source": [
    "df2 = pd.DataFrame({ 'A' : 1.,\n",
    "   ....:                      'B' : pd.Timestamp('20130102'),\n",
    "   ....:                      'C' : pd.Series(1,index=list(range(4)),dtype='float32'),\n",
    "   ....:                      'D' : np.array([3] * 4,dtype='int32'),\n",
    "   ....:                      'E' : pd.Categorical([\"test\",\"train\",\"test\",\"train\"]),\n",
    "   ....:                      'F' : 'foo' })\n",
    "df2"
   ]
  },
  {
   "cell_type": "code",
   "execution_count": 8,
   "metadata": {
    "collapsed": true
   },
   "outputs": [],
   "source": [
    "import matplotlib.path as mpath\n",
    "import matplotlib.patches as mpatches\n",
    "import matplotlib.pyplot as plt\n",
    "import numpy as np\n",
    "import pandas as pd\n",
    "\n",
    "def f(x):\n",
    "    return x**3 - 3*x**2 + x"
   ]
  },
  {
   "cell_type": "code",
   "execution_count": 9,
   "metadata": {},
   "outputs": [
    {
     "data": {
      "text/plain": [
       "array([-1. , -0.5,  0. ,  0.5,  1. ,  1.5,  2. ,  2.5,  3. ])"
      ]
     },
     "execution_count": 9,
     "metadata": {},
     "output_type": "execute_result"
    }
   ],
   "source": [
    "x = np.linspace(-1, 3, 9)\n",
    "x"
   ]
  },
  {
   "cell_type": "code",
   "execution_count": 10,
   "metadata": {},
   "outputs": [
    {
     "data": {
      "text/plain": [
       "array([-5.   , -1.375,  0.   , -0.125, -1.   , -1.875, -2.   , -0.625,\n",
       "        3.   ])"
      ]
     },
     "execution_count": 10,
     "metadata": {},
     "output_type": "execute_result"
    }
   ],
   "source": [
    "y = f(x)\n",
    "y"
   ]
  },
  {
   "cell_type": "code",
   "execution_count": 11,
   "metadata": {},
   "outputs": [
    {
     "data": {
      "image/png": "iVBORw0KGgoAAAANSUhEUgAAAXYAAAD8CAYAAABjAo9vAAAABHNCSVQICAgIfAhkiAAAAAlwSFlz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\nM/8PqIsTNeXhFvUAAAAASUVORK5CYII=\n",
      "text/plain": [
       "<matplotlib.figure.Figure at 0x7f51ad2198d0>"
      ]
     },
     "metadata": {},
     "output_type": "display_data"
    }
   ],
   "source": [
    "plt.plot(x, y, 'ro-')\n",
    "\n",
    "plt.xlim(-2, 4)\n",
    "plt.xticks(np.arange(-1, 4))\n",
    "plt.yticks(np.arange(-5, 4))\n",
    "\n",
    "plt.show()"
   ]
  },
  {
   "cell_type": "code",
   "execution_count": 14,
   "metadata": {},
   "outputs": [
    {
     "data": {
      "image/png": "iVBORw0KGgoAAAANSUhEUgAAAXYAAAD8CAYAAABjAo9vAAAABHNCSVQICAgIfAhkiAAAAAlwSFlz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\nl2GxExG5DIudiMhl/h8Gq3UhUkFTCQAAAABJRU5ErkJggg==\n",
      "text/plain": [
       "<matplotlib.figure.Figure at 0x7f51acf97b70>"
      ]
     },
     "metadata": {},
     "output_type": "display_data"
    }
   ],
   "source": [
    "x = np.linspace(-1, 3, 400)\n",
    "y = f(x)\n",
    "plt.plot(x, y)\n",
    "\n",
    "plt.xlim(-2, 4)\n",
    "plt.xticks(np.arange(-1, 4))\n",
    "plt.yticks(np.arange(-5, 4))\n",
    "\n",
    "plt.show()\n",
    "\n"
   ]
  },
  {
   "cell_type": "code",
   "execution_count": 15,
   "metadata": {},
   "outputs": [
    {
     "data": {
      "image/png": "iVBORw0KGgoAAAANSUhEUgAAAXYAAAD8CAYAAABjAo9vAAAABHNCSVQICAgIfAhkiAAAAAlwSFlz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\ndiGE8DJS7EII4WX+H7u2zxHnGf3cAAAAAElFTkSuQmCC\n",
      "text/plain": [
       "<matplotlib.figure.Figure at 0x7f51a96df780>"
      ]
     },
     "metadata": {},
     "output_type": "display_data"
    }
   ],
   "source": [
    "plt.plot(x, y)\n",
    "plt.plot(0, 0, 'ro'); plt.plot(x, x, 'r:')\n",
    "plt.plot(1, -1, 'go'); plt.plot(x, (3*1**2-6*1+1)*(x-1)-1, 'g--')\n",
    "\n",
    "plt.xlim(-3.5, 5.5)\n",
    "plt.ylim(-4, 2)\n",
    "plt.xticks(np.arange(-3, 6))\n",
    "plt.yticks(np.arange(-4, 2))\n",
    "\n",
    "plt.annotate('', xy=(1, 0), xytext=(0, 0), arrowprops=dict(facecolor='gray'))\n",
    "plt.annotate('', xy=(1, 1), xytext=(1, 0), arrowprops=dict(facecolor='gray'))\n",
    "\n",
    "plt.annotate('', xy=(2, -1), xytext=(1, -1), arrowprops=dict(facecolor='gray'))\n",
    "plt.annotate('', xy=(2, -3), xytext=(2, -1), arrowprops=dict(facecolor='gray'))\n",
    "\n",
    "plt.show()"
   ]
  },
  {
   "cell_type": "code",
   "execution_count": 16,
   "metadata": {},
   "outputs": [
    {
     "data": {
      "image/png": "iVBORw0KGgoAAAANSUhEUgAAAlUAAANeCAYAAAA7tvvFAAAABHNCSVQICAgIfAhkiAAAAAlwSFlz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\n/5WJhb67p1pAAAAAAElFTkSuQmCC\n",
      "text/plain": [
       "<matplotlib.figure.Figure at 0x7f51a96d1128>"
      ]
     },
     "metadata": {},
     "output_type": "display_data"
    }
   ],
   "source": [
    "def f(x):\n",
    "    return x**3 - 3*x**2 + x\n",
    "\n",
    "def fprime(x):\n",
    "    return 3*x**2 - 6*x + 1\n",
    "\n",
    "x = np.linspace(-1, 3, 400)\n",
    "\n",
    "plt.figure(figsize=(10,15))\n",
    "\n",
    "plt.subplot(211)\n",
    "plt.plot(x, f(x))\n",
    "plt.xlim(-2, 4)\n",
    "plt.xticks(np.arange(-1, 4))\n",
    "plt.yticks(np.arange(-5, 4))\n",
    "plt.title('f(x)')\n",
    "\n",
    "plt.subplot(212)\n",
    "plt.plot(x, fprime(x))\n",
    "plt.xlim(-2, 4)\n",
    "plt.xticks(np.arange(-1, 4))\n",
    "plt.yticks(np.arange(-3, 11))\n",
    "plt.title(\"f'(x)\")\n",
    "\n",
    "plt.show()"
   ]
  },
  {
   "cell_type": "markdown",
   "metadata": {},
   "source": [
    "$f(x)$ = $x^3-1$\n",
    "\n",
    "$f'(x)$ = $3x^2$"
   ]
  },
  {
   "cell_type": "markdown",
   "metadata": {},
   "source": [
    "$f(x)$ = $ \\log (x^{2}-3k)$\n",
    "\n",
    "$f'(x)$ = $\\dfrac{1}{x^{2}-3k}2x$"
   ]
  },
  {
   "cell_type": "markdown",
   "metadata": {},
   "source": [
    "$f(x) =\\exp({ax^b})$\n",
    "\n",
    "$f'(x) =\\exp({ax^b})(abx^{b-1})$"
   ]
  },
  {
   "cell_type": "code",
   "execution_count": 1,
   "metadata": {
    "collapsed": true
   },
   "outputs": [],
   "source": [
    "import sympy\n",
    "sympy.init_printing(use_latex='mathjax')  "
   ]
  },
  {
   "cell_type": "code",
   "execution_count": 26,
   "metadata": {},
   "outputs": [
    {
     "data": {
      "text/latex": [
       "$$x$$"
      ],
      "text/plain": [
       "x"
      ]
     },
     "execution_count": 26,
     "metadata": {},
     "output_type": "execute_result"
    }
   ],
   "source": [
    "x = sympy.symbols('x')\n",
    "x"
   ]
  },
  {
   "cell_type": "code",
   "execution_count": 27,
   "metadata": {},
   "outputs": [
    {
     "data": {
      "text/plain": [
       "sympy.core.symbol.Symbol"
      ]
     },
     "execution_count": 27,
     "metadata": {},
     "output_type": "execute_result"
    }
   ],
   "source": [
    "type(x)"
   ]
  },
  {
   "cell_type": "code",
   "execution_count": 28,
   "metadata": {},
   "outputs": [
    {
     "data": {
      "text/latex": [
       "$$x e^{x}$$"
      ],
      "text/plain": [
       "   x\n",
       "x⋅ℯ "
      ]
     },
     "execution_count": 28,
     "metadata": {},
     "output_type": "execute_result"
    }
   ],
   "source": [
    "f = x * sympy.exp(x)\n",
    "f"
   ]
  },
  {
   "cell_type": "code",
   "execution_count": 29,
   "metadata": {},
   "outputs": [
    {
     "data": {
      "text/latex": [
       "$$x e^{x} + e^{x}$$"
      ],
      "text/plain": [
       "   x    x\n",
       "x⋅ℯ  + ℯ "
      ]
     },
     "execution_count": 29,
     "metadata": {},
     "output_type": "execute_result"
    }
   ],
   "source": [
    "sympy.diff(f)"
   ]
  },
  {
   "cell_type": "markdown",
   "metadata": {},
   "source": [
    "$f$ = $e^{{x^2+2y^2}}$\n",
    "\n",
    "$fx$ = $2xe^{{x^2+2y^2}}$\n",
    "\n",
    "$fxx$ = $4xe^{{x^2+2y^2}}(x+1)$\n",
    "\n",
    "$fxy$ = $8xye^{{x^2+2y^2}}$\n",
    "\n",
    "$fy$ = $4ye^{{x^2+2y^2}}$\n",
    "\n",
    "$fyx$ = $8xye^{{x^2+2y^2}}$\n",
    "\n",
    "$fyy$ = $4ye^{{x^2+2y^2}}(4y^2+1)$"
   ]
  },
  {
   "cell_type": "code",
   "execution_count": 30,
   "metadata": {},
   "outputs": [
    {
     "data": {
      "text/latex": [
       "$$x$$"
      ],
      "text/plain": [
       "x"
      ]
     },
     "execution_count": 30,
     "metadata": {},
     "output_type": "execute_result"
    }
   ],
   "source": [
    "x = sympy.symbols('x')\n",
    "x"
   ]
  },
  {
   "cell_type": "code",
   "execution_count": 31,
   "metadata": {},
   "outputs": [
    {
     "data": {
      "text/latex": [
       "$$x e^{x}$$"
      ],
      "text/plain": [
       "   x\n",
       "x⋅ℯ "
      ]
     },
     "execution_count": 31,
     "metadata": {},
     "output_type": "execute_result"
    }
   ],
   "source": [
    "f = x * sympy.exp(x)\n",
    "f"
   ]
  },
  {
   "cell_type": "code",
   "execution_count": 32,
   "metadata": {},
   "outputs": [
    {
     "data": {
      "text/latex": [
       "$$x e^{x} + e^{x}$$"
      ],
      "text/plain": [
       "   x    x\n",
       "x⋅ℯ  + ℯ "
      ]
     },
     "execution_count": 32,
     "metadata": {},
     "output_type": "execute_result"
    }
   ],
   "source": [
    "sympy.diff(f)"
   ]
  },
  {
   "cell_type": "code",
   "execution_count": 33,
   "metadata": {},
   "outputs": [
    {
     "data": {
      "text/latex": [
       "$$\\left(x + 1\\right) e^{x}$$"
      ],
      "text/plain": [
       "         x\n",
       "(x + 1)⋅ℯ "
      ]
     },
     "execution_count": 33,
     "metadata": {},
     "output_type": "execute_result"
    }
   ],
   "source": [
    "sympy.simplify(sympy.diff(f))"
   ]
  },
  {
   "cell_type": "code",
   "execution_count": null,
   "metadata": {
    "collapsed": true
   },
   "outputs": [],
   "source": []
  },
  {
   "cell_type": "code",
   "execution_count": null,
   "metadata": {
    "collapsed": true
   },
   "outputs": [],
   "source": []
  },
  {
   "cell_type": "code",
   "execution_count": 3,
   "metadata": {},
   "outputs": [
    {
     "data": {
      "text/html": [
       "<div>\n",
       "<style>\n",
       "    .dataframe thead tr:only-child th {\n",
       "        text-align: right;\n",
       "    }\n",
       "\n",
       "    .dataframe thead th {\n",
       "        text-align: left;\n",
       "    }\n",
       "\n",
       "    .dataframe tbody tr th {\n",
       "        vertical-align: top;\n",
       "    }\n",
       "</style>\n",
       "<table border=\"1\" class=\"dataframe\">\n",
       "  <thead>\n",
       "    <tr style=\"text-align: right;\">\n",
       "      <th></th>\n",
       "      <th>A</th>\n",
       "      <th>B</th>\n",
       "      <th>C</th>\n",
       "      <th>D</th>\n",
       "      <th>E</th>\n",
       "      <th>F</th>\n",
       "    </tr>\n",
       "  </thead>\n",
       "  <tbody>\n",
       "    <tr>\n",
       "      <th>0</th>\n",
       "      <td>1.0</td>\n",
       "      <td>2013-01-02</td>\n",
       "      <td>1.0</td>\n",
       "      <td>3</td>\n",
       "      <td>test</td>\n",
       "      <td>foo</td>\n",
       "    </tr>\n",
       "    <tr>\n",
       "      <th>1</th>\n",
       "      <td>1.0</td>\n",
       "      <td>2013-01-02</td>\n",
       "      <td>1.0</td>\n",
       "      <td>3</td>\n",
       "      <td>train</td>\n",
       "      <td>foo</td>\n",
       "    </tr>\n",
       "    <tr>\n",
       "      <th>2</th>\n",
       "      <td>1.0</td>\n",
       "      <td>2013-01-02</td>\n",
       "      <td>1.0</td>\n",
       "      <td>3</td>\n",
       "      <td>test</td>\n",
       "      <td>foo</td>\n",
       "    </tr>\n",
       "    <tr>\n",
       "      <th>3</th>\n",
       "      <td>1.0</td>\n",
       "      <td>2013-01-02</td>\n",
       "      <td>1.0</td>\n",
       "      <td>3</td>\n",
       "      <td>train</td>\n",
       "      <td>foo</td>\n",
       "    </tr>\n",
       "  </tbody>\n",
       "</table>\n",
       "</div>"
      ],
      "text/plain": [
       "     A          B    C  D      E    F\n",
       "0  1.0 2013-01-02  1.0  3   test  foo\n",
       "1  1.0 2013-01-02  1.0  3  train  foo\n",
       "2  1.0 2013-01-02  1.0  3   test  foo\n",
       "3  1.0 2013-01-02  1.0  3  train  foo"
      ]
     },
     "execution_count": 3,
     "metadata": {},
     "output_type": "execute_result"
    }
   ],
   "source": [
    "df2 = pd.DataFrame({ 'A' : 1.,\n",
    "   ....:                      'B' : pd.Timestamp('20130102'),\n",
    "   ....:                      'C' : pd.Series(1,index=list(range(4)),dtype='float32'),\n",
    "   ....:                      'D' : np.array([3] * 4,dtype='int32'),\n",
    "   ....:                      'E' : pd.Categorical([\"test\",\"train\",\"test\",\"train\"]),\n",
    "   ....:                      'F' : 'foo' })\n",
    "   ....: \n",
    "df2"
   ]
  },
  {
   "cell_type": "code",
   "execution_count": 8,
   "metadata": {},
   "outputs": [
    {
     "data": {
      "text/plain": [
       "0    1.0\n",
       "1    1.0\n",
       "2    1.0\n",
       "3    1.0\n",
       "Name: A, dtype: float64"
      ]
     },
     "execution_count": 8,
     "metadata": {},
     "output_type": "execute_result"
    }
   ],
   "source": [
    "df2['A']"
   ]
  },
  {
   "cell_type": "code",
   "execution_count": 32,
   "metadata": {
    "collapsed": true
   },
   "outputs": [],
   "source": [
    "import sympy\n",
    "\n",
    "sympy.init_printing(use_latex='mathjax')  "
   ]
  },
  {
   "cell_type": "code",
   "execution_count": 33,
   "metadata": {},
   "outputs": [
    {
     "data": {
      "text/latex": [
       "$$3 x^{2}$$"
      ],
      "text/plain": [
       "   2\n",
       "3⋅x "
      ]
     },
     "execution_count": 33,
     "metadata": {},
     "output_type": "execute_result"
    }
   ],
   "source": [
    "x = sympy.symbols('x')\n",
    "f1 = 3*x**2\n",
    "f1"
   ]
  },
  {
   "cell_type": "code",
   "execution_count": 34,
   "metadata": {},
   "outputs": [
    {
     "data": {
      "text/latex": [
       "$$x^{3}$$"
      ],
      "text/plain": [
       " 3\n",
       "x "
      ]
     },
     "execution_count": 34,
     "metadata": {},
     "output_type": "execute_result"
    }
   ],
   "source": [
    "sympy.integrate(f1)"
   ]
  },
  {
   "cell_type": "code",
   "execution_count": 35,
   "metadata": {},
   "outputs": [
    {
     "data": {
      "text/latex": [
       "$$\\frac{2 x}{x^{2} - 1}$$"
      ],
      "text/plain": [
       " 2⋅x  \n",
       "──────\n",
       " 2    \n",
       "x  - 1"
      ]
     },
     "execution_count": 35,
     "metadata": {},
     "output_type": "execute_result"
    }
   ],
   "source": [
    "x, y = sympy.symbols('x y')\n",
    "f2 = 2*x/(x**2-1)\n",
    "f2"
   ]
  },
  {
   "cell_type": "code",
   "execution_count": 36,
   "metadata": {},
   "outputs": [
    {
     "data": {
      "text/latex": [
       "$$\\log{\\left (x^{2} - 1 \\right )}$$"
      ],
      "text/plain": [
       "   ⎛ 2    ⎞\n",
       "log⎝x  - 1⎠"
      ]
     },
     "execution_count": 36,
     "metadata": {},
     "output_type": "execute_result"
    }
   ],
   "source": [
    "sympy.integrate(f2)"
   ]
  },
  {
   "cell_type": "code",
   "execution_count": 37,
   "metadata": {},
   "outputs": [
    {
     "data": {
      "text/latex": [
       "$$\\frac{2 x}{x^{2} - 1}$$"
      ],
      "text/plain": [
       " 2⋅x  \n",
       "──────\n",
       " 2    \n",
       "x  - 1"
      ]
     },
     "execution_count": 37,
     "metadata": {},
     "output_type": "execute_result"
    }
   ],
   "source": [
    "x, y = sympy.symbols('x y')\n",
    "f3 = 2*x/(x**2-1)\n",
    "f3"
   ]
  },
  {
   "cell_type": "code",
   "execution_count": 38,
   "metadata": {},
   "outputs": [
    {
     "data": {
      "text/latex": [
       "$$\\log{\\left (x^{2} - 1 \\right )}$$"
      ],
      "text/plain": [
       "   ⎛ 2    ⎞\n",
       "log⎝x  - 1⎠"
      ]
     },
     "execution_count": 38,
     "metadata": {},
     "output_type": "execute_result"
    }
   ],
   "source": [
    "sympy.integrate(f3)"
   ]
  },
  {
   "cell_type": "code",
   "execution_count": 39,
   "metadata": {},
   "outputs": [
    {
     "ename": "SympifyError",
     "evalue": "Sympify of expression 'could not parse '<function f at 0x7fab0fffbd90>'' failed, because of exception being raised:\nSyntaxError: invalid syntax (<string>, line 1)",
     "output_type": "error",
     "traceback": [
      "\u001b[0;31m---------------------------------------------------------------------------\u001b[0m",
      "\u001b[0;31mSyntaxError\u001b[0m                               Traceback (most recent call last)",
      "\u001b[0;32m~/enter/lib/python3.6/site-packages/sympy/core/sympify.py\u001b[0m in \u001b[0;36msympify\u001b[0;34m(a, locals, convert_xor, strict, rational, evaluate)\u001b[0m\n\u001b[1;32m    353\u001b[0m         \u001b[0ma\u001b[0m \u001b[0;34m=\u001b[0m \u001b[0ma\u001b[0m\u001b[0;34m.\u001b[0m\u001b[0mreplace\u001b[0m\u001b[0;34m(\u001b[0m\u001b[0;34m'\\n'\u001b[0m\u001b[0;34m,\u001b[0m \u001b[0;34m''\u001b[0m\u001b[0;34m)\u001b[0m\u001b[0;34m\u001b[0m\u001b[0m\n\u001b[0;32m--> 354\u001b[0;31m         \u001b[0mexpr\u001b[0m \u001b[0;34m=\u001b[0m \u001b[0mparse_expr\u001b[0m\u001b[0;34m(\u001b[0m\u001b[0ma\u001b[0m\u001b[0;34m,\u001b[0m \u001b[0mlocal_dict\u001b[0m\u001b[0;34m=\u001b[0m\u001b[0mlocals\u001b[0m\u001b[0;34m,\u001b[0m \u001b[0mtransformations\u001b[0m\u001b[0;34m=\u001b[0m\u001b[0mtransformations\u001b[0m\u001b[0;34m,\u001b[0m \u001b[0mevaluate\u001b[0m\u001b[0;34m=\u001b[0m\u001b[0mevaluate\u001b[0m\u001b[0;34m)\u001b[0m\u001b[0;34m\u001b[0m\u001b[0m\n\u001b[0m\u001b[1;32m    355\u001b[0m     \u001b[0;32mexcept\u001b[0m \u001b[0;34m(\u001b[0m\u001b[0mTokenError\u001b[0m\u001b[0;34m,\u001b[0m \u001b[0mSyntaxError\u001b[0m\u001b[0;34m)\u001b[0m \u001b[0;32mas\u001b[0m \u001b[0mexc\u001b[0m\u001b[0;34m:\u001b[0m\u001b[0;34m\u001b[0m\u001b[0m\n",
      "\u001b[0;32m~/enter/lib/python3.6/site-packages/sympy/parsing/sympy_parser.py\u001b[0m in \u001b[0;36mparse_expr\u001b[0;34m(s, local_dict, transformations, global_dict, evaluate)\u001b[0m\n\u001b[1;32m    893\u001b[0m \u001b[0;34m\u001b[0m\u001b[0m\n\u001b[0;32m--> 894\u001b[0;31m     \u001b[0;32mreturn\u001b[0m \u001b[0meval_expr\u001b[0m\u001b[0;34m(\u001b[0m\u001b[0mcode\u001b[0m\u001b[0;34m,\u001b[0m \u001b[0mlocal_dict\u001b[0m\u001b[0;34m,\u001b[0m \u001b[0mglobal_dict\u001b[0m\u001b[0;34m)\u001b[0m\u001b[0;34m\u001b[0m\u001b[0m\n\u001b[0m\u001b[1;32m    895\u001b[0m \u001b[0;34m\u001b[0m\u001b[0m\n",
      "\u001b[0;32m~/enter/lib/python3.6/site-packages/sympy/parsing/sympy_parser.py\u001b[0m in \u001b[0;36meval_expr\u001b[0;34m(code, local_dict, global_dict)\u001b[0m\n\u001b[1;32m    806\u001b[0m     expr = eval(\n\u001b[0;32m--> 807\u001b[0;31m         code, global_dict, local_dict)  # take local objects in preference\n\u001b[0m\u001b[1;32m    808\u001b[0m \u001b[0;34m\u001b[0m\u001b[0m\n",
      "\u001b[0;31mSyntaxError\u001b[0m: invalid syntax (<string>, line 1)",
      "\nDuring handling of the above exception, another exception occurred:\n",
      "\u001b[0;31mSympifyError\u001b[0m                              Traceback (most recent call last)",
      "\u001b[0;32m<ipython-input-39-a8e1cc13f7de>\u001b[0m in \u001b[0;36m<module>\u001b[0;34m()\u001b[0m\n\u001b[0;32m----> 1\u001b[0;31m \u001b[0msympy\u001b[0m\u001b[0;34m.\u001b[0m\u001b[0mintegrate\u001b[0m\u001b[0;34m(\u001b[0m\u001b[0mf\u001b[0m\u001b[0;34m,\u001b[0m \u001b[0mx\u001b[0m\u001b[0;34m)\u001b[0m\u001b[0;34m\u001b[0m\u001b[0m\n\u001b[0m",
      "\u001b[0;32m~/enter/lib/python3.6/site-packages/sympy/integrals/integrals.py\u001b[0m in \u001b[0;36mintegrate\u001b[0;34m(*args, **kwargs)\u001b[0m\n\u001b[1;32m   1289\u001b[0m     \u001b[0mrisch\u001b[0m \u001b[0;34m=\u001b[0m \u001b[0mkwargs\u001b[0m\u001b[0;34m.\u001b[0m\u001b[0mpop\u001b[0m\u001b[0;34m(\u001b[0m\u001b[0;34m'risch'\u001b[0m\u001b[0;34m,\u001b[0m \u001b[0;32mNone\u001b[0m\u001b[0;34m)\u001b[0m\u001b[0;34m\u001b[0m\u001b[0m\n\u001b[1;32m   1290\u001b[0m     \u001b[0mmanual\u001b[0m \u001b[0;34m=\u001b[0m \u001b[0mkwargs\u001b[0m\u001b[0;34m.\u001b[0m\u001b[0mpop\u001b[0m\u001b[0;34m(\u001b[0m\u001b[0;34m'manual'\u001b[0m\u001b[0;34m,\u001b[0m \u001b[0;32mNone\u001b[0m\u001b[0;34m)\u001b[0m\u001b[0;34m\u001b[0m\u001b[0m\n\u001b[0;32m-> 1291\u001b[0;31m     \u001b[0mintegral\u001b[0m \u001b[0;34m=\u001b[0m \u001b[0mIntegral\u001b[0m\u001b[0;34m(\u001b[0m\u001b[0;34m*\u001b[0m\u001b[0margs\u001b[0m\u001b[0;34m,\u001b[0m \u001b[0;34m**\u001b[0m\u001b[0mkwargs\u001b[0m\u001b[0;34m)\u001b[0m\u001b[0;34m\u001b[0m\u001b[0m\n\u001b[0m\u001b[1;32m   1292\u001b[0m \u001b[0;34m\u001b[0m\u001b[0m\n\u001b[1;32m   1293\u001b[0m     \u001b[0;32mif\u001b[0m \u001b[0misinstance\u001b[0m\u001b[0;34m(\u001b[0m\u001b[0mintegral\u001b[0m\u001b[0;34m,\u001b[0m \u001b[0mIntegral\u001b[0m\u001b[0;34m)\u001b[0m\u001b[0;34m:\u001b[0m\u001b[0;34m\u001b[0m\u001b[0m\n",
      "\u001b[0;32m~/enter/lib/python3.6/site-packages/sympy/integrals/integrals.py\u001b[0m in \u001b[0;36m__new__\u001b[0;34m(cls, function, *symbols, **assumptions)\u001b[0m\n\u001b[1;32m     73\u001b[0m             \u001b[0;32mreturn\u001b[0m \u001b[0mfunction\u001b[0m\u001b[0;34m.\u001b[0m\u001b[0m_eval_Integral\u001b[0m\u001b[0;34m(\u001b[0m\u001b[0;34m*\u001b[0m\u001b[0msymbols\u001b[0m\u001b[0;34m,\u001b[0m \u001b[0;34m**\u001b[0m\u001b[0massumptions\u001b[0m\u001b[0;34m)\u001b[0m\u001b[0;34m\u001b[0m\u001b[0m\n\u001b[1;32m     74\u001b[0m \u001b[0;34m\u001b[0m\u001b[0m\n\u001b[0;32m---> 75\u001b[0;31m         \u001b[0mobj\u001b[0m \u001b[0;34m=\u001b[0m \u001b[0mAddWithLimits\u001b[0m\u001b[0;34m.\u001b[0m\u001b[0m__new__\u001b[0m\u001b[0;34m(\u001b[0m\u001b[0mcls\u001b[0m\u001b[0;34m,\u001b[0m \u001b[0mfunction\u001b[0m\u001b[0;34m,\u001b[0m \u001b[0;34m*\u001b[0m\u001b[0msymbols\u001b[0m\u001b[0;34m,\u001b[0m \u001b[0;34m**\u001b[0m\u001b[0massumptions\u001b[0m\u001b[0;34m)\u001b[0m\u001b[0;34m\u001b[0m\u001b[0m\n\u001b[0m\u001b[1;32m     76\u001b[0m         \u001b[0;32mreturn\u001b[0m \u001b[0mobj\u001b[0m\u001b[0;34m\u001b[0m\u001b[0m\n\u001b[1;32m     77\u001b[0m \u001b[0;34m\u001b[0m\u001b[0m\n",
      "\u001b[0;32m~/enter/lib/python3.6/site-packages/sympy/concrete/expr_with_limits.py\u001b[0m in \u001b[0;36m__new__\u001b[0;34m(cls, function, *symbols, **assumptions)\u001b[0m\n\u001b[1;32m    354\u001b[0m         \u001b[0;31m# This constructor only differs from ExprWithLimits\u001b[0m\u001b[0;34m\u001b[0m\u001b[0;34m\u001b[0m\u001b[0m\n\u001b[1;32m    355\u001b[0m         \u001b[0;31m# in the application of the orientation variable.  Perhaps merge?\u001b[0m\u001b[0;34m\u001b[0m\u001b[0;34m\u001b[0m\u001b[0m\n\u001b[0;32m--> 356\u001b[0;31m         \u001b[0mfunction\u001b[0m \u001b[0;34m=\u001b[0m \u001b[0msympify\u001b[0m\u001b[0;34m(\u001b[0m\u001b[0mfunction\u001b[0m\u001b[0;34m)\u001b[0m\u001b[0;34m\u001b[0m\u001b[0m\n\u001b[0m\u001b[1;32m    357\u001b[0m         \u001b[0;32mif\u001b[0m \u001b[0mhasattr\u001b[0m\u001b[0;34m(\u001b[0m\u001b[0mfunction\u001b[0m\u001b[0;34m,\u001b[0m \u001b[0;34m'func'\u001b[0m\u001b[0;34m)\u001b[0m \u001b[0;32mand\u001b[0m \u001b[0mfunction\u001b[0m\u001b[0;34m.\u001b[0m\u001b[0mfunc\u001b[0m \u001b[0;32mis\u001b[0m \u001b[0mEquality\u001b[0m\u001b[0;34m:\u001b[0m\u001b[0;34m\u001b[0m\u001b[0m\n\u001b[1;32m    358\u001b[0m             \u001b[0mlhs\u001b[0m \u001b[0;34m=\u001b[0m \u001b[0mfunction\u001b[0m\u001b[0;34m.\u001b[0m\u001b[0mlhs\u001b[0m\u001b[0;34m\u001b[0m\u001b[0m\n",
      "\u001b[0;32m~/enter/lib/python3.6/site-packages/sympy/core/sympify.py\u001b[0m in \u001b[0;36msympify\u001b[0;34m(a, locals, convert_xor, strict, rational, evaluate)\u001b[0m\n\u001b[1;32m    354\u001b[0m         \u001b[0mexpr\u001b[0m \u001b[0;34m=\u001b[0m \u001b[0mparse_expr\u001b[0m\u001b[0;34m(\u001b[0m\u001b[0ma\u001b[0m\u001b[0;34m,\u001b[0m \u001b[0mlocal_dict\u001b[0m\u001b[0;34m=\u001b[0m\u001b[0mlocals\u001b[0m\u001b[0;34m,\u001b[0m \u001b[0mtransformations\u001b[0m\u001b[0;34m=\u001b[0m\u001b[0mtransformations\u001b[0m\u001b[0;34m,\u001b[0m \u001b[0mevaluate\u001b[0m\u001b[0;34m=\u001b[0m\u001b[0mevaluate\u001b[0m\u001b[0;34m)\u001b[0m\u001b[0;34m\u001b[0m\u001b[0m\n\u001b[1;32m    355\u001b[0m     \u001b[0;32mexcept\u001b[0m \u001b[0;34m(\u001b[0m\u001b[0mTokenError\u001b[0m\u001b[0;34m,\u001b[0m \u001b[0mSyntaxError\u001b[0m\u001b[0;34m)\u001b[0m \u001b[0;32mas\u001b[0m \u001b[0mexc\u001b[0m\u001b[0;34m:\u001b[0m\u001b[0;34m\u001b[0m\u001b[0m\n\u001b[0;32m--> 356\u001b[0;31m         \u001b[0;32mraise\u001b[0m \u001b[0mSympifyError\u001b[0m\u001b[0;34m(\u001b[0m\u001b[0;34m'could not parse %r'\u001b[0m \u001b[0;34m%\u001b[0m \u001b[0ma\u001b[0m\u001b[0;34m,\u001b[0m \u001b[0mexc\u001b[0m\u001b[0;34m)\u001b[0m\u001b[0;34m\u001b[0m\u001b[0m\n\u001b[0m\u001b[1;32m    357\u001b[0m \u001b[0;34m\u001b[0m\u001b[0m\n\u001b[1;32m    358\u001b[0m     \u001b[0;32mreturn\u001b[0m \u001b[0mexpr\u001b[0m\u001b[0;34m\u001b[0m\u001b[0m\n",
      "\u001b[0;31mSympifyError\u001b[0m: Sympify of expression 'could not parse '<function f at 0x7fab0fffbd90>'' failed, because of exception being raised:\nSyntaxError: invalid syntax (<string>, line 1)"
     ]
    }
   ],
   "source": [
    "sympy.integrate(f, x)"
   ]
  },
  {
   "cell_type": "code",
   "execution_count": 66,
   "metadata": {},
   "outputs": [
    {
     "data": {
      "text/latex": [
       "$$3 x^{2} - 6 x + 1$$"
      ],
      "text/plain": [
       "   2          \n",
       "3⋅x  - 6⋅x + 1"
      ]
     },
     "execution_count": 66,
     "metadata": {},
     "output_type": "execute_result"
    }
   ],
   "source": [
    "x, y = sympy.symbols('x y')\n",
    "f = 3 * x ** 2 - 6 * x + 1\n",
    "f"
   ]
  },
  {
   "cell_type": "code",
   "execution_count": 68,
   "metadata": {},
   "outputs": [
    {
     "data": {
      "text/latex": [
       "$$x^{3} - 3 x^{2} + x$$"
      ],
      "text/plain": [
       " 3      2    \n",
       "x  - 3⋅x  + x"
      ]
     },
     "execution_count": 68,
     "metadata": {},
     "output_type": "execute_result"
    }
   ],
   "source": [
    "F = sympy.integrate(f)\n",
    "F"
   ]
  },
  {
   "cell_type": "code",
   "execution_count": 69,
   "metadata": {},
   "outputs": [
    {
     "data": {
      "text/latex": [
       "$$-1.0$$"
      ],
      "text/plain": [
       "-1.00000000000000"
      ]
     },
     "execution_count": 69,
     "metadata": {},
     "output_type": "execute_result"
    }
   ],
   "source": [
    "((F.subs(x,1)) - F.subs(x, 0)).evalf()"
   ]
  },
  {
   "cell_type": "code",
   "execution_count": 70,
   "metadata": {},
   "outputs": [
    {
     "data": {
      "text/latex": [
       "$$\\left ( -1.0, \\quad 1.3085085171449517e-14\\right )$$"
      ],
      "text/plain": [
       "(-1.0, 1.3085085171449517e-14)"
      ]
     },
     "execution_count": 70,
     "metadata": {},
     "output_type": "execute_result"
    }
   ],
   "source": [
    "def f(x):\n",
    "    return 3 * x ** 2 - 6 * x + 1\n",
    "\n",
    "scipy.integrate.quad(f, 0, 1)"
   ]
  },
  {
   "cell_type": "code",
   "execution_count": 71,
   "metadata": {},
   "outputs": [
    {
     "data": {
      "text/latex": [
       "$$6 x + 4 e^{x} + 2 + \\frac{5}{x}$$"
      ],
      "text/plain": [
       "         x       5\n",
       "6⋅x + 4⋅ℯ  + 2 + ─\n",
       "                 x"
      ]
     },
     "execution_count": 71,
     "metadata": {},
     "output_type": "execute_result"
    }
   ],
   "source": [
    "x, y = sympy.symbols('x y')\n",
    "f = 2 + 6 * x + 4 * sympy.exp(x) + 5 * 1 / x\n",
    "f"
   ]
  },
  {
   "cell_type": "code",
   "execution_count": 72,
   "metadata": {},
   "outputs": [
    {
     "data": {
      "text/latex": [
       "$$3 x^{2} + 2 x + 4 e^{x} + 5 \\log{\\left (x \\right )}$$"
      ],
      "text/plain": [
       "   2            x           \n",
       "3⋅x  + 2⋅x + 4⋅ℯ  + 5⋅log(x)"
      ]
     },
     "execution_count": 72,
     "metadata": {},
     "output_type": "execute_result"
    }
   ],
   "source": [
    "F = sympy.integrate(f)\n",
    "F"
   ]
  },
  {
   "cell_type": "code",
   "execution_count": 73,
   "metadata": {},
   "outputs": [
    {
     "data": {
      "text/latex": [
       "$$88421.502977378$$"
      ],
      "text/plain": [
       "88421.5029773780"
      ]
     },
     "execution_count": 73,
     "metadata": {},
     "output_type": "execute_result"
    }
   ],
   "source": [
    "((F.subs(x,10)) - F.subs(x, 1)).evalf()"
   ]
  },
  {
   "cell_type": "code",
   "execution_count": 75,
   "metadata": {},
   "outputs": [
    {
     "data": {
      "text/latex": [
       "$$\\left ( 88421.50297737827, \\quad 1.5276890734473408e-06\\right )$$"
      ],
      "text/plain": [
       "(88421.50297737827, 1.5276890734473408e-06)"
      ]
     },
     "execution_count": 75,
     "metadata": {},
     "output_type": "execute_result"
    }
   ],
   "source": [
    "def f(x):\n",
    "    return 2 + 6 * x + 4 * sympy.exp(x) + 5 * 1 / x\n",
    "\n",
    "scipy.integrate.quad(f, 1, 10)"
   ]
  },
  {
   "cell_type": "code",
   "execution_count": 77,
   "metadata": {},
   "outputs": [
    {
     "ename": "TypeError",
     "evalue": "'Mul' object is not callable",
     "output_type": "error",
     "traceback": [
      "\u001b[0;31m---------------------------------------------------------------------------\u001b[0m",
      "\u001b[0;31mTypeError\u001b[0m                                 Traceback (most recent call last)",
      "\u001b[0;32m<ipython-input-77-bba7fbf9365b>\u001b[0m in \u001b[0;36m<module>\u001b[0;34m()\u001b[0m\n\u001b[0;32m----> 1\u001b[0;31m \u001b[0mresult\u001b[0m \u001b[0;34m=\u001b[0m \u001b[0mscipy\u001b[0m\u001b[0;34m.\u001b[0m\u001b[0moptimize\u001b[0m\u001b[0;34m.\u001b[0m\u001b[0mminimize\u001b[0m\u001b[0;34m(\u001b[0m\u001b[0mf1\u001b[0m\u001b[0;34m,\u001b[0m \u001b[0;36m0\u001b[0m\u001b[0;34m)\u001b[0m\u001b[0;34m\u001b[0m\u001b[0m\n\u001b[0m\u001b[1;32m      2\u001b[0m \u001b[0mprint\u001b[0m\u001b[0;34m(\u001b[0m\u001b[0mresult\u001b[0m\u001b[0;34m)\u001b[0m\u001b[0;34m\u001b[0m\u001b[0m\n\u001b[1;32m      3\u001b[0m \u001b[0mx0\u001b[0m \u001b[0;34m=\u001b[0m \u001b[0mresult\u001b[0m\u001b[0;34m[\u001b[0m\u001b[0;34m'x'\u001b[0m\u001b[0;34m]\u001b[0m\u001b[0;34m\u001b[0m\u001b[0m\n\u001b[1;32m      4\u001b[0m \u001b[0mx0\u001b[0m\u001b[0;34m\u001b[0m\u001b[0m\n",
      "\u001b[0;32m~/.local/lib/python3.6/site-packages/scipy/optimize/_minimize.py\u001b[0m in \u001b[0;36mminimize\u001b[0;34m(fun, x0, args, method, jac, hess, hessp, bounds, constraints, tol, callback, options)\u001b[0m\n\u001b[1;32m    479\u001b[0m         \u001b[0;32mreturn\u001b[0m \u001b[0m_minimize_cg\u001b[0m\u001b[0;34m(\u001b[0m\u001b[0mfun\u001b[0m\u001b[0;34m,\u001b[0m \u001b[0mx0\u001b[0m\u001b[0;34m,\u001b[0m \u001b[0margs\u001b[0m\u001b[0;34m,\u001b[0m \u001b[0mjac\u001b[0m\u001b[0;34m,\u001b[0m \u001b[0mcallback\u001b[0m\u001b[0;34m,\u001b[0m \u001b[0;34m**\u001b[0m\u001b[0moptions\u001b[0m\u001b[0;34m)\u001b[0m\u001b[0;34m\u001b[0m\u001b[0m\n\u001b[1;32m    480\u001b[0m     \u001b[0;32melif\u001b[0m \u001b[0mmeth\u001b[0m \u001b[0;34m==\u001b[0m \u001b[0;34m'bfgs'\u001b[0m\u001b[0;34m:\u001b[0m\u001b[0;34m\u001b[0m\u001b[0m\n\u001b[0;32m--> 481\u001b[0;31m         \u001b[0;32mreturn\u001b[0m \u001b[0m_minimize_bfgs\u001b[0m\u001b[0;34m(\u001b[0m\u001b[0mfun\u001b[0m\u001b[0;34m,\u001b[0m \u001b[0mx0\u001b[0m\u001b[0;34m,\u001b[0m \u001b[0margs\u001b[0m\u001b[0;34m,\u001b[0m \u001b[0mjac\u001b[0m\u001b[0;34m,\u001b[0m \u001b[0mcallback\u001b[0m\u001b[0;34m,\u001b[0m \u001b[0;34m**\u001b[0m\u001b[0moptions\u001b[0m\u001b[0;34m)\u001b[0m\u001b[0;34m\u001b[0m\u001b[0m\n\u001b[0m\u001b[1;32m    482\u001b[0m     \u001b[0;32melif\u001b[0m \u001b[0mmeth\u001b[0m \u001b[0;34m==\u001b[0m \u001b[0;34m'newton-cg'\u001b[0m\u001b[0;34m:\u001b[0m\u001b[0;34m\u001b[0m\u001b[0m\n\u001b[1;32m    483\u001b[0m         return _minimize_newtoncg(fun, x0, args, jac, hess, hessp, callback,\n",
      "\u001b[0;32m~/.local/lib/python3.6/site-packages/scipy/optimize/optimize.py\u001b[0m in \u001b[0;36m_minimize_bfgs\u001b[0;34m(fun, x0, args, jac, callback, gtol, norm, eps, maxiter, disp, return_all, **unknown_options)\u001b[0m\n\u001b[1;32m    941\u001b[0m     \u001b[0;32melse\u001b[0m\u001b[0;34m:\u001b[0m\u001b[0;34m\u001b[0m\u001b[0m\n\u001b[1;32m    942\u001b[0m         \u001b[0mgrad_calls\u001b[0m\u001b[0;34m,\u001b[0m \u001b[0mmyfprime\u001b[0m \u001b[0;34m=\u001b[0m \u001b[0mwrap_function\u001b[0m\u001b[0;34m(\u001b[0m\u001b[0mfprime\u001b[0m\u001b[0;34m,\u001b[0m \u001b[0margs\u001b[0m\u001b[0;34m)\u001b[0m\u001b[0;34m\u001b[0m\u001b[0m\n\u001b[0;32m--> 943\u001b[0;31m     \u001b[0mgfk\u001b[0m \u001b[0;34m=\u001b[0m \u001b[0mmyfprime\u001b[0m\u001b[0;34m(\u001b[0m\u001b[0mx0\u001b[0m\u001b[0;34m)\u001b[0m\u001b[0;34m\u001b[0m\u001b[0m\n\u001b[0m\u001b[1;32m    944\u001b[0m     \u001b[0mk\u001b[0m \u001b[0;34m=\u001b[0m \u001b[0;36m0\u001b[0m\u001b[0;34m\u001b[0m\u001b[0m\n\u001b[1;32m    945\u001b[0m     \u001b[0mN\u001b[0m \u001b[0;34m=\u001b[0m \u001b[0mlen\u001b[0m\u001b[0;34m(\u001b[0m\u001b[0mx0\u001b[0m\u001b[0;34m)\u001b[0m\u001b[0;34m\u001b[0m\u001b[0m\n",
      "\u001b[0;32m~/.local/lib/python3.6/site-packages/scipy/optimize/optimize.py\u001b[0m in \u001b[0;36mfunction_wrapper\u001b[0;34m(*wrapper_args)\u001b[0m\n\u001b[1;32m    290\u001b[0m     \u001b[0;32mdef\u001b[0m \u001b[0mfunction_wrapper\u001b[0m\u001b[0;34m(\u001b[0m\u001b[0;34m*\u001b[0m\u001b[0mwrapper_args\u001b[0m\u001b[0;34m)\u001b[0m\u001b[0;34m:\u001b[0m\u001b[0;34m\u001b[0m\u001b[0m\n\u001b[1;32m    291\u001b[0m         \u001b[0mncalls\u001b[0m\u001b[0;34m[\u001b[0m\u001b[0;36m0\u001b[0m\u001b[0;34m]\u001b[0m \u001b[0;34m+=\u001b[0m \u001b[0;36m1\u001b[0m\u001b[0;34m\u001b[0m\u001b[0m\n\u001b[0;32m--> 292\u001b[0;31m         \u001b[0;32mreturn\u001b[0m \u001b[0mfunction\u001b[0m\u001b[0;34m(\u001b[0m\u001b[0;34m*\u001b[0m\u001b[0;34m(\u001b[0m\u001b[0mwrapper_args\u001b[0m \u001b[0;34m+\u001b[0m \u001b[0margs\u001b[0m\u001b[0;34m)\u001b[0m\u001b[0;34m)\u001b[0m\u001b[0;34m\u001b[0m\u001b[0m\n\u001b[0m\u001b[1;32m    293\u001b[0m \u001b[0;34m\u001b[0m\u001b[0m\n\u001b[1;32m    294\u001b[0m     \u001b[0;32mreturn\u001b[0m \u001b[0mncalls\u001b[0m\u001b[0;34m,\u001b[0m \u001b[0mfunction_wrapper\u001b[0m\u001b[0;34m\u001b[0m\u001b[0m\n",
      "\u001b[0;32m~/.local/lib/python3.6/site-packages/scipy/optimize/optimize.py\u001b[0m in \u001b[0;36mapprox_fprime\u001b[0;34m(xk, f, epsilon, *args)\u001b[0m\n\u001b[1;32m    701\u001b[0m \u001b[0;34m\u001b[0m\u001b[0m\n\u001b[1;32m    702\u001b[0m     \"\"\"\n\u001b[0;32m--> 703\u001b[0;31m     \u001b[0;32mreturn\u001b[0m \u001b[0m_approx_fprime_helper\u001b[0m\u001b[0;34m(\u001b[0m\u001b[0mxk\u001b[0m\u001b[0;34m,\u001b[0m \u001b[0mf\u001b[0m\u001b[0;34m,\u001b[0m \u001b[0mepsilon\u001b[0m\u001b[0;34m,\u001b[0m \u001b[0margs\u001b[0m\u001b[0;34m=\u001b[0m\u001b[0margs\u001b[0m\u001b[0;34m)\u001b[0m\u001b[0;34m\u001b[0m\u001b[0m\n\u001b[0m\u001b[1;32m    704\u001b[0m \u001b[0;34m\u001b[0m\u001b[0m\n\u001b[1;32m    705\u001b[0m \u001b[0;34m\u001b[0m\u001b[0m\n",
      "\u001b[0;32m~/.local/lib/python3.6/site-packages/scipy/optimize/optimize.py\u001b[0m in \u001b[0;36m_approx_fprime_helper\u001b[0;34m(xk, f, epsilon, args, f0)\u001b[0m\n\u001b[1;32m    635\u001b[0m     \"\"\"\n\u001b[1;32m    636\u001b[0m     \u001b[0;32mif\u001b[0m \u001b[0mf0\u001b[0m \u001b[0;32mis\u001b[0m \u001b[0;32mNone\u001b[0m\u001b[0;34m:\u001b[0m\u001b[0;34m\u001b[0m\u001b[0m\n\u001b[0;32m--> 637\u001b[0;31m         \u001b[0mf0\u001b[0m \u001b[0;34m=\u001b[0m \u001b[0mf\u001b[0m\u001b[0;34m(\u001b[0m\u001b[0;34m*\u001b[0m\u001b[0;34m(\u001b[0m\u001b[0;34m(\u001b[0m\u001b[0mxk\u001b[0m\u001b[0;34m,\u001b[0m\u001b[0;34m)\u001b[0m \u001b[0;34m+\u001b[0m \u001b[0margs\u001b[0m\u001b[0;34m)\u001b[0m\u001b[0;34m)\u001b[0m\u001b[0;34m\u001b[0m\u001b[0m\n\u001b[0m\u001b[1;32m    638\u001b[0m     \u001b[0mgrad\u001b[0m \u001b[0;34m=\u001b[0m \u001b[0mnumpy\u001b[0m\u001b[0;34m.\u001b[0m\u001b[0mzeros\u001b[0m\u001b[0;34m(\u001b[0m\u001b[0;34m(\u001b[0m\u001b[0mlen\u001b[0m\u001b[0;34m(\u001b[0m\u001b[0mxk\u001b[0m\u001b[0;34m)\u001b[0m\u001b[0;34m,\u001b[0m\u001b[0;34m)\u001b[0m\u001b[0;34m,\u001b[0m \u001b[0mfloat\u001b[0m\u001b[0;34m)\u001b[0m\u001b[0;34m\u001b[0m\u001b[0m\n\u001b[1;32m    639\u001b[0m     \u001b[0mei\u001b[0m \u001b[0;34m=\u001b[0m \u001b[0mnumpy\u001b[0m\u001b[0;34m.\u001b[0m\u001b[0mzeros\u001b[0m\u001b[0;34m(\u001b[0m\u001b[0;34m(\u001b[0m\u001b[0mlen\u001b[0m\u001b[0;34m(\u001b[0m\u001b[0mxk\u001b[0m\u001b[0;34m)\u001b[0m\u001b[0;34m,\u001b[0m\u001b[0;34m)\u001b[0m\u001b[0;34m,\u001b[0m \u001b[0mfloat\u001b[0m\u001b[0;34m)\u001b[0m\u001b[0;34m\u001b[0m\u001b[0m\n",
      "\u001b[0;32m~/.local/lib/python3.6/site-packages/scipy/optimize/optimize.py\u001b[0m in \u001b[0;36mfunction_wrapper\u001b[0;34m(*wrapper_args)\u001b[0m\n\u001b[1;32m    290\u001b[0m     \u001b[0;32mdef\u001b[0m \u001b[0mfunction_wrapper\u001b[0m\u001b[0;34m(\u001b[0m\u001b[0;34m*\u001b[0m\u001b[0mwrapper_args\u001b[0m\u001b[0;34m)\u001b[0m\u001b[0;34m:\u001b[0m\u001b[0;34m\u001b[0m\u001b[0m\n\u001b[1;32m    291\u001b[0m         \u001b[0mncalls\u001b[0m\u001b[0;34m[\u001b[0m\u001b[0;36m0\u001b[0m\u001b[0;34m]\u001b[0m \u001b[0;34m+=\u001b[0m \u001b[0;36m1\u001b[0m\u001b[0;34m\u001b[0m\u001b[0m\n\u001b[0;32m--> 292\u001b[0;31m         \u001b[0;32mreturn\u001b[0m \u001b[0mfunction\u001b[0m\u001b[0;34m(\u001b[0m\u001b[0;34m*\u001b[0m\u001b[0;34m(\u001b[0m\u001b[0mwrapper_args\u001b[0m \u001b[0;34m+\u001b[0m \u001b[0margs\u001b[0m\u001b[0;34m)\u001b[0m\u001b[0;34m)\u001b[0m\u001b[0;34m\u001b[0m\u001b[0m\n\u001b[0m\u001b[1;32m    293\u001b[0m \u001b[0;34m\u001b[0m\u001b[0m\n\u001b[1;32m    294\u001b[0m     \u001b[0;32mreturn\u001b[0m \u001b[0mncalls\u001b[0m\u001b[0;34m,\u001b[0m \u001b[0mfunction_wrapper\u001b[0m\u001b[0;34m\u001b[0m\u001b[0m\n",
      "\u001b[0;31mTypeError\u001b[0m: 'Mul' object is not callable"
     ]
    }
   ],
   "source": [
    "result = scipy.optimize.minimize(f1, 0)\n",
    "print(result)\n",
    "x0 = result['x']\n",
    "x0"
   ]
  },
  {
   "cell_type": "code",
   "execution_count": 92,
<<<<<<< HEAD
   "metadata": {},
=======
   "metadata": {
    "collapsed": true
   },
>>>>>>> af4b9c150c73e3f4489e69d0dec1812c916538b9
   "outputs": [],
   "source": [
    "def f2(x):\n",
    "    return (1 - x[0])**3 + 100.0 * (x[1] - x[0]**3)**3"
   ]
  },
  {
   "cell_type": "code",
   "execution_count": 93,
   "metadata": {},
   "outputs": [
    {
     "name": "stdout",
     "output_type": "stream",
     "text": [
      "      fun: -1.6949824274628968e+83\n",
      " hess_inv: array([[ 3.65937727e-10, -9.87021991e-06],\n",
      "       [-9.87021991e-06,  2.66547925e-01]])\n",
      "      jac: array([0., 0.])\n",
      "  message: 'Optimization terminated successfully.'\n",
      "     nfev: 232\n",
      "      nit: 32\n",
      "     njev: 58\n",
      "   status: 0\n",
      "  success: True\n",
      "        x: array([ 1.06038311e+09, -2.86010813e+13])\n"
     ]
    },
    {
     "data": {
      "text/plain": [
       "array([ 1.06038311e+09, -2.86010813e+13])"
      ]
     },
     "execution_count": 93,
     "metadata": {},
     "output_type": "execute_result"
    }
   ],
   "source": [
    "result = scipy.optimize.minimize(f2, (-20, -20))\n",
    "print(result)\n",
    "x0 = result['x']\n",
    "x0"
   ]
  },
  {
   "cell_type": "code",
<<<<<<< HEAD
=======
   "execution_count": 1,
   "metadata": {},
   "outputs": [
    {
     "name": "stdout",
     "output_type": "stream",
     "text": [
      "The local minimum occurs at 2.249965\n"
     ]
    }
   ],
   "source": [
    "# From calculation, it is expected that the local minimum occurs at x=9/4\n",
    "\n",
    "cur_x = 6 # The algorithm starts at x=6\n",
    "gamma = 0.01 # step size multiplier\n",
    "precision = 0.00001\n",
    "previous_step_size = cur_x\n",
    "\n",
    "df = lambda x: 4 * x**3 - 9 * x**2\n",
    "\n",
    "while previous_step_size > precision:\n",
    "    prev_x = cur_x\n",
    "    cur_x += -gamma * df(prev_x)\n",
    "    previous_step_size = abs(cur_x - prev_x)\n",
    "\n",
    "print(\"The local minimum occurs at %f\" % cur_x)"
   ]
  },
  {
   "cell_type": "code",
>>>>>>> af4b9c150c73e3f4489e69d0dec1812c916538b9
   "execution_count": null,
   "metadata": {
    "collapsed": true
   },
   "outputs": [],
   "source": []
  }
 ],
 "metadata": {
  "kernelspec": {
   "display_name": "Python 3",
   "language": "python",
   "name": "python3"
  },
  "language_info": {
   "codemirror_mode": {
    "name": "ipython",
    "version": 3
   },
   "file_extension": ".py",
   "mimetype": "text/x-python",
   "name": "python",
   "nbconvert_exporter": "python",
   "pygments_lexer": "ipython3",
   "version": "3.6.3"
  }
 },
 "nbformat": 4,
 "nbformat_minor": 2
}
