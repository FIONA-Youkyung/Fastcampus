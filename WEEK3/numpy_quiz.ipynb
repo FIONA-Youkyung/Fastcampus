{
 "cells": [
  {
   "cell_type": "markdown",
   "metadata": {},
   "source": [
    "### Quiz"
   ]
  },
  {
   "cell_type": "code",
   "execution_count": 2,
   "metadata": {
    "collapsed": true
   },
   "outputs": [],
   "source": [
    "import numpy as np"
   ]
  },
  {
   "cell_type": "markdown",
   "metadata": {},
   "source": [
    "##### 1. 5개의 1로 이루어진 정수데이터 타입의 벡터를 만드세요 - ok"
   ]
  },
  {
   "cell_type": "code",
   "execution_count": 2,
   "metadata": {},
   "outputs": [
    {
     "data": {
      "text/plain": [
       "array([1, 1, 1, 1, 1])"
      ]
     },
     "execution_count": 2,
     "metadata": {},
     "output_type": "execute_result"
    }
   ],
   "source": [
    "# data = np.array([1,1,1,1,1], dtype = int)\n",
    "# data\n",
    "\n",
    "#or\n",
    "\n",
    "data1 = np.ones(5, dtype = int)\n",
    "data1"
   ]
  },
  {
   "cell_type": "markdown",
   "metadata": {},
   "source": [
    "##### 2. 10개의 1로 이루어진 정수 데이터 타입의 벡터에서 마지막 3개의 데이터는 5가 들어있는 벡터를 만드세요 -ok"
   ]
  },
  {
   "cell_type": "code",
   "execution_count": 3,
   "metadata": {},
   "outputs": [
    {
     "name": "stdout",
     "output_type": "stream",
     "text": [
      "[1 1 1 1 1 1 1 5 5 5]\n"
     ]
    }
   ],
   "source": [
    "data = np.ones(10, dtype = int)\n",
    "data[7:] = 5\n",
    "print(data)\n"
   ]
  },
  {
   "cell_type": "markdown",
   "metadata": {},
   "source": [
    "##### 3. 10에서 20까지의 데이터를 가지는 벡터를 만드세요 - ok"
   ]
  },
  {
   "cell_type": "code",
   "execution_count": 4,
   "metadata": {},
   "outputs": [
    {
     "data": {
      "text/plain": [
       "array([10, 11, 12, 13, 14, 15, 16, 17, 18, 19, 20])"
      ]
     },
     "execution_count": 4,
     "metadata": {},
     "output_type": "execute_result"
    }
   ],
   "source": [
    "data = np.arange(10, 21)\n",
    "data"
   ]
  },
  {
   "cell_type": "markdown",
   "metadata": {},
   "source": [
    "##### 4. 위 벡터의 순서를 바꾸세요 - ok"
   ]
  },
  {
   "cell_type": "code",
   "execution_count": 5,
   "metadata": {},
   "outputs": [
    {
     "data": {
      "text/plain": [
       "array([20, 19, 18, 17, 16, 15, 14, 13, 12, 11, 10])"
      ]
     },
     "execution_count": 5,
     "metadata": {},
     "output_type": "execute_result"
    }
   ],
   "source": [
    "data = np.arange(10, 21)[::-1]\n",
    "data"
   ]
  },
  {
   "cell_type": "markdown",
   "metadata": {},
   "source": [
    "##### 5. 0부터 8까지의 값을 가지는 3x3 행렬을 만드세요 - ok"
   ]
  },
  {
   "cell_type": "code",
   "execution_count": 6,
   "metadata": {},
   "outputs": [
    {
     "data": {
      "text/plain": [
       "array([[0, 1, 2],\n",
       "       [3, 4, 5],\n",
       "       [6, 7, 8]])"
      ]
     },
     "execution_count": 6,
     "metadata": {},
     "output_type": "execute_result"
    }
   ],
   "source": [
    "data = np.arange(0, 9).reshape(3,3)\n",
    "data"
   ]
  },
  {
   "cell_type": "markdown",
   "metadata": {},
   "source": [
    "##### 6. 위의 벡터에서  `[[4,5],[7,8]]`  행렬을 만드세요 - okay"
   ]
  },
  {
   "cell_type": "code",
   "execution_count": 131,
   "metadata": {},
   "outputs": [
    {
     "name": "stdout",
     "output_type": "stream",
     "text": [
      "[[4 5]\n",
      " [7 8]]\n"
     ]
    }
   ],
   "source": [
    "data = np.arange(0, 9).reshape(3,3)\n",
    "data1 = data[1:,1:]\n",
    "print(data1)"
   ]
  },
  {
   "cell_type": "markdown",
   "metadata": {},
   "source": [
    "##### 7. 1에서 10까지의 데이터를 랜덤하게 가지는 3*4 행렬을 만드세요 - ok"
   ]
  },
  {
   "cell_type": "code",
   "execution_count": 8,
   "metadata": {},
   "outputs": [
    {
     "data": {
      "text/plain": [
       "array([[ 6,  9, 10,  6],\n",
       "       [ 1,  1,  2,  8],\n",
       "       [ 7, 10,  3,  5]])"
      ]
     },
     "execution_count": 8,
     "metadata": {},
     "output_type": "execute_result"
    }
   ],
   "source": [
    "np.random.seed(1) #fixed random number generate \n",
    "data = np.random.randint(1,11,(3,4))\n",
    "data"
   ]
  },
  {
   "cell_type": "markdown",
   "metadata": {},
   "source": [
    "##### 8. 위에서 만든 행렬의 unique 한 숫자들 리스트와 각숫자의 갯수를 리스트로 나타내세요 - ok"
   ]
  },
  {
   "cell_type": "code",
   "execution_count": 9,
   "metadata": {},
   "outputs": [
    {
     "data": {
      "text/plain": [
       "(array([ 1,  2,  3,  5,  6,  7,  8,  9, 10]),\n",
       " array([2, 1, 1, 1, 2, 1, 1, 1, 2]))"
      ]
     },
     "execution_count": 9,
     "metadata": {},
     "output_type": "execute_result"
    }
   ],
   "source": [
    "index, count = np.unique(data, return_counts=True)\n",
    "index, count"
   ]
  },
  {
   "cell_type": "markdown",
   "metadata": {},
   "source": [
    "##### 9. 1에서 12까지에 숫자가 들어간 3*4 행렬을 만드시고 행과 열에 관계없이 데이터를 섞으세요 - ok"
   ]
  },
  {
   "cell_type": "code",
   "execution_count": 10,
   "metadata": {},
   "outputs": [
    {
     "name": "stdout",
     "output_type": "stream",
     "text": [
      "random 3x4 matrix\n",
      " [[ 6 12  9 10]\n",
      " [12  6  1  1]\n",
      " [ 2  8  7 10]]\n",
      "\n",
      "shuffled 3x4 matrix\n",
      " [[12  6  1  1]\n",
      " [ 6 12  9 10]\n",
      " [ 2  8  7 10]]\n"
     ]
    }
   ],
   "source": [
    "np.random.seed(1) #fixed random number generate \n",
    "data = np.random.randint(1,13,(3,4))\n",
    "print(\"random 3x4 matrix\\n\", data)\n",
    "print()\n",
    "np.random.shuffle(data)\n",
    "print(\"shuffled 3x4 matrix\\n\",data)"
   ]
  },
  {
   "cell_type": "markdown",
   "metadata": {},
   "source": [
    "##### 10. 1부터 10까지의 랜덤한 데이터가 들어가는 `3*3`행렬을 만드시고 가장 아래에 위의 데이터를 모두 합한 `1*3`행렬을 추가해서 `4*3`행렬을 만드세요 - ok"
   ]
  },
  {
   "cell_type": "code",
   "execution_count": 11,
   "metadata": {},
   "outputs": [
    {
     "name": "stdout",
     "output_type": "stream",
     "text": [
      "[[ 6  9 10]\n",
      " [ 6  1  1]\n",
      " [ 2  8  7]]\n",
      "\n",
      "[14 18 18]\n",
      "\n",
      "[[ 6  9 10]\n",
      " [ 6  1  1]\n",
      " [ 2  8  7]\n",
      " [14 18 18]]\n"
     ]
    }
   ],
   "source": [
    "np.random.seed(1) #fixed random number generate \n",
    "data = np.random.randint(1,11,(3,3))\n",
    "print(data)\n",
    "print()\n",
    "data1 = data[0]  +  data[1] + data[2]   \n",
    "print(data1)\n",
    "print()\n",
    "data2 = np.vstack((data, data1))\n",
    "print(data2)\n"
   ]
  },
  {
   "cell_type": "markdown",
   "metadata": {},
   "source": [
    "##### 11. 10번문제의 결과로 나온 행렬데이터에서 평균값을 출력하고 평균값보다 큰 숫자들만 유니크한 리스트로 나열하세요 (평균값은 소수 둘째 자리까지만 나타내세요) - ok"
   ]
  },
  {
   "cell_type": "code",
   "execution_count": 12,
   "metadata": {},
   "outputs": [
    {
     "name": "stdout",
     "output_type": "stream",
     "text": [
      "avg :  8.33\n"
     ]
    },
    {
     "data": {
      "text/plain": [
       "array([ 9, 10, 14, 18])"
      ]
     },
     "execution_count": 12,
     "metadata": {},
     "output_type": "execute_result"
    }
   ],
   "source": [
    "avg_data2 = np.round(data2.mean(), decimals=2)\n",
    "print(\"avg : \", avg_data2)\n",
    "\n",
    "data3 = np.unique(data2[data2>avg_data2])\n",
    "data3\n"
   ]
  },
  {
   "cell_type": "markdown",
   "metadata": {},
   "source": [
    "##### 12. 1부터 20까지의 랜덤숫자를 가지는 5*5 행렬을 만드시고 최대값에는 숫자(MAX), 최소값에는 숫자(MIN)으로 행렬을 바꾸세요 - ok"
   ]
  },
  {
   "cell_type": "code",
   "execution_count": 15,
   "metadata": {},
   "outputs": [
    {
     "name": "stdout",
     "output_type": "stream",
     "text": [
      "[[ 9 16 14  9 12]\n",
      " [19 12  9  8  3]\n",
      " [18 12 16  6  8]\n",
      " [ 4  7  5 11 12]\n",
      " [20  8  7 11  2]]\n",
      "\n",
      "min : 2 \n",
      "max : 20\n"
     ]
    },
    {
     "data": {
      "text/plain": [
       "array([['9', '16', '2(min)', '9', '12'],\n",
       "       ['19', '12', '9', '8', '3'],\n",
       "       ['18', '12', '16', '6', '8'],\n",
       "       ['4', '7', '5', '11', '12'],\n",
       "       ['20(max)', '8', '7', '11', '2']], dtype='<U21')"
      ]
     },
     "execution_count": 15,
     "metadata": {},
     "output_type": "execute_result"
    }
   ],
   "source": [
    "np.random.seed(2) #fixed random number generate \n",
    "data = np.random.randint(1,21,(5,5))\n",
    "print(data)\n",
    "print()\n",
    "\n",
    "data1 = data.flatten()\n",
    "\n",
    "min_data = data1.min()\n",
    "max_data = data1.max()\n",
    "\n",
    "print(\"min :\", min_data, \"\\nmax :\", max_data)\n",
    "\n",
    "\n",
    "data1 = data1.astype('U21')\n",
    "\n",
    "data1[min_data] = \"{}({})\".format(min_data, \"min\")\n",
    "data1[max_data] = \"{}({})\".format(max_data, \"max\")\n",
    "\n",
    "data2 = data1.reshape(5,5)\n",
    "data2"
   ]
  },
  {
   "cell_type": "markdown",
   "metadata": {},
   "source": [
    "##### 13. 100에서 130까지의 랜덤 숫자를 가지는 8*8행렬을 만드시고 3의 배수에는 fiz, 5의 배수에는 buz, 3과 5의 배수는 fbz 문자를 출력하세요 - ok"
   ]
  },
  {
   "cell_type": "code",
   "execution_count": 129,
   "metadata": {},
   "outputs": [
    {
     "name": "stdout",
     "output_type": "stream",
     "text": [
      "[[110 124 125 103 124 108 100 121]\n",
      " [129 119 110 111 125 109 110 121]\n",
      " [123 106 100 120 112 129 107 114]\n",
      " [124 126 117 126 122 102 102 128]\n",
      " [101 119 126 105 108 114 101 129]\n",
      " [110 124 127 130 107 124 111 101]\n",
      " [127 115 116 105 120 130 117 121]\n",
      " [114 120 128 123 122 100 100 109]]\n",
      "\n"
     ]
    },
    {
     "data": {
      "text/plain": [
       "array([['buzz', '124', 'buzz', '103', '124', 'fizz', 'buzz', '121'],\n",
       "       ['fizz', '119', 'buzz', 'fizz', 'buzz', '109', 'buzz', '121'],\n",
       "       ['fizz', '106', 'buzz', 'fzb', '112', 'fizz', '107', 'fizz'],\n",
       "       ['124', 'fizz', 'fizz', 'fizz', '122', 'fizz', 'fizz', '128'],\n",
       "       ['101', '119', 'fizz', 'fzb', 'fizz', 'fizz', '101', 'fizz'],\n",
       "       ['buzz', '124', '127', 'buzz', '107', '124', 'fizz', '101'],\n",
       "       ['127', 'buzz', '116', 'fzb', 'fzb', 'buzz', 'fizz', '121'],\n",
       "       ['fizz', 'fzb', '128', 'fizz', '122', 'buzz', 'buzz', '109']],\n",
       "      dtype='<U21')"
      ]
     },
     "execution_count": 129,
     "metadata": {},
     "output_type": "execute_result"
    }
   ],
   "source": [
    "np.random.seed(3) #fixed random number generate \n",
    "data = np.random.randint(100,131,(8,8), dtype = int)\n",
    "print(data)\n",
    "print()\n",
    "\n",
    "data1 = data.flatten()\n",
    "\n",
    "ls = []\n",
    "for idx in data1:\n",
    "    if idx % 3 ==0 and idx % 5 ==0:\n",
    "        idx = \"fzb\"\n",
    "    elif idx % 3 == 0:\n",
    "        idx = \"fizz\"\n",
    "    elif idx % 5 == 0:\n",
    "        idx = \"buzz\"\n",
    "    else:\n",
    "        idx\n",
    "        \n",
    "    ls.append(idx)\n",
    "    \n",
    "\n",
    "ls = np.stack(ls)\n",
    "ls = ls.reshape(8,8)\n",
    "ls"
   ]
  },
  {
   "cell_type": "markdown",
   "metadata": {},
   "source": [
    "##### 14. 리스트 컴프리헨션을 이용하여 아래와 같은 규칙은 갖는 행렬을 만드세요 - ok"
   ]
  },
  {
   "cell_type": "code",
   "execution_count": 110,
   "metadata": {
    "collapsed": true
   },
   "outputs": [],
   "source": [
    "# numbers = 5\n",
    "\n",
    "# data1 = np.arange(1, numbers+1)*1\n",
    "# data2 = np.arange(1, numbers+1)*2\n",
    "# data3 = np.arange(1, numbers+1)*3\n",
    "# data4 = np.arange(1, numbers+1)*4\n",
    "# data5 = np.arange(1, numbers+1)*5\n",
    "\n",
    "# data_sum = np.vstack((data1, data2, data3, data4, data5))\n",
    "# data_sum"
   ]
  },
  {
   "cell_type": "code",
   "execution_count": 111,
   "metadata": {},
   "outputs": [
    {
     "name": "stdout",
     "output_type": "stream",
     "text": [
      "numbers : 5\n"
     ]
    },
    {
     "data": {
      "text/plain": [
       "array([[ 1,  2,  3,  4,  5],\n",
       "       [ 2,  4,  6,  8, 10],\n",
       "       [ 3,  6,  9, 12, 15],\n",
       "       [ 4,  8, 12, 16, 20],\n",
       "       [ 5, 10, 15, 20, 25]])"
      ]
     },
     "execution_count": 111,
     "metadata": {},
     "output_type": "execute_result"
    }
   ],
   "source": [
    "numbers = int(input(\"numbers : \"))\n",
    "\n",
    "ls = [np.arange(1, numbers+1)*idx  for idx in range(1, numbers+1)]\n",
    "data = np.stack(ls)\n",
    "data"
   ]
  },
  {
   "cell_type": "code",
   "execution_count": 102,
   "metadata": {},
   "outputs": [
    {
     "data": {
      "text/plain": [
       "array([[ 1,  2,  3,  4,  5],\n",
       "       [ 2,  4,  6,  8, 10],\n",
       "       [ 3,  6,  9, 12, 15],\n",
       "       [ 4,  8, 12, 16, 20],\n",
       "       [ 5, 10, 15, 20, 25]])"
      ]
     },
     "execution_count": 102,
     "metadata": {},
     "output_type": "execute_result"
    }
   ],
   "source": [
    "numbers = 5\n",
    "ls = []\n",
    "for idx in range(1, numbers +1):\n",
    "    data = np.arange(1, numbers+1)*idx\n",
    "    ls.append(data)\n",
    "\n",
    "# data_sum = np.stack((ls[0], ls[1], ls[2], ls[3], ls[4]))\n",
    "# print(data_sum)\n",
    "\n",
    "data_ = np.stack(ls)\n",
    "data_\n",
    "# for num in range(1,numbers):\n",
    "#     print(num)\n",
    "#     data_sum = np.stack((ls[0]))\n",
    "\n",
    "#     data_sum2 = np.stack((data_sum,ls[num]))\n",
    "\n",
    "# data_sum2"
   ]
  }
 ],
 "metadata": {
  "kernelspec": {
   "display_name": "Python 3",
   "language": "python",
   "name": "python3"
  },
  "language_info": {
   "codemirror_mode": {
    "name": "ipython",
    "version": 3
   },
   "file_extension": ".py",
   "mimetype": "text/x-python",
   "name": "python",
   "nbconvert_exporter": "python",
   "pygments_lexer": "ipython3",
   "version": "3.6.3"
  }
 },
 "nbformat": 4,
 "nbformat_minor": 2
}
