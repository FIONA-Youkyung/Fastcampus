{
 "cells": [
  {
   "cell_type": "code",
   "execution_count": 1,
   "metadata": {},
   "outputs": [
    {
     "name": "stderr",
     "output_type": "stream",
     "text": [
      "/home/jk/enter/lib/python3.6/site-packages/statsmodels/compat/pandas.py:56: FutureWarning: The pandas.core.datetools module is deprecated and will be removed in a future version. Please use the pandas.tseries module instead.\n",
      "  from pandas.core import datetools\n"
     ]
    }
   ],
   "source": [
    "import numpy as np\n",
    "import scipy as sp\n",
    "import pandas as pd\n",
    "import statsmodels.api as sm\n",
    "import statsmodels.formula.api as smf\n",
    "import statsmodels.stats.api as sms\n",
    "import sklearn as sk\n",
    "\n",
    "import matplotlib as mpl\n",
    "mpl.use('Agg')\n",
    "import matplotlib.pylab as plt\n",
    "from mpl_toolkits.mplot3d import Axes3D\n",
    "\n",
    "import seaborn as sns\n",
    "sns.set()\n",
    "sns.set_style(\"whitegrid\")\n",
    "sns.set_color_codes()\n",
    "\n",
    "%matplotlib inline"
   ]
  },
  {
   "cell_type": "code",
   "execution_count": 2,
   "metadata": {},
   "outputs": [
    {
     "data": {
      "text/html": [
       "<div>\n",
       "<style scoped>\n",
       "    .dataframe tbody tr th:only-of-type {\n",
       "        vertical-align: middle;\n",
       "    }\n",
       "\n",
       "    .dataframe tbody tr th {\n",
       "        vertical-align: top;\n",
       "    }\n",
       "\n",
       "    .dataframe thead th {\n",
       "        text-align: right;\n",
       "    }\n",
       "</style>\n",
       "<table border=\"1\" class=\"dataframe\">\n",
       "  <thead>\n",
       "    <tr style=\"text-align: right;\">\n",
       "      <th></th>\n",
       "      <th>Case</th>\n",
       "      <th>Restaurant</th>\n",
       "      <th>Price</th>\n",
       "      <th>Food</th>\n",
       "      <th>Decor</th>\n",
       "      <th>Service</th>\n",
       "      <th>East</th>\n",
       "    </tr>\n",
       "  </thead>\n",
       "  <tbody>\n",
       "    <tr>\n",
       "      <th>163</th>\n",
       "      <td>164</td>\n",
       "      <td>Baci</td>\n",
       "      <td>31</td>\n",
       "      <td>17</td>\n",
       "      <td>15</td>\n",
       "      <td>16</td>\n",
       "      <td>0</td>\n",
       "    </tr>\n",
       "    <tr>\n",
       "      <th>164</th>\n",
       "      <td>165</td>\n",
       "      <td>Puccini</td>\n",
       "      <td>26</td>\n",
       "      <td>20</td>\n",
       "      <td>16</td>\n",
       "      <td>17</td>\n",
       "      <td>0</td>\n",
       "    </tr>\n",
       "    <tr>\n",
       "      <th>165</th>\n",
       "      <td>166</td>\n",
       "      <td>Bella Luna</td>\n",
       "      <td>31</td>\n",
       "      <td>18</td>\n",
       "      <td>16</td>\n",
       "      <td>17</td>\n",
       "      <td>0</td>\n",
       "    </tr>\n",
       "    <tr>\n",
       "      <th>166</th>\n",
       "      <td>167</td>\n",
       "      <td>Métisse</td>\n",
       "      <td>38</td>\n",
       "      <td>22</td>\n",
       "      <td>17</td>\n",
       "      <td>21</td>\n",
       "      <td>0</td>\n",
       "    </tr>\n",
       "    <tr>\n",
       "      <th>167</th>\n",
       "      <td>168</td>\n",
       "      <td>Gennaro</td>\n",
       "      <td>34</td>\n",
       "      <td>24</td>\n",
       "      <td>10</td>\n",
       "      <td>16</td>\n",
       "      <td>0</td>\n",
       "    </tr>\n",
       "  </tbody>\n",
       "</table>\n",
       "</div>"
      ],
      "text/plain": [
       "     Case  Restaurant  Price  Food  Decor  Service  East\n",
       "163   164        Baci     31    17     15       16     0\n",
       "164   165     Puccini     26    20     16       17     0\n",
       "165   166  Bella Luna     31    18     16       17     0\n",
       "166   167     Métisse     38    22     17       21     0\n",
       "167   168     Gennaro     34    24     10       16     0"
      ]
     },
     "execution_count": 2,
     "metadata": {},
     "output_type": "execute_result"
    }
   ],
   "source": [
    "df = pd.read_csv(\"test.csv\")\n",
    "df.tail()"
   ]
  },
  {
   "cell_type": "code",
   "execution_count": 3,
   "metadata": {},
   "outputs": [
    {
     "data": {
      "text/html": [
       "<div>\n",
       "<style scoped>\n",
       "    .dataframe tbody tr th:only-of-type {\n",
       "        vertical-align: middle;\n",
       "    }\n",
       "\n",
       "    .dataframe tbody tr th {\n",
       "        vertical-align: top;\n",
       "    }\n",
       "\n",
       "    .dataframe thead th {\n",
       "        text-align: right;\n",
       "    }\n",
       "</style>\n",
       "<table border=\"1\" class=\"dataframe\">\n",
       "  <thead>\n",
       "    <tr style=\"text-align: right;\">\n",
       "      <th></th>\n",
       "      <th>Restaurant</th>\n",
       "      <th>Price</th>\n",
       "      <th>Food</th>\n",
       "      <th>Decor</th>\n",
       "      <th>Service</th>\n",
       "      <th>East</th>\n",
       "    </tr>\n",
       "  </thead>\n",
       "  <tbody>\n",
       "    <tr>\n",
       "      <th>163</th>\n",
       "      <td>Baci</td>\n",
       "      <td>31</td>\n",
       "      <td>17</td>\n",
       "      <td>15</td>\n",
       "      <td>16</td>\n",
       "      <td>0</td>\n",
       "    </tr>\n",
       "    <tr>\n",
       "      <th>164</th>\n",
       "      <td>Puccini</td>\n",
       "      <td>26</td>\n",
       "      <td>20</td>\n",
       "      <td>16</td>\n",
       "      <td>17</td>\n",
       "      <td>0</td>\n",
       "    </tr>\n",
       "    <tr>\n",
       "      <th>165</th>\n",
       "      <td>Bella Luna</td>\n",
       "      <td>31</td>\n",
       "      <td>18</td>\n",
       "      <td>16</td>\n",
       "      <td>17</td>\n",
       "      <td>0</td>\n",
       "    </tr>\n",
       "    <tr>\n",
       "      <th>166</th>\n",
       "      <td>Métisse</td>\n",
       "      <td>38</td>\n",
       "      <td>22</td>\n",
       "      <td>17</td>\n",
       "      <td>21</td>\n",
       "      <td>0</td>\n",
       "    </tr>\n",
       "    <tr>\n",
       "      <th>167</th>\n",
       "      <td>Gennaro</td>\n",
       "      <td>34</td>\n",
       "      <td>24</td>\n",
       "      <td>10</td>\n",
       "      <td>16</td>\n",
       "      <td>0</td>\n",
       "    </tr>\n",
       "  </tbody>\n",
       "</table>\n",
       "</div>"
      ],
      "text/plain": [
       "     Restaurant  Price  Food  Decor  Service  East\n",
       "163        Baci     31    17     15       16     0\n",
       "164     Puccini     26    20     16       17     0\n",
       "165  Bella Luna     31    18     16       17     0\n",
       "166     Métisse     38    22     17       21     0\n",
       "167     Gennaro     34    24     10       16     0"
      ]
     },
     "execution_count": 3,
     "metadata": {},
     "output_type": "execute_result"
    }
   ],
   "source": [
    "df = df.drop(labels = [\"Case\"], axis=1)\n",
    "df.tail()"
   ]
  },
  {
   "cell_type": "code",
   "execution_count": 4,
   "metadata": {},
   "outputs": [
    {
     "data": {
      "image/png": "[encoded data removed]",
      "text/plain": [
       "<matplotlib.figure.Figure at 0x7fb31457ca20>"
      ]
     },
     "metadata": {},
     "output_type": "display_data"
    }
   ],
   "source": [
    "sns.pairplot(df)\n",
    "plt.show()"
   ]
  },
  {
   "cell_type": "code",
   "execution_count": 5,
   "metadata": {},
   "outputs": [],
   "source": [
    "# df2 = pd.get_dummies(df, columns=[\"Restaurant\"], prefix='Restaurant')\n"
   ]
  },
  {
   "cell_type": "code",
   "execution_count": 16,
   "metadata": {},
   "outputs": [
    {
     "data": {
      "text/plain": [
       "((168, 4), (168,))"
      ]
     },
     "execution_count": 16,
     "metadata": {},
     "output_type": "execute_result"
    }
   ],
   "source": [
    "x_df2 = df.drop(labels = [\"Price\", \"Restaurant\"], axis=1)\n",
    "y_df2 = df[\"Price\"]\n",
    "x_df2.shape, y_df2.shape"
   ]
  },
  {
   "cell_type": "markdown",
   "metadata": {},
   "source": [
    "# 1. answer"
   ]
  },
  {
   "cell_type": "code",
   "execution_count": 17,
   "metadata": {},
   "outputs": [
    {
     "name": "stdout",
     "output_type": "stream",
     "text": [
      "                            OLS Regression Results                            \n",
      "==============================================================================\n",
      "Dep. Variable:                  Price   R-squared:                       0.981\n",
      "Model:                            OLS   Adj. R-squared:                  0.980\n",
      "Method:                 Least Squares   F-statistic:                     2072.\n",
      "Date:                Fri, 09 Mar 2018   Prob (F-statistic):          3.34e-139\n",
      "Time:                        15:51:43   Log-Likelihood:                -541.80\n",
      "No. Observations:                 168   AIC:                             1092.\n",
      "Df Residuals:                     164   BIC:                             1104.\n",
      "Df Model:                           4                                         \n",
      "Covariance Type:            nonrobust                                         \n",
      "==============================================================================\n",
      "                 coef    std err          t      P>|t|      [0.025      0.975]\n",
      "------------------------------------------------------------------------------\n",
      "Food           0.6277      0.347      1.810      0.072      -0.057       1.312\n",
      "Decor          1.8244      0.232      7.854      0.000       1.366       2.283\n",
      "Service       -0.1949      0.423     -0.460      0.646      -1.031       0.641\n",
      "East           2.3579      1.015      2.324      0.021       0.355       4.361\n",
      "==============================================================================\n",
      "Omnibus:                        2.586   Durbin-Watson:                   1.748\n",
      "Prob(Omnibus):                  0.274   Jarque-Bera (JB):                2.333\n",
      "Skew:                           0.287   Prob(JB):                        0.312\n",
      "Kurtosis:                       3.057   Cond. No.                         71.8\n",
      "==============================================================================\n",
      "\n",
      "Warnings:\n",
      "[1] Standard Errors assume that the covariance matrix of the errors is correctly specified.\n"
     ]
    }
   ],
   "source": [
    "OLS_model2 = sm.OLS(y_df2, x_df2).fit()\n",
    "print(OLS_model2.summary())"
   ]
  },
  {
   "cell_type": "markdown",
   "metadata": {},
   "source": [
    "# 2. answer"
   ]
  },
  {
   "cell_type": "markdown",
   "metadata": {},
   "source": [
    "docor가 가장 많은 영향을 미친다. 통계적으로 유의하다"
   ]
  },
  {
   "cell_type": "code",
   "execution_count": 13,
   "metadata": {},
   "outputs": [
    {
     "data": {
      "text/plain": [
       "((168, 4), (168,))"
      ]
     },
     "execution_count": 13,
     "metadata": {},
     "output_type": "execute_result"
    }
   ],
   "source": [
    "x_df1 = df.drop(labels = [\"Price\", \"Restaurant\"], axis=1)\n",
    "y_df1 = df[\"Price\"]\n",
    "x_df1.shape, y_df1.shape"
   ]
  },
  {
   "cell_type": "code",
   "execution_count": 14,
   "metadata": {},
   "outputs": [
    {
     "name": "stdout",
     "output_type": "stream",
     "text": [
      "                            OLS Regression Results                            \n",
      "==============================================================================\n",
      "Dep. Variable:                  Price   R-squared:                       0.981\n",
      "Model:                            OLS   Adj. R-squared:                  0.980\n",
      "Method:                 Least Squares   F-statistic:                     2072.\n",
      "Date:                Fri, 09 Mar 2018   Prob (F-statistic):          3.34e-139\n",
      "Time:                        15:49:49   Log-Likelihood:                -541.80\n",
      "No. Observations:                 168   AIC:                             1092.\n",
      "Df Residuals:                     164   BIC:                             1104.\n",
      "Df Model:                           4                                         \n",
      "Covariance Type:            nonrobust                                         \n",
      "==============================================================================\n",
      "                 coef    std err          t      P>|t|      [0.025      0.975]\n",
      "------------------------------------------------------------------------------\n",
      "Food           0.6277      0.347      1.810      0.072      -0.057       1.312\n",
      "Decor          1.8244      0.232      7.854      0.000       1.366       2.283\n",
      "Service       -0.1949      0.423     -0.460      0.646      -1.031       0.641\n",
      "East           2.3579      1.015      2.324      0.021       0.355       4.361\n",
      "==============================================================================\n",
      "Omnibus:                        2.586   Durbin-Watson:                   1.748\n",
      "Prob(Omnibus):                  0.274   Jarque-Bera (JB):                2.333\n",
      "Skew:                           0.287   Prob(JB):                        0.312\n",
      "Kurtosis:                       3.057   Cond. No.                         71.8\n",
      "==============================================================================\n",
      "\n",
      "Warnings:\n",
      "[1] Standard Errors assume that the covariance matrix of the errors is correctly specified.\n"
     ]
    }
   ],
   "source": [
    "OLS_model1 = sm.OLS(y_df1, x_df1).fit()\n",
    "print(OLS_model1.summary())"
   ]
  },
  {
   "cell_type": "markdown",
   "metadata": {},
   "source": [
    "# 3. answer"
   ]
  },
  {
   "cell_type": "markdown",
   "metadata": {},
   "source": [
    "식당의 위치는 가격에 영향을 미친다. 통계적으로 유의미 하다. east 식당은 west 보다 2만큼 비싸다."
   ]
  },
  {
   "cell_type": "code",
   "execution_count": 10,
   "metadata": {},
   "outputs": [
    {
     "data": {
      "text/plain": [
       "0    0\n",
       "1    0\n",
       "2    0\n",
       "3    0\n",
       "4    0\n",
       "5    0\n",
       "6    0\n",
       "7    1\n",
       "8    1\n",
       "9    1\n",
       "Name: East, dtype: int64"
      ]
     },
     "execution_count": 10,
     "metadata": {},
     "output_type": "execute_result"
    }
   ],
   "source": [
    "df.East.head(10)"
   ]
  },
  {
   "cell_type": "code",
   "execution_count": 12,
   "metadata": {},
   "outputs": [
    {
     "name": "stdout",
     "output_type": "stream",
     "text": [
      "0    0\n",
      "1    0\n",
      "2    0\n",
      "3    0\n",
      "4    0\n",
      "5    0\n",
      "6    0\n",
      "7    1\n",
      "8    1\n",
      "9    1\n",
      "Name: East, dtype: int64\n",
      "                            OLS Regression Results                            \n",
      "==============================================================================\n",
      "Dep. Variable:                  Price   R-squared:                       0.981\n",
      "Model:                            OLS   Adj. R-squared:                  0.980\n",
      "Method:                 Least Squares   F-statistic:                     2072.\n",
      "Date:                Fri, 09 Mar 2018   Prob (F-statistic):          3.34e-139\n",
      "Time:                        15:48:59   Log-Likelihood:                -541.80\n",
      "No. Observations:                 168   AIC:                             1092.\n",
      "Df Residuals:                     164   BIC:                             1104.\n",
      "Df Model:                           4                                         \n",
      "Covariance Type:            nonrobust                                         \n",
      "==============================================================================\n",
      "                 coef    std err          t      P>|t|      [0.025      0.975]\n",
      "------------------------------------------------------------------------------\n",
      "Food           0.6277      0.347      1.810      0.072      -0.057       1.312\n",
      "Decor          1.8244      0.232      7.854      0.000       1.366       2.283\n",
      "Service       -0.1949      0.423     -0.460      0.646      -1.031       0.641\n",
      "East           2.3579      1.015      2.324      0.021       0.355       4.361\n",
      "==============================================================================\n",
      "Omnibus:                        2.586   Durbin-Watson:                   1.748\n",
      "Prob(Omnibus):                  0.274   Jarque-Bera (JB):                2.333\n",
      "Skew:                           0.287   Prob(JB):                        0.312\n",
      "Kurtosis:                       3.057   Cond. No.                         71.8\n",
      "==============================================================================\n",
      "\n",
      "Warnings:\n",
      "[1] Standard Errors assume that the covariance matrix of the errors is correctly specified.\n"
     ]
    }
   ],
   "source": [
    "print(df.East.head(10))\n",
    "x_df3 = df.drop(labels = [\"Price\", \"Restaurant\"], axis=1)\n",
    "y_df3 = df[\"Price\"]\n",
    "\n",
    "OLS_model3 = sm.OLS(y_df3, x_df3).fit()\n",
    "print(OLS_model3.summary())"
   ]
  },
  {
   "cell_type": "markdown",
   "metadata": {},
   "source": [
    "# 4.answer"
   ]
  },
  {
   "cell_type": "markdown",
   "metadata": {},
   "source": [
    "service와 Food가 통계적으로 유의하지 않다."
   ]
  },
  {
   "cell_type": "markdown",
   "metadata": {},
   "source": [
    "# 5.answer"
   ]
  },
  {
   "cell_type": "markdown",
   "metadata": {},
   "source": [
    "### 변수제외 모형"
   ]
  },
  {
   "cell_type": "code",
   "execution_count": 20,
   "metadata": {},
   "outputs": [
    {
     "name": "stdout",
     "output_type": "stream",
     "text": [
      "                            OLS Regression Results                            \n",
      "==============================================================================\n",
      "Dep. Variable:                  Price   R-squared:                       0.980\n",
      "Model:                            OLS   Adj. R-squared:                  0.979\n",
      "Method:                 Least Squares   F-statistic:                     4003.\n",
      "Date:                Fri, 09 Mar 2018   Prob (F-statistic):          3.52e-141\n",
      "Time:                        15:54:51   Log-Likelihood:                -545.64\n",
      "No. Observations:                 168   AIC:                             1095.\n",
      "Df Residuals:                     166   BIC:                             1102.\n",
      "Df Model:                           2                                         \n",
      "Covariance Type:            nonrobust                                         \n",
      "==============================================================================\n",
      "                 coef    std err          t      P>|t|      [0.025      0.975]\n",
      "------------------------------------------------------------------------------\n",
      "Decor          2.3122      0.044     52.649      0.000       2.226       2.399\n",
      "East           2.9444      0.989      2.976      0.003       0.991       4.898\n",
      "==============================================================================\n",
      "Omnibus:                        3.003   Durbin-Watson:                   1.742\n",
      "Prob(Omnibus):                  0.223   Jarque-Bera (JB):                2.926\n",
      "Skew:                           0.321   Prob(JB):                        0.232\n",
      "Kurtosis:                       2.931   Cond. No.                         36.7\n",
      "==============================================================================\n",
      "\n",
      "Warnings:\n",
      "[1] Standard Errors assume that the covariance matrix of the errors is correctly specified.\n"
     ]
    }
   ],
   "source": [
    "x_df4 = df.drop(labels = [\"Price\", \"Restaurant\", \"Service\", \"Food\"], axis=1)\n",
    "y_df4 = df[\"Price\"]\n",
    "\n",
    "OLS_model4 = sm.OLS(y_df4, x_df4).fit()\n",
    "print(OLS_model4.summary())"
   ]
  },
  {
   "cell_type": "markdown",
   "metadata": {},
   "source": [
    "### 변수 제거전 모형"
   ]
  },
  {
   "cell_type": "code",
   "execution_count": 21,
   "metadata": {},
   "outputs": [
    {
     "name": "stdout",
     "output_type": "stream",
     "text": [
      "                            OLS Regression Results                            \n",
      "==============================================================================\n",
      "Dep. Variable:                  Price   R-squared:                       0.981\n",
      "Model:                            OLS   Adj. R-squared:                  0.980\n",
      "Method:                 Least Squares   F-statistic:                     2072.\n",
      "Date:                Fri, 09 Mar 2018   Prob (F-statistic):          3.34e-139\n",
      "Time:                        15:56:56   Log-Likelihood:                -541.80\n",
      "No. Observations:                 168   AIC:                             1092.\n",
      "Df Residuals:                     164   BIC:                             1104.\n",
      "Df Model:                           4                                         \n",
      "Covariance Type:            nonrobust                                         \n",
      "==============================================================================\n",
      "                 coef    std err          t      P>|t|      [0.025      0.975]\n",
      "------------------------------------------------------------------------------\n",
      "Food           0.6277      0.347      1.810      0.072      -0.057       1.312\n",
      "Decor          1.8244      0.232      7.854      0.000       1.366       2.283\n",
      "Service       -0.1949      0.423     -0.460      0.646      -1.031       0.641\n",
      "East           2.3579      1.015      2.324      0.021       0.355       4.361\n",
      "==============================================================================\n",
      "Omnibus:                        2.586   Durbin-Watson:                   1.748\n",
      "Prob(Omnibus):                  0.274   Jarque-Bera (JB):                2.333\n",
      "Skew:                           0.287   Prob(JB):                        0.312\n",
      "Kurtosis:                       3.057   Cond. No.                         71.8\n",
      "==============================================================================\n",
      "\n",
      "Warnings:\n",
      "[1] Standard Errors assume that the covariance matrix of the errors is correctly specified.\n"
     ]
    }
   ],
   "source": [
    "print(OLS_model3.summary())"
   ]
  },
  {
   "cell_type": "markdown",
   "metadata": {},
   "source": [
    "# 6. answer"
   ]
  },
  {
   "cell_type": "code",
   "execution_count": 33,
   "metadata": {},
   "outputs": [],
   "source": [
    "index=['Food', 'Decor', 'Service', 'East']\n",
    "X_test = pd.DataFrame(columns = index)\n",
    "data = 20,20,20,1\n",
    "X_test = data"
   ]
  },
  {
   "cell_type": "code",
   "execution_count": 35,
   "metadata": {},
   "outputs": [
    {
     "data": {
      "text/plain": [
       "array([47.50164104])"
      ]
     },
     "execution_count": 35,
     "metadata": {},
     "output_type": "execute_result"
    }
   ],
   "source": [
    "#변수 제거전 모델로 사용\n",
    "Y_test_OLS = OLS_model3.predict(data)\n",
    "Y_test_OLS"
   ]
  },
  {
   "cell_type": "markdown",
   "metadata": {},
   "source": [
    "# 7. answer"
   ]
  },
  {
   "cell_type": "code",
   "execution_count": 36,
   "metadata": {},
   "outputs": [
    {
     "ename": "NameError",
     "evalue": "name 'X0' is not defined",
     "output_type": "error",
     "traceback": [
      "\u001b[0;31m---------------------------------------------------------------------------\u001b[0m",
      "\u001b[0;31mNameError\u001b[0m                                 Traceback (most recent call last)",
      "\u001b[0;32m<ipython-input-36-ce05acc19025>\u001b[0m in \u001b[0;36m<module>\u001b[0;34m()\u001b[0m\n\u001b[1;32m      1\u001b[0m \u001b[0max\u001b[0m \u001b[0;34m=\u001b[0m \u001b[0mplt\u001b[0m\u001b[0;34m.\u001b[0m\u001b[0msubplot\u001b[0m\u001b[0;34m(\u001b[0m\u001b[0;34m)\u001b[0m\u001b[0;34m\u001b[0m\u001b[0m\n\u001b[0;32m----> 2\u001b[0;31m \u001b[0mplt\u001b[0m\u001b[0;34m.\u001b[0m\u001b[0mscatter\u001b[0m\u001b[0;34m(\u001b[0m\u001b[0mX0\u001b[0m\u001b[0;34m,\u001b[0m \u001b[0my_df4\u001b[0m\u001b[0;34m)\u001b[0m\u001b[0;34m\u001b[0m\u001b[0m\n\u001b[0m\u001b[1;32m      3\u001b[0m \u001b[0msm\u001b[0m\u001b[0;34m.\u001b[0m\u001b[0mgraphics\u001b[0m\u001b[0;34m.\u001b[0m\u001b[0mabline_plot\u001b[0m\u001b[0;34m(\u001b[0m\u001b[0mmodel_results\u001b[0m\u001b[0;34m=\u001b[0m\u001b[0mresult\u001b[0m\u001b[0;34m,\u001b[0m \u001b[0max\u001b[0m\u001b[0;34m=\u001b[0m\u001b[0max\u001b[0m\u001b[0;34m)\u001b[0m\u001b[0;34m\u001b[0m\u001b[0m\n\u001b[1;32m      4\u001b[0m \u001b[0;34m\u001b[0m\u001b[0m\n\u001b[1;32m      5\u001b[0m \u001b[0midx\u001b[0m \u001b[0;34m=\u001b[0m \u001b[0mhat\u001b[0m \u001b[0;34m>\u001b[0m \u001b[0;36m0.05\u001b[0m\u001b[0;34m\u001b[0m\u001b[0m\n",
      "\u001b[0;31mNameError\u001b[0m: name 'X0' is not defined"
     ]
    },
    {
     "data": {
      "image/png": "[encoded data removed]",
      "text/plain": [
       "<matplotlib.figure.Figure at 0x7fb2d9e9d550>"
      ]
     },
     "metadata": {},
     "output_type": "display_data"
    }
   ],
   "source": [
    "ax = plt.subplot()\n",
    "plt.scatter(X0, y_df4)\n",
    "sm.graphics.abline_plot(model_results=result, ax=ax)\n",
    "\n",
    "idx = hat > 0.05\n",
    "plt.scatter(X0[idx], y[idx], s=300, c=\"r\", alpha=0.5)\n",
    "plt.show()"
   ]
  },
  {
   "cell_type": "code",
   "execution_count": null,
   "metadata": {},
   "outputs": [],
   "source": []
  }
 ],
 "metadata": {
  "kernelspec": {
   "display_name": "Python 3",
   "language": "python",
   "name": "python3"
  },
  "language_info": {
   "codemirror_mode": {
    "name": "ipython",
    "version": 3
   },
   "file_extension": ".py",
   "mimetype": "text/x-python",
   "name": "python",
   "nbconvert_exporter": "python",
   "pygments_lexer": "ipython3",
   "version": "3.6.3"
  }
 },
 "nbformat": 4,
 "nbformat_minor": 2
}
