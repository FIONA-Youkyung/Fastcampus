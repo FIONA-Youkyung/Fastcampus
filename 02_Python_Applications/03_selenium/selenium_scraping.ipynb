{
 "cells": [
  {
   "cell_type": "markdown",
   "metadata": {},
   "source": [
    "### Selenium Scraping"
   ]
  },
  {
   "cell_type": "markdown",
   "metadata": {},
   "source": [
    "##### Gmarket 베스트 셀러 데이터 스크래핑 \n",
    "- 전체 200개중 상위 10개 출력\n",
    "- pandas 데이터를 분석할수 있는 python 라이브러리\n",
    "    - pip3 install pandas\n",
    "    - 데이터 프레임 생성 : df = pd.DataFrame(columns=[\"A\",\"B\"])\n",
    "    - 데이터 추가 : df.loc[len(df)] = [{\"A\":1,\"B\":2}, {\"A\":3,\"B\":4}]"
   ]
  },
  {
   "cell_type": "code",
   "execution_count": 1,
   "metadata": {},
   "outputs": [],
   "source": [
    "from selenium import webdriver\n",
    "import pandas as pd"
   ]
  },
  {
   "cell_type": "code",
   "execution_count": 2,
   "metadata": {
    "scrolled": false
   },
   "outputs": [],
   "source": [
    "def get_gmarket_bestsellers(number=10):\n",
    "    \n",
    "    def to_int(price):\n",
    "        return int(price.replace(\",\",\"\").replace(\"원\",\"\"))\n",
    "    \n",
    "    driver =  webdriver.Chrome()\n",
    "    driver.get('http://corners.gmarket.co.kr/Bestsellers')\n",
    "\n",
    "    bestlist_selector = driver.find_elements_by_css_selector(\"#gBestWrap .best-list\")[1]\n",
    "    items = bestlist_selector.find_elements_by_css_selector(\"li\")[:number]\n",
    "    \n",
    "    df = pd.DataFrame(columns=[\"상품명\",\"원가\",\"판매가\",\"이미지\",\"상품링크\"])\n",
    "    \n",
    "    for item in items:\n",
    "\n",
    "        idx = item.find_element_by_css_selector(\"p\").text # 순번\n",
    "        img_link = item.find_element_by_css_selector(\"img\").get_attribute(\"src\") # 이미지 URL\n",
    "        item_link = item.find_element_by_css_selector(\".itemname\").get_attribute(\"href\") # 아이템 URL\n",
    "        content = item.find_element_by_css_selector(\".itemname\").text # 아이템 텍스트\n",
    "        o_price = item.find_element_by_css_selector(\".item_price .o-price\").text # 오리지날 가격\n",
    "        s_price = item.find_element_by_css_selector(\".item_price .s-price\").text.split(\" \")[0] # 판매 가격\n",
    "        o_price = o_price if o_price else s_price # 원가 데이터가 없는경우 판매가를 대입\n",
    "        \n",
    "        data = {\"상품명\": content,\n",
    "                \"원가\": to_int(o_price), \n",
    "                \"판매가\": to_int(s_price),\n",
    "                \"이미지\": img_link, \n",
    "                \"상품링크\": item_link, }\n",
    "        \n",
    "        # Pandas 데이터 입력\n",
    "        df.loc[len(df)] = data\n",
    "        \n",
    "    driver.close()\n",
    "    return df"
   ]
  },
  {
   "cell_type": "code",
   "execution_count": 3,
   "metadata": {},
   "outputs": [
    {
     "name": "stdout",
     "output_type": "stream",
     "text": [
      "CPU times: user 3.69 s, sys: 229 ms, total: 3.92 s\n",
      "Wall time: 57 s\n"
     ]
    }
   ],
   "source": [
    "%%time\n",
    "result = get_gmarket_bestsellers(200)\n",
    "result.tail()"
   ]
  },
  {
   "cell_type": "code",
   "execution_count": 4,
   "metadata": {},
   "outputs": [
    {
     "data": {
      "text/html": [
       "<div>\n",
       "<style scoped>\n",
       "    .dataframe tbody tr th:only-of-type {\n",
       "        vertical-align: middle;\n",
       "    }\n",
       "\n",
       "    .dataframe tbody tr th {\n",
       "        vertical-align: top;\n",
       "    }\n",
       "\n",
       "    .dataframe thead th {\n",
       "        text-align: right;\n",
       "    }\n",
       "</style>\n",
       "<table border=\"1\" class=\"dataframe\">\n",
       "  <thead>\n",
       "    <tr style=\"text-align: right;\">\n",
       "      <th></th>\n",
       "      <th>rank</th>\n",
       "      <th>상품명</th>\n",
       "      <th>원가</th>\n",
       "      <th>판매가</th>\n",
       "      <th>이미지</th>\n",
       "      <th>상품링크</th>\n",
       "      <th>할인율</th>\n",
       "    </tr>\n",
       "  </thead>\n",
       "  <tbody>\n",
       "    <tr>\n",
       "      <th>0</th>\n",
       "      <td>57</td>\n",
       "      <td>[쁘리엘르]100% 순면차렵이불/패드세트/마이크로화이바/피치스킨</td>\n",
       "      <td>99900</td>\n",
       "      <td>19900</td>\n",
       "      <td>http://image.gmarket.co.kr/challenge/neo_image...</td>\n",
       "      <td>http://item2.gmarket.co.kr/Item/DetailView/Ite...</td>\n",
       "      <td>80.08</td>\n",
       "    </tr>\n",
       "    <tr>\n",
       "      <th>1</th>\n",
       "      <td>117</td>\n",
       "      <td>[쁘리엘르]순면 낮잠이불/마이크로화이바/어린이집이불/분리형</td>\n",
       "      <td>69900</td>\n",
       "      <td>19900</td>\n",
       "      <td>http://image.gmarket.co.kr/challenge/neo_image...</td>\n",
       "      <td>http://item2.gmarket.co.kr/Item/DetailView/Ite...</td>\n",
       "      <td>71.53</td>\n",
       "    </tr>\n",
       "    <tr>\n",
       "      <th>2</th>\n",
       "      <td>149</td>\n",
       "      <td>[코디아이]가을/겨울/보온/후라이스/양면내의/수면조끼/슬립색</td>\n",
       "      <td>23000</td>\n",
       "      <td>6900</td>\n",
       "      <td>http://image.gmarket.co.kr/challenge/neo_image...</td>\n",
       "      <td>http://item2.gmarket.co.kr/Item/DetailView/Ite...</td>\n",
       "      <td>70.00</td>\n",
       "    </tr>\n",
       "    <tr>\n",
       "      <th>3</th>\n",
       "      <td>113</td>\n",
       "      <td>[머스트비]케네스콜/YK038/바닐라비 단독기획 트렌치/자켓/야상</td>\n",
       "      <td>133000</td>\n",
       "      <td>39900</td>\n",
       "      <td>http://image.gmarket.co.kr/challenge/neo_image...</td>\n",
       "      <td>http://item2.gmarket.co.kr/Item/DetailView/Ite...</td>\n",
       "      <td>70.00</td>\n",
       "    </tr>\n",
       "    <tr>\n",
       "      <th>4</th>\n",
       "      <td>135</td>\n",
       "      <td>[디즈니]디즈니 아동 캐릭터 실내화 슬리퍼 학생 덧신 샌들</td>\n",
       "      <td>23000</td>\n",
       "      <td>6900</td>\n",
       "      <td>http://image.gmarket.co.kr/challenge/neo_image...</td>\n",
       "      <td>http://item2.gmarket.co.kr/Item/DetailView/Ite...</td>\n",
       "      <td>70.00</td>\n",
       "    </tr>\n",
       "  </tbody>\n",
       "</table>\n",
       "</div>"
      ],
      "text/plain": [
       "   rank                                   상품명      원가    판매가  \\\n",
       "0    57   [쁘리엘르]100% 순면차렵이불/패드세트/마이크로화이바/피치스킨   99900  19900   \n",
       "1   117      [쁘리엘르]순면 낮잠이불/마이크로화이바/어린이집이불/분리형   69900  19900   \n",
       "2   149     [코디아이]가을/겨울/보온/후라이스/양면내의/수면조끼/슬립색   23000   6900   \n",
       "3   113  [머스트비]케네스콜/YK038/바닐라비 단독기획 트렌치/자켓/야상  133000  39900   \n",
       "4   135      [디즈니]디즈니 아동 캐릭터 실내화 슬리퍼 학생 덧신 샌들   23000   6900   \n",
       "\n",
       "                                                 이미지  \\\n",
       "0  http://image.gmarket.co.kr/challenge/neo_image...   \n",
       "1  http://image.gmarket.co.kr/challenge/neo_image...   \n",
       "2  http://image.gmarket.co.kr/challenge/neo_image...   \n",
       "3  http://image.gmarket.co.kr/challenge/neo_image...   \n",
       "4  http://image.gmarket.co.kr/challenge/neo_image...   \n",
       "\n",
       "                                                상품링크    할인율  \n",
       "0  http://item2.gmarket.co.kr/Item/DetailView/Ite...  80.08  \n",
       "1  http://item2.gmarket.co.kr/Item/DetailView/Ite...  71.53  \n",
       "2  http://item2.gmarket.co.kr/Item/DetailView/Ite...  70.00  \n",
       "3  http://item2.gmarket.co.kr/Item/DetailView/Ite...  70.00  \n",
       "4  http://item2.gmarket.co.kr/Item/DetailView/Ite...  70.00  "
      ]
     },
     "execution_count": 4,
     "metadata": {},
     "output_type": "execute_result"
    }
   ],
   "source": [
    "# Pandas로 할인율 계산\n",
    "result[\"할인율\"] = 100 - (result[\"판매가\"] / result[\"원가\"]) * 100\n",
    "result[\"할인율\"] = result[\"할인율\"].astype(dtype=\"float64\")\n",
    "result[\"할인율\"] = round(result[\"할인율\"], 2)\n",
    "result = result.sort_values(\"할인율\", ascending=False).reset_index().rename(columns={\"index\": \"rank\"})\n",
    "result.head()"
   ]
  },
  {
   "cell_type": "code",
   "execution_count": 5,
   "metadata": {},
   "outputs": [],
   "source": [
    "# utf-8로 인코딩한 csv 파일로 저장\n",
    "result.to_csv(\"gmarket.csv\", encoding=\"utf-8\")"
   ]
  },
  {
   "cell_type": "markdown",
   "metadata": {},
   "source": [
    "##### Naver 메일 데이터 스크래핑\n",
    "- 네이버 메일에 로그인한후 데이터 가져오기"
   ]
  },
  {
   "cell_type": "code",
   "execution_count": 12,
   "metadata": {},
   "outputs": [],
   "source": [
    "from selenium import webdriver\n",
    "import pickle\n",
    "import time"
   ]
  },
  {
   "cell_type": "code",
   "execution_count": 13,
   "metadata": {},
   "outputs": [],
   "source": [
    "# 패스워드 저장하기\n",
    "# pw = \"\"\n",
    "# file = open(\"pw.pickle\", \"wb\")\n",
    "# pickle.dump(pw, file)"
   ]
  },
  {
   "cell_type": "code",
   "execution_count": 14,
   "metadata": {},
   "outputs": [],
   "source": [
    "main_url = \"http://naver.com\"\n",
    "mail_url = \"http://mail.naver.com\""
   ]
  },
  {
   "cell_type": "code",
   "execution_count": 15,
   "metadata": {},
   "outputs": [],
   "source": [
    "# 브라우져 오픈 및 메인 사이트 이동\n",
    "driver = webdriver.Chrome()\n",
    "driver.get(main_url)"
   ]
  },
  {
   "cell_type": "code",
   "execution_count": 16,
   "metadata": {},
   "outputs": [
    {
     "ename": "FileNotFoundError",
     "evalue": "[Errno 2] No such file or directory: 'pw.pickle'",
     "output_type": "error",
     "traceback": [
      "\u001b[0;31m---------------------------------------------------------------------------\u001b[0m",
      "\u001b[0;31mFileNotFoundError\u001b[0m                         Traceback (most recent call last)",
      "\u001b[0;32m<ipython-input-16-2a571ea9ca09>\u001b[0m in \u001b[0;36m<module>\u001b[0;34m()\u001b[0m\n\u001b[1;32m      1\u001b[0m \u001b[0;31m# 아이디 패스워드 입력\u001b[0m\u001b[0;34m\u001b[0m\u001b[0;34m\u001b[0m\u001b[0m\n\u001b[0;32m----> 2\u001b[0;31m \u001b[0mpw\u001b[0m \u001b[0;34m=\u001b[0m \u001b[0mpickle\u001b[0m\u001b[0;34m.\u001b[0m\u001b[0mload\u001b[0m\u001b[0;34m(\u001b[0m\u001b[0mopen\u001b[0m\u001b[0;34m(\u001b[0m\u001b[0;34m\"pw.pickle\"\u001b[0m\u001b[0;34m,\u001b[0m \u001b[0;34m\"rb\"\u001b[0m\u001b[0;34m)\u001b[0m\u001b[0;34m)\u001b[0m \u001b[0;31m# pw 변수에 본인의 패스워드 입력\u001b[0m\u001b[0;34m\u001b[0m\u001b[0m\n\u001b[0m\u001b[1;32m      3\u001b[0m \u001b[0mdriver\u001b[0m\u001b[0;34m.\u001b[0m\u001b[0mfind_element_by_css_selector\u001b[0m\u001b[0;34m(\u001b[0m \u001b[0;34m\"#id\"\u001b[0m \u001b[0;34m)\u001b[0m\u001b[0;34m.\u001b[0m\u001b[0msend_keys\u001b[0m\u001b[0;34m(\u001b[0m \u001b[0;34m\"1221pdj\"\u001b[0m \u001b[0;34m)\u001b[0m\u001b[0;34m\u001b[0m\u001b[0m\n\u001b[1;32m      4\u001b[0m \u001b[0mdriver\u001b[0m\u001b[0;34m.\u001b[0m\u001b[0mfind_element_by_css_selector\u001b[0m\u001b[0;34m(\u001b[0m \u001b[0;34m\"#pw\"\u001b[0m \u001b[0;34m)\u001b[0m\u001b[0;34m.\u001b[0m\u001b[0msend_keys\u001b[0m\u001b[0;34m(\u001b[0m \u001b[0mpw\u001b[0m \u001b[0;34m)\u001b[0m\u001b[0;34m\u001b[0m\u001b[0m\n",
      "\u001b[0;31mFileNotFoundError\u001b[0m: [Errno 2] No such file or directory: 'pw.pickle'"
     ]
    }
   ],
   "source": [
    "# 아이디 패스워드 입력\n",
    "pw = pickle.load(open(\"pw.pickle\", \"rb\")) # pw 변수에 본인의 패스워드 입력\n",
    "driver.find_element_by_css_selector( \"#id\" ).send_keys( \"1221pdj\" )\n",
    "driver.find_element_by_css_selector( \"#pw\" ).send_keys( pw )"
   ]
  },
  {
   "cell_type": "code",
   "execution_count": 15,
   "metadata": {},
   "outputs": [],
   "source": [
    "# 로그인 버튼 클릭\n",
    "driver.find_element_by_css_selector(\"span.btn_login input[type=submit]\").click()"
   ]
  },
  {
   "cell_type": "code",
   "execution_count": 16,
   "metadata": {},
   "outputs": [],
   "source": [
    "# 메일 페이지로 이동\n",
    "driver.get(mail_url)"
   ]
  },
  {
   "cell_type": "code",
   "execution_count": 17,
   "metadata": {},
   "outputs": [
    {
     "data": {
      "text/plain": [
       "30"
      ]
     },
     "execution_count": 17,
     "metadata": {},
     "output_type": "execute_result"
    }
   ],
   "source": [
    "# 메일 갯수\n",
    "total_mail = driver.find_element_by_css_selector(\"#headTotalNum\").text\n",
    "total_mail = int(total_mail)\n",
    "total_mail"
   ]
  },
  {
   "cell_type": "code",
   "execution_count": 18,
   "metadata": {},
   "outputs": [
    {
     "data": {
      "text/plain": [
       "25"
      ]
     },
     "execution_count": 18,
     "metadata": {},
     "output_type": "execute_result"
    }
   ],
   "source": [
    "# 안읽은 메일 갯수\n",
    "not_read_mail = driver.find_element_by_css_selector(\"#headUnreadNum\").text\n",
    "not_read_mail = int(not_read_mail)\n",
    "not_read_mail"
   ]
  },
  {
   "cell_type": "code",
   "execution_count": 19,
   "metadata": {},
   "outputs": [
    {
     "name": "stdout",
     "output_type": "stream",
     "text": [
      "전체 메일수 :  30\n"
     ]
    },
    {
     "data": {
      "text/html": [
       "<div>\n",
       "<style scoped>\n",
       "    .dataframe tbody tr th:only-of-type {\n",
       "        vertical-align: middle;\n",
       "    }\n",
       "\n",
       "    .dataframe tbody tr th {\n",
       "        vertical-align: top;\n",
       "    }\n",
       "\n",
       "    .dataframe thead th {\n",
       "        text-align: right;\n",
       "    }\n",
       "</style>\n",
       "<table border=\"1\" class=\"dataframe\">\n",
       "  <thead>\n",
       "    <tr style=\"text-align: right;\">\n",
       "      <th></th>\n",
       "      <th>제목</th>\n",
       "      <th>보낸사람</th>\n",
       "      <th>메일링크</th>\n",
       "    </tr>\n",
       "  </thead>\n",
       "  <tbody>\n",
       "    <tr>\n",
       "      <th>25</th>\n",
       "      <td>SMTP Send File 테스트(제목)</td>\n",
       "      <td>utmostar0201@gmai..</td>\n",
       "      <td>https://mail.naver.com/read/popup/?nMailId=11887</td>\n",
       "    </tr>\n",
       "    <tr>\n",
       "      <th>26</th>\n",
       "      <td>SMTP Send File 테스트(제목)</td>\n",
       "      <td>radajin1224@gmail.c..</td>\n",
       "      <td>https://mail.naver.com/read/popup/?nMailId=11886</td>\n",
       "    </tr>\n",
       "    <tr>\n",
       "      <th>27</th>\n",
       "      <td>SMTP Send HTML 테스트(제목)</td>\n",
       "      <td>radajin1224@gmail.c..</td>\n",
       "      <td>https://mail.naver.com/read/popup/?nMailId=11885</td>\n",
       "    </tr>\n",
       "    <tr>\n",
       "      <th>28</th>\n",
       "      <td>SMTP Send Text 테스트(제목)</td>\n",
       "      <td>junkoo0101@gmail.co..</td>\n",
       "      <td>https://mail.naver.com/read/popup/?nMailId=11884</td>\n",
       "    </tr>\n",
       "    <tr>\n",
       "      <th>29</th>\n",
       "      <td>SMTP Send Text 테스트(제목)</td>\n",
       "      <td>radajin1224@gmail.c..</td>\n",
       "      <td>https://mail.naver.com/read/popup/?nMailId=11883</td>\n",
       "    </tr>\n",
       "  </tbody>\n",
       "</table>\n",
       "</div>"
      ],
      "text/plain": [
       "                        제목                   보낸사람  \\\n",
       "25  SMTP Send File 테스트(제목)    utmostar0201@gmai..   \n",
       "26  SMTP Send File 테스트(제목)  radajin1224@gmail.c..   \n",
       "27  SMTP Send HTML 테스트(제목)  radajin1224@gmail.c..   \n",
       "28  SMTP Send Text 테스트(제목)  junkoo0101@gmail.co..   \n",
       "29  SMTP Send Text 테스트(제목)  radajin1224@gmail.c..   \n",
       "\n",
       "                                                메일링크  \n",
       "25  https://mail.naver.com/read/popup/?nMailId=11887  \n",
       "26  https://mail.naver.com/read/popup/?nMailId=11886  \n",
       "27  https://mail.naver.com/read/popup/?nMailId=11885  \n",
       "28  https://mail.naver.com/read/popup/?nMailId=11884  \n",
       "29  https://mail.naver.com/read/popup/?nMailId=11883  "
      ]
     },
     "execution_count": 19,
     "metadata": {},
     "output_type": "execute_result"
    }
   ],
   "source": [
    "# 메일 제목, 보낸사람 이름 가져오기\n",
    "mails = driver.find_elements_by_css_selector(\".mailList.sender_context > li\")\n",
    "print(\"전체 메일수 : \", len(mails))\n",
    "df = pd.DataFrame(columns=[\"제목\",\"보낸사람\",\"메일링크\"])\n",
    "for idx, mail in enumerate(mails):\n",
    "    title = mail.find_element_by_css_selector(\".mail_title\").text\n",
    "    name = mail.find_element_by_css_selector(\".name\").text\n",
    "    link = mail.find_element_by_css_selector(\".subject > a\").get_attribute(\"href\")\n",
    "    df.loc[len(df)] = { \"제목\":title, \"보낸사람\":name, \"메일링크\":link }    \n",
    "df.tail()"
   ]
  },
  {
   "cell_type": "code",
   "execution_count": 21,
   "metadata": {},
   "outputs": [
    {
     "name": "stdout",
     "output_type": "stream",
     "text": [
      "전체 메일수 :  3\n"
     ]
    },
    {
     "data": {
      "text/html": [
       "<div>\n",
       "<style scoped>\n",
       "    .dataframe tbody tr th:only-of-type {\n",
       "        vertical-align: middle;\n",
       "    }\n",
       "\n",
       "    .dataframe tbody tr th {\n",
       "        vertical-align: top;\n",
       "    }\n",
       "\n",
       "    .dataframe thead th {\n",
       "        text-align: right;\n",
       "    }\n",
       "</style>\n",
       "<table border=\"1\" class=\"dataframe\">\n",
       "  <thead>\n",
       "    <tr style=\"text-align: right;\">\n",
       "      <th></th>\n",
       "      <th>제목</th>\n",
       "      <th>보낸사람</th>\n",
       "      <th>메일링크</th>\n",
       "    </tr>\n",
       "  </thead>\n",
       "  <tbody>\n",
       "    <tr>\n",
       "      <th>0</th>\n",
       "      <td>종로구에 있는 사람들이 \"Watch Boston Dynamics’ SpotMini ...</td>\n",
       "      <td>트위터</td>\n",
       "      <td>https://mail.naver.com/read/popup/?nMailId=11911</td>\n",
       "    </tr>\n",
       "    <tr>\n",
       "      <th>1</th>\n",
       "      <td>문성근 님이 트윗함: 너무 오래 걸렸다. '친일행위' 인촌 김성수, 56년만에 건국...</td>\n",
       "      <td>트위터</td>\n",
       "      <td>https://mail.naver.com/read/popup/?nMailId=11910</td>\n",
       "    </tr>\n",
       "    <tr>\n",
       "      <th>2</th>\n",
       "      <td>종로구에 있는 사람들이 \"People who think about leaving r...</td>\n",
       "      <td>트위터</td>\n",
       "      <td>https://mail.naver.com/read/popup/?nMailId=11907</td>\n",
       "    </tr>\n",
       "  </tbody>\n",
       "</table>\n",
       "</div>"
      ],
      "text/plain": [
       "                                                  제목 보낸사람  \\\n",
       "0  종로구에 있는 사람들이 \"Watch Boston Dynamics’ SpotMini ...  트위터   \n",
       "1  문성근 님이 트윗함: 너무 오래 걸렸다. '친일행위' 인촌 김성수, 56년만에 건국...  트위터   \n",
       "2  종로구에 있는 사람들이 \"People who think about leaving r...  트위터   \n",
       "\n",
       "                                               메일링크  \n",
       "0  https://mail.naver.com/read/popup/?nMailId=11911  \n",
       "1  https://mail.naver.com/read/popup/?nMailId=11910  \n",
       "2  https://mail.naver.com/read/popup/?nMailId=11907  "
      ]
     },
     "execution_count": 21,
     "metadata": {},
     "output_type": "execute_result"
    }
   ],
   "source": [
    "# marked 메일\n",
    "mails = driver.find_elements_by_css_selector(\".mailList.sender_context > li.mark\")\n",
    "print(\"전체 메일수 : \", len(mails))\n",
    "df = pd.DataFrame(columns=[\"제목\",\"보낸사람\",\"메일링크\"])\n",
    "for idx, mail in enumerate(mails):\n",
    "    title = mail.find_element_by_css_selector(\".mail_title\").text\n",
    "    name = mail.find_element_by_css_selector(\".name\").text\n",
    "    link = mail.find_element_by_css_selector(\".subject > a\").get_attribute(\"href\")\n",
    "    df.loc[len(df)] = { \"제목\":title, \"보낸사람\":name, \"메일링크\":link }    \n",
    "df.tail()"
   ]
  },
  {
   "cell_type": "code",
   "execution_count": 22,
   "metadata": {},
   "outputs": [
    {
     "name": "stdout",
     "output_type": "stream",
     "text": [
      "total mails:  5\n"
     ]
    },
    {
     "data": {
      "text/html": [
       "<div>\n",
       "<style scoped>\n",
       "    .dataframe tbody tr th:only-of-type {\n",
       "        vertical-align: middle;\n",
       "    }\n",
       "\n",
       "    .dataframe tbody tr th {\n",
       "        vertical-align: top;\n",
       "    }\n",
       "\n",
       "    .dataframe thead th {\n",
       "        text-align: right;\n",
       "    }\n",
       "</style>\n",
       "<table border=\"1\" class=\"dataframe\">\n",
       "  <thead>\n",
       "    <tr style=\"text-align: right;\">\n",
       "      <th></th>\n",
       "      <th>제목</th>\n",
       "      <th>보낸사람</th>\n",
       "      <th>메일링크</th>\n",
       "    </tr>\n",
       "  </thead>\n",
       "  <tbody>\n",
       "    <tr>\n",
       "      <th>0</th>\n",
       "      <td>Google SMTP로 메일 보내기</td>\n",
       "      <td>radajin1224@gmail.c..</td>\n",
       "      <td>https://mail.naver.com/read/popup/?nMailId=11893</td>\n",
       "    </tr>\n",
       "    <tr>\n",
       "      <th>1</th>\n",
       "      <td>Google SMTP로 메일 보내기</td>\n",
       "      <td>radajin1224@gmail.c..</td>\n",
       "      <td>https://mail.naver.com/read/popup/?nMailId=11890</td>\n",
       "    </tr>\n",
       "    <tr>\n",
       "      <th>2</th>\n",
       "      <td>SMTP Send File 테스트(제목)</td>\n",
       "      <td>radajin1224@gmail.c..</td>\n",
       "      <td>https://mail.naver.com/read/popup/?nMailId=11886</td>\n",
       "    </tr>\n",
       "    <tr>\n",
       "      <th>3</th>\n",
       "      <td>SMTP Send HTML 테스트(제목)</td>\n",
       "      <td>radajin1224@gmail.c..</td>\n",
       "      <td>https://mail.naver.com/read/popup/?nMailId=11885</td>\n",
       "    </tr>\n",
       "    <tr>\n",
       "      <th>4</th>\n",
       "      <td>SMTP Send Text 테스트(제목)</td>\n",
       "      <td>radajin1224@gmail.c..</td>\n",
       "      <td>https://mail.naver.com/read/popup/?nMailId=11883</td>\n",
       "    </tr>\n",
       "  </tbody>\n",
       "</table>\n",
       "</div>"
      ],
      "text/plain": [
       "                       제목                   보낸사람  \\\n",
       "0     Google SMTP로 메일 보내기  radajin1224@gmail.c..   \n",
       "1     Google SMTP로 메일 보내기  radajin1224@gmail.c..   \n",
       "2  SMTP Send File 테스트(제목)  radajin1224@gmail.c..   \n",
       "3  SMTP Send HTML 테스트(제목)  radajin1224@gmail.c..   \n",
       "4  SMTP Send Text 테스트(제목)  radajin1224@gmail.c..   \n",
       "\n",
       "                                               메일링크  \n",
       "0  https://mail.naver.com/read/popup/?nMailId=11893  \n",
       "1  https://mail.naver.com/read/popup/?nMailId=11890  \n",
       "2  https://mail.naver.com/read/popup/?nMailId=11886  \n",
       "3  https://mail.naver.com/read/popup/?nMailId=11885  \n",
       "4  https://mail.naver.com/read/popup/?nMailId=11883  "
      ]
     },
     "execution_count": 22,
     "metadata": {},
     "output_type": "execute_result"
    }
   ],
   "source": [
    "# 읽은 메일\n",
    "mails = driver.find_elements_by_css_selector(\".mailList.sender_context > li:not(.notRead)\")\n",
    "print(\"total mails: \", len(mails))\n",
    "df = pd.DataFrame(columns=[\"제목\",\"보낸사람\",\"메일링크\"])\n",
    "for idx, mail in enumerate(mails):\n",
    "    title = mail.find_element_by_css_selector(\".mail_title\").text\n",
    "    name = mail.find_element_by_css_selector(\".name\").text\n",
    "    link = mail.find_element_by_css_selector(\".subject > a\").get_attribute(\"href\")\n",
    "    df.loc[len(df)] = { \"제목\":title, \"보낸사람\":name, \"메일링크\":link }    \n",
    "df.tail()"
   ]
  },
  {
   "cell_type": "code",
   "execution_count": 23,
   "metadata": {},
   "outputs": [],
   "source": [
    "# 로그아웃\n",
    "logout_url = driver.find_element_by_css_selector(\".gnb_btn_login\").get_attribute(\"href\")\n",
    "driver.get(logout_url)"
   ]
  },
  {
   "cell_type": "code",
   "execution_count": 24,
   "metadata": {},
   "outputs": [],
   "source": [
    "# 브라우져 닫기\n",
    "driver.close()"
   ]
  }
 ],
 "metadata": {
  "kernelspec": {
   "display_name": "Python 3",
   "language": "python",
   "name": "python3"
  },
  "language_info": {
   "codemirror_mode": {
    "name": "ipython",
    "version": 3
   },
   "file_extension": ".py",
   "mimetype": "text/x-python",
   "name": "python",
   "nbconvert_exporter": "python",
   "pygments_lexer": "ipython3",
   "version": "3.6.3"
  }
 },
 "nbformat": 4,
 "nbformat_minor": 2
}
