{
 "cells": [
  {
   "cell_type": "markdown",
   "metadata": {},
   "source": [
    "# Thread"
   ]
  },
  {
   "cell_type": "markdown",
   "metadata": {},
   "source": [
    "프로그램을 실행하면서 시간이 걸린다면 대부분 아래 두가지중 한가지의 이유이다\n",
    "- I/O 바운드 : 대부분의 경우 (data Input/Output)\n",
    "- CPU 바운드 : 계산량이 굉장히 많을 경우"
   ]
  },
  {
   "cell_type": "markdown",
   "metadata": {},
   "source": [
    "Synchronous (동기)\n",
    "- 한가지가 끝나야 다음 작업을 수행한다.\n",
    "\n",
    "Asynchronous (비동기)\n",
    "- 작업이 독립적으로 수행된다."
   ]
  },
  {
   "cell_type": "code",
   "execution_count": 1,
   "metadata": {
    "collapsed": true
   },
   "outputs": [],
   "source": [
    "import threading"
   ]
  },
  {
   "cell_type": "code",
   "execution_count": 2,
   "metadata": {
    "collapsed": true
   },
   "outputs": [],
   "source": [
    "ls1 = []\n",
    "ls2 = []\n",
    "\n",
    "def threading_func_1(number=1000):\n",
    "    for idx in range(number):\n",
    "        ls1.append(idx)\n",
    "        if idx % 100 == 0:\n",
    "            print(\"ls1:\",idx)\n",
    "\n",
    "def threading_func_2(number=1000):\n",
    "    for idx in range(number):\n",
    "        ls2.append(idx)\n",
    "        if idx % 100 == 0:\n",
    "            print(\"ls2:\",idx)"
   ]
  },
  {
   "cell_type": "code",
   "execution_count": 4,
   "metadata": {},
   "outputs": [
    {
     "name": "stdout",
     "output_type": "stream",
     "text": [
      "ls1:ls2:  0\n",
      "0ls2:\n",
      " ls1:100 \n",
      "100ls2:\n",
      " ls1:200 \n",
      "200ls2:\n",
      " ls1:300 \n",
      "300ls2:\n",
      " ls1:400 \n",
      "400ls2:\n",
      " ls1:500 \n",
      "500ls2:\n",
      " ls1:600 \n",
      "600ls2:\n",
      " ls1:700 \n",
      "700ls2:\n",
      " ls1:800 \n",
      "800ls2:\n",
      " ls1:900 \n",
      "900ls2:\n",
      " ls1:1000 \n",
      "1000ls2:\n",
      "ls1:  11001100\n",
      "\n",
      "ls2:ls1:  12001200\n",
      "\n",
      "ls2:ls1:  13001300\n",
      "\n",
      "ls2:ls1:  14001400\n",
      "\n",
      "ls2:ls1:  15001500\n",
      "\n",
      "ls2:ls1:  16001600\n",
      "\n",
      "ls2:ls1:  17001700\n",
      "\n",
      "ls2:ls1:  18001800\n",
      "\n",
      "ls2:ls1:  19001900\n",
      "\n",
      "ls2: 2000\n",
      "ls2: 2100\n",
      "ls2: 2200\n",
      "ls2: 2300\n",
      "ls2: 2400\n",
      "ls2: 2500\n",
      "ls2: 2600\n",
      "ls2: 2700\n",
      "ls2: 2800\n",
      "ls2: 2900\n"
     ]
    }
   ],
   "source": [
    "th1 = threading.Thread(target=threading_func_1, args=(2000,))\n",
    "th1.start()\n",
    "\n",
    "th2 = threading.Thread(target=threading_func_2, args=(3000,))\n",
    "th2.start()"
   ]
  },
  {
   "cell_type": "code",
   "execution_count": 5,
   "metadata": {},
   "outputs": [
    {
     "data": {
      "text/plain": [
       "(4000, 6000)"
      ]
     },
     "execution_count": 5,
     "metadata": {},
     "output_type": "execute_result"
    }
   ],
   "source": [
    "len(ls1), len(ls2)"
   ]
  },
  {
   "cell_type": "markdown",
   "metadata": {},
   "source": [
    "- I/O 바운드 문제 : thread 사용\n",
    "- CPU 바운드 문제 : process 사용"
   ]
  },
  {
   "cell_type": "code",
   "execution_count": null,
   "metadata": {
    "collapsed": true
   },
   "outputs": [],
   "source": []
  }
 ],
 "metadata": {
  "kernelspec": {
   "display_name": "Python 3",
   "language": "python",
   "name": "python3"
  },
  "language_info": {
   "codemirror_mode": {
    "name": "ipython",
    "version": 3
   },
   "file_extension": ".py",
   "mimetype": "text/x-python",
   "name": "python",
   "nbconvert_exporter": "python",
   "pygments_lexer": "ipython3",
   "version": "3.6.3"
  }
 },
 "nbformat": 4,
 "nbformat_minor": 2
}
