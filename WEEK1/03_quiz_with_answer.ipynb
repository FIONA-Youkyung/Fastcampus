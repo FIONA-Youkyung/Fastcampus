{
 "cells": [
  {
   "cell_type": "markdown",
   "metadata": {},
   "source": [
    "# Quiz"
   ]
  },
  {
   "cell_type": "markdown",
   "metadata": {},
   "source": [
    "##### 1. 5명의 이름을 입력 받아 kim인 성을 가진 사람의 수를 출력\n",
    "- [성(공백)이름] 형태로만 입력(ex : park doojin)"
   ]
  },
  {
   "cell_type": "code",
   "execution_count": null,
   "metadata": {
    "collapsed": true
   },
   "outputs": [],
   "source": [
    "# kim sung, Kim daegu, park sangjin, lee minsung, jung sunin\n",
    "\n",
    "# names = []\n",
    "\n",
    "# for _ in range(5):\n",
    "#     name = input(\"insert name : \")\n",
    "#     names.append(name)\n",
    "\n",
    "names = ['kim sung', 'Kim daegu', 'park sangjin', 'lee minsung', 'jung sunin']\n",
    "\n",
    "count = 0\n",
    "\n",
    "for name in names:\n",
    "    \n",
    "    family_name = name.split(\" \")[0].lower()\n",
    "    \n",
    "    if family_name == \"kim\":\n",
    "        count += 1\n",
    "\n",
    "names, count        "
   ]
  },
  {
   "cell_type": "markdown",
   "metadata": {},
   "source": [
    "##### 2. 2단에서 9단까지 구구단을 출력하는 프로그램을 작성"
   ]
  },
  {
   "cell_type": "markdown",
   "metadata": {},
   "source": [
    "- 가로로 출력"
   ]
  },
  {
   "cell_type": "code",
   "execution_count": null,
   "metadata": {
    "collapsed": true
   },
   "outputs": [],
   "source": [
    "for num1 in range(2,10):\n",
    "    for num2 in range(1,10):\n",
    "        print(\"{}*{}={}\".format(num1,num2,num1*num2))\n",
    "    print()"
   ]
  },
  {
   "cell_type": "markdown",
   "metadata": {},
   "source": [
    "- 세로로 출력"
   ]
  },
  {
   "cell_type": "code",
   "execution_count": 4,
   "metadata": {},
   "outputs": [
    {
     "name": "stdout",
     "output_type": "stream",
     "text": [
      "2*1=2\t2*2=4\t2*3=6\t2*4=8\t2*5=10\t2*6=12\t2*7=14\t2*8=16\t2*9=18\t\n",
      "3*1=3\t3*2=6\t3*3=9\t3*4=12\t3*5=15\t3*6=18\t3*7=21\t3*8=24\t3*9=27\t\n",
      "4*1=4\t4*2=8\t4*3=12\t4*4=16\t4*5=20\t4*6=24\t4*7=28\t4*8=32\t4*9=36\t\n",
      "5*1=5\t5*2=10\t5*3=15\t5*4=20\t5*5=25\t5*6=30\t5*7=35\t5*8=40\t5*9=45\t\n",
      "6*1=6\t6*2=12\t6*3=18\t6*4=24\t6*5=30\t6*6=36\t6*7=42\t6*8=48\t6*9=54\t\n",
      "7*1=7\t7*2=14\t7*3=21\t7*4=28\t7*5=35\t7*6=42\t7*7=49\t7*8=56\t7*9=63\t\n",
      "8*1=8\t8*2=16\t8*3=24\t8*4=32\t8*5=40\t8*6=48\t8*7=56\t8*8=64\t8*9=72\t\n",
      "9*1=9\t9*2=18\t9*3=27\t9*4=36\t9*5=45\t9*6=54\t9*7=63\t9*8=72\t9*9=81\t\n"
     ]
    }
   ],
   "source": [
    "for num1 in range(2,10):\n",
    "    for num2 in range(1,10):\n",
    "        print(\"{}*{}={}\".format(num1,num2,num1*num2), end=\"\\t\")\n",
    "    print()"
   ]
  },
  {
   "cell_type": "code",
   "execution_count": 3,
   "metadata": {},
   "outputs": [
    {
     "name": "stdout",
     "output_type": "stream",
     "text": [
      "2*1=2\t3*1=3\t4*1=4\t5*1=5\t6*1=6\t7*1=7\t8*1=8\t9*1=9\t\n",
      "2*2=4\t3*2=6\t4*2=8\t5*2=10\t6*2=12\t7*2=14\t8*2=16\t9*2=18\t\n",
      "2*3=6\t3*3=9\t4*3=12\t5*3=15\t6*3=18\t7*3=21\t8*3=24\t9*3=27\t\n",
      "2*4=8\t3*4=12\t4*4=16\t5*4=20\t6*4=24\t7*4=28\t8*4=32\t9*4=36\t\n",
      "2*5=10\t3*5=15\t4*5=20\t5*5=25\t6*5=30\t7*5=35\t8*5=40\t9*5=45\t\n",
      "2*6=12\t3*6=18\t4*6=24\t5*6=30\t6*6=36\t7*6=42\t8*6=48\t9*6=54\t\n",
      "2*7=14\t3*7=21\t4*7=28\t5*7=35\t6*7=42\t7*7=49\t8*7=56\t9*7=63\t\n",
      "2*8=16\t3*8=24\t4*8=32\t5*8=40\t6*8=48\t7*8=56\t8*8=64\t9*8=72\t\n",
      "2*9=18\t3*9=27\t4*9=36\t5*9=45\t6*9=54\t7*9=63\t8*9=72\t9*9=81\t\n"
     ]
    }
   ],
   "source": [
    "for num2 in range(1,10):\n",
    "    for num1 in range(2,10):\n",
    "        print(\"{}*{}={}\".format(num1, num2, num1*num2), end=\"\\t\")\n",
    "    print()"
   ]
  },
  {
   "cell_type": "markdown",
   "metadata": {},
   "source": [
    "- 입력 받은 단수의 구구단을 출력"
   ]
  },
  {
   "cell_type": "code",
   "execution_count": null,
   "metadata": {
    "collapsed": true
   },
   "outputs": [],
   "source": [
    "num10 = int(input(\"number : \"))\n",
    "\n",
    "for num4 in range(1,10):\n",
    "    print(\"{}*{}={}\".format(num10,num4,num10*num4))"
   ]
  },
  {
   "cell_type": "markdown",
   "metadata": {},
   "source": [
    "## "
   ]
  },
  {
   "cell_type": "code",
   "execution_count": null,
   "metadata": {
    "collapsed": true
   },
   "outputs": [],
   "source": []
  },
  {
   "cell_type": "code",
   "execution_count": null,
   "metadata": {
    "collapsed": true
   },
   "outputs": [],
   "source": [
    "num1 = int(input(\"insert number : \"))\n",
    "\n",
    "for num2 in range(1,10):\n",
    "    print(\"{}*{}={}\".format(num1, num2, num1*num2))"
   ]
  },
  {
   "cell_type": "markdown",
   "metadata": {},
   "source": [
    "##### 3. up down으로 숫자 맞추기 게임\n",
    "- 랜덤으로 숫자(1~100)를 발생시킴\n",
    "- 숫자를 입력받아 랜덤숫자가 입력받은 숫자보다 크면 Up을 출력, 작으면 Down을 출력\n",
    "- 랜덤 숫자를 맞추면 몇번만에 맞췄는지 카운트를 알려줌\n",
    "- 랜덤수 발생 방법\n",
    "```\n",
    "import random\n",
    "random_number = random.randint(1,100)\n",
    "```"
   ]
  },
  {
   "cell_type": "code",
   "execution_count": null,
   "metadata": {
    "collapsed": true
   },
   "outputs": [],
   "source": [
    "import random\n",
    "\n",
    "random_number = random.randint(1,100)\n",
    "\n",
    "count = 0\n",
    "\n",
    "while True:\n",
    "    \n",
    "    input_number = int(input(\"insert number : \"))\n",
    "    count += 1\n",
    "    \n",
    "    if random_number < input_number:\n",
    "        print(\"Down\")\n",
    "    elif random_number > input_number:\n",
    "        print(\"Up\")\n",
    "    else:\n",
    "        print(\"{}번 만에 맞추셨습니다.\".format(count))\n",
    "        break"
   ]
  },
  {
   "cell_type": "code",
   "execution_count": 11,
   "metadata": {},
   "outputs": [
    {
     "name": "stdout",
     "output_type": "stream",
     "text": [
      "insert number :50\n",
      "down\n",
      "insert number :20\n",
      "down\n",
      "insert number :10\n",
      "down\n",
      "insert number :1\n",
      "count number\n"
     ]
    }
   ],
   "source": [
    "import random\n",
    "\n",
    "random_number = random.randint(1, 100)\n",
    "\n",
    "count = 0\n",
    "\n",
    "while True:\n",
    "    input_number = int(input(\"insert number :\"))\n",
    "    count += 1\n",
    "    \n",
    "    if random_number < input_number:\n",
    "        print(\"down\")\n",
    "    elif random_number < input_number:\n",
    "        print(\"up\")\n",
    "    else:\n",
    "        print(\"count number\".format(count))\n",
    "        break\n",
    "        "
   ]
  },
  {
   "cell_type": "code",
   "execution_count": 13,
   "metadata": {},
   "outputs": [
    {
     "name": "stdout",
     "output_type": "stream",
     "text": [
      "insert number : 10\n",
      "Up\n",
      "insert number : 6\n",
      "Up\n",
      "insert number : 60\n",
      "Up\n",
      "insert number : 80\n",
      "Up\n",
      "insert number : 90\n",
      "5 is number of calls\n"
     ]
    }
   ],
   "source": [
    "import random\n",
    "\n",
    "random_number = random.randint(1,100)\n",
    "\n",
    "count = 0\n",
    "\n",
    "while True:\n",
    "    input_number = int(input(\"insert number : \"))\n",
    "    count += 1\n",
    "    \n",
    "    if random_number < input_number:\n",
    "        print(\"Down\")\n",
    "    elif random_number > input_number:\n",
    "        print(\"Up\")\n",
    "    else:\n",
    "        print(\"{} is number of calls\".format(count))\n",
    "        break"
   ]
  },
  {
   "cell_type": "markdown",
   "metadata": {},
   "source": [
    "##### 5. 로또번호 출력\n",
    "- 1~45의 6자리의 로또번호를 출력"
   ]
  },
  {
   "cell_type": "code",
   "execution_count": 16,
   "metadata": {},
   "outputs": [
    {
     "data": {
      "text/plain": [
       "[6, 9, 19, 37, 38, 39]"
      ]
     },
     "execution_count": 16,
     "metadata": {},
     "output_type": "execute_result"
    }
   ],
   "source": [
    "import random\n",
    "\n",
    "result = []\n",
    "\n",
    "while len(result) < 6:\n",
    "    random_number = random.randint(1, 45)\n",
    "    if random_number not in result:\n",
    "        result.append(random_number)\n",
    "        \n",
    "result.sort()\n",
    "result\n",
    "\n"
   ]
  },
  {
   "cell_type": "code",
   "execution_count": 1,
   "metadata": {},
   "outputs": [
    {
     "data": {
      "text/plain": [
       "[8, 19, 12, 42, 27, 2]"
      ]
     },
     "execution_count": 1,
     "metadata": {},
     "output_type": "execute_result"
    }
   ],
   "source": [
    "import random\n",
    "\n",
    "result = []\n",
    "\n",
    "while len(result) < 6:\n",
    "    random_number = random.randint(1,45)\n",
    "    if random_number not in result:\n",
    "        result.append(random_number)\n",
    "        \n",
    "result"
   ]
  },
  {
   "cell_type": "markdown",
   "metadata": {},
   "source": [
    "\n",
    "##### 6. FizzBuzz\n",
    "- 1에서 1씩 숫자를 입력받은 숫자까지 증가시키며 3의 배수에서는 Fizz 5의 배수에서는 Buzz 가 출력되도록 프로그램을 작성\n",
    "- 3과 5의 배수에서는 FizzBuzz가 출력"
   ]
  },
  {
   "cell_type": "code",
   "execution_count": 3,
   "metadata": {},
   "outputs": [
    {
     "name": "stdout",
     "output_type": "stream",
     "text": [
      "1\n",
      "2\n",
      "fiz\n",
      "4\n",
      "buzz\n",
      "fiz\n",
      "7\n",
      "8\n",
      "fiz\n",
      "buzz\n",
      "11\n",
      "fiz\n",
      "13\n",
      "14\n",
      "fzbzzzzzzzzz\n",
      "16\n",
      "17\n",
      "fiz\n",
      "19\n",
      "buzz\n"
     ]
    }
   ],
   "source": [
    "number = 20\n",
    "\n",
    "for num in range(1, number + 1):\n",
    "    if num %3 ==0 and num % 5 ==0:\n",
    "        print(\"fzbzzzzzzzzz\")\n",
    "    elif num % 3 == 0:\n",
    "        print(\"fiz\")\n",
    "    elif num % 5 == 0:\n",
    "        print(\"buzz\")\n",
    "    else:\n",
    "        print(num)"
   ]
  },
  {
   "cell_type": "code",
   "execution_count": null,
   "metadata": {
    "collapsed": true
   },
   "outputs": [],
   "source": [
    "number = 20\n",
    "\n",
    "for num in range(1,number+1):\n",
    "    \n",
    "    if (num %3 ==0) and (num % 5 == 0):\n",
    "        print(\"fizz buzz\")\n",
    "    \n",
    "    #if num %15 ==0:\n",
    "    #   print(\"fizz buzz\")\n",
    "    \n",
    "    \n",
    "    elif num % 3 == 0:\n",
    "        print(\"fizz\")\n",
    "    elif num % 5 == 0:\n",
    "        print(\"buzz\")\n",
    "    else:\n",
    "        print(num)\n",
    "\n",
    "        \n",
    "print()\n",
    "print(\"=\"*20)\n",
    "print()\n",
    "  ######or #####\n",
    "\n",
    "number = 20\n",
    "\n",
    "for num in range(1,number+1):\n",
    "\n",
    "    flag = True\n",
    "    \n",
    "    if num % 3 == 0:\n",
    "        print(\"fizz\", end = \"\")\n",
    "        flag = False\n",
    "    if num % 5 == 0:\n",
    "        print(\"buzz\", end = \"\")\n",
    "        flag = False\n",
    "    if flag:\n",
    "        print(num, end = \"\")\n",
    "\n",
    "    print()\n"
   ]
  },
  {
   "cell_type": "markdown",
   "metadata": {},
   "source": [
    "##### 7. 별찍기 "
   ]
  },
  {
   "cell_type": "markdown",
   "metadata": {},
   "source": [
    "- 숫자를 입력 받아 아래와 같이 별찍기 1"
   ]
  },
  {
   "cell_type": "code",
   "execution_count": 3,
   "metadata": {},
   "outputs": [
    {
     "name": "stdout",
     "output_type": "stream",
     "text": [
      "*\n",
      "**\n",
      "***\n",
      "****\n",
      "*****\n",
      "******\n",
      "*******\n",
      "********\n",
      "*********\n",
      "**********\n"
     ]
    }
   ],
   "source": [
    "num = 10\n",
    "\n",
    "for star in range(1, num +1):\n",
    "    print(\"*\" * star)"
   ]
  },
  {
   "cell_type": "markdown",
   "metadata": {},
   "source": [
    "- 숫자를 입력받아 아래와 같이 별찍기 2"
   ]
  },
  {
   "cell_type": "code",
   "execution_count": 21,
   "metadata": {},
   "outputs": [
    {
     "name": "stdout",
     "output_type": "stream",
     "text": [
      "         *\n",
      "        **\n",
      "       ***\n",
      "      ****\n",
      "     *****\n",
      "    ******\n",
      "   *******\n",
      "  ********\n",
      " *********\n",
      "**********\n"
     ]
    }
   ],
   "source": [
    "number = 10\n",
    "space = number-1\n",
    "for star in range(1, number+1):\n",
    "    print(\" \" * space + \"*\" * star)\n",
    "    space -= 1\n",
    "    "
   ]
  },
  {
   "cell_type": "markdown",
   "metadata": {},
   "source": [
    "- 홀수를 입력 받아 아래와 같이 별을 찍으세요 3"
   ]
  },
  {
   "cell_type": "code",
   "execution_count": 22,
   "metadata": {},
   "outputs": [
    {
     "name": "stdout",
     "output_type": "stream",
     "text": [
      "     *\n",
      "    ***\n",
      "   *****\n",
      "  *******\n",
      " *********\n"
     ]
    }
   ],
   "source": [
    "num = 7\n",
    "space = number // 2\n",
    "\n",
    "for star in range(1, number+1, 2):\n",
    "    print(\" \" * space + \"*\" * star)\n",
    "    space -= 1"
   ]
  },
  {
   "cell_type": "markdown",
   "metadata": {},
   "source": [
    "- 홀수를 입력 받아 아래와 같이 별을 찍으세요 4"
   ]
  },
  {
   "cell_type": "code",
   "execution_count": 27,
   "metadata": {},
   "outputs": [
    {
     "name": "stdout",
     "output_type": "stream",
     "text": [
      "*********\n",
      " *******\n",
      "  *****\n",
      "   ***\n",
      "    *\n"
     ]
    }
   ],
   "source": [
    "number = 9\n",
    "space = 0\n",
    "\n",
    "for star in range(number, 0, -2):\n",
    "    print(\" \" * space + \"*\" * star)\n",
    "    space += 1\n",
    "    "
   ]
  },
  {
   "cell_type": "code",
   "execution_count": null,
   "metadata": {
    "collapsed": true
   },
   "outputs": [],
   "source": []
  },
  {
   "cell_type": "markdown",
   "metadata": {},
   "source": [
    "- 홀수의 숫자를 입력받아 다이아몬드 형태의 별을 찍음 5"
   ]
  },
  {
   "cell_type": "code",
   "execution_count": 28,
   "metadata": {},
   "outputs": [
    {
     "name": "stdout",
     "output_type": "stream",
     "text": [
      "   *\n",
      "  ***\n",
      " *****\n",
      "*******\n",
      " *****\n",
      "  ***\n",
      "   *\n"
     ]
    }
   ],
   "source": [
    "number = 7\n",
    "space = number // 2\n",
    "\n",
    "for star in range(1, number, 2):\n",
    "    print(\" \" * space + \"*\" * star)\n",
    "    space -= 1\n",
    "\n",
    "space = 0\n",
    "\n",
    "for star in range(number, 0, -2):\n",
    "    print(\" \" * space + \"*\" * star)\n",
    "    space += 1\n"
   ]
  },
  {
   "cell_type": "code",
   "execution_count": null,
   "metadata": {
    "collapsed": true
   },
   "outputs": [],
   "source": []
  },
  {
   "cell_type": "markdown",
   "metadata": {},
   "source": [
    "##### 8. 보어 구하기\n",
    "- complement (보어)를 구하시오\n",
    "- 50의 이진수는 110010\n",
    "- 이진수 110010의 보어는 001101 (0을 1로바꾸고 1을 0으로 바꿈)\n",
    "- 입력된 숫자의 보어를 10진수로 나타내시오\n",
    "\n",
    "결과 예시\n",
    "- 50 -> 13\n",
    "- 100 -> 27\n",
    "\n",
    "힌트\n",
    "- 10진수를 2진수로 변환 : bin(n)\n",
    "- 2진수를 10진수로 변환 : int(n,2)"
   ]
  },
  {
   "cell_type": "code",
   "execution_count": null,
   "metadata": {
    "collapsed": true
   },
   "outputs": [],
   "source": [
    "#문자열\n",
    "number = 100\n",
    "\n",
    "number = bin(number)[2:] #2진수로 변환 #[2:]<- remove [0B...]\n",
    "number = [\"1\" if num == \"0\" else \"0\" for num in number ] #보어 변환\n",
    "number = \"\".join(number) #리스트합쳐 문자열로 변환\n",
    "number = int(number, 2) #2진수를 10진수로 변환\n",
    "\n",
    "number"
   ]
  },
  {
   "cell_type": "code",
   "execution_count": 3,
   "metadata": {},
   "outputs": [
    {
     "data": {
      "text/plain": [
       "27"
      ]
     },
     "execution_count": 3,
     "metadata": {},
     "output_type": "execute_result"
    }
   ],
   "source": [
    "#XOR 비트연산자\n",
    "number = 100\n",
    "\n",
    "data, num = 0, 0\n",
    "\n",
    "while number > data:\n",
    "    data += 2 ** num\n",
    "    num += 1\n",
    "    \n",
    "number^data"
   ]
  },
  {
   "cell_type": "code",
   "execution_count": null,
   "metadata": {
    "collapsed": true
   },
   "outputs": [],
   "source": []
  },
  {
   "cell_type": "markdown",
   "metadata": {},
   "source": [
    "##### 9. Bit Manipulation: Lonely Integer\n",
    "- https://www.hackerrank.com/challenges/ctci-lonely-integer/problem\n",
    "- 리스트에 하나만 있는 데이터 찾아내서 출력하기\n",
    "- ls 리스트에 있는 데이터의 카운트를 세서 딕셔너리 형태로 바꿔줌\n",
    "```\n",
    "from collections import Counter \n",
    "d = dict(Counter(ls))\n",
    "```\n",
    "- [1,1,2,2,3] (입력) -> 3 (결과)\n",
    "- [1,1,2,2] (입력) -> None (결과)"
   ]
  },
  {
   "cell_type": "code",
   "execution_count": 7,
   "metadata": {},
   "outputs": [
    {
     "data": {
      "text/plain": [
       "[3, 5]"
      ]
     },
     "execution_count": 7,
     "metadata": {},
     "output_type": "execute_result"
    }
   ],
   "source": [
    "from collections import Counter \n",
    "\n",
    "ls = [1,1,2,5,2,2,3]\n",
    "d = dict(Counter(ls))\n",
    "d\n",
    "\n",
    "result = []\n",
    "\n",
    "for key, value in d.items():\n",
    "    if value == 1:\n",
    "        result.append(key)\n",
    "            \n",
    "result.sort()\n",
    "result\n",
    "\n",
    "# items 사용"
   ]
  },
  {
   "cell_type": "markdown",
   "metadata": {},
   "source": [
    "##### 10. Recursion: Fibonacci Numbers\n",
    "- https://www.hackerrank.com/challenges/ctci-fibonacci-numbers/problem\n",
    "- 피보나치 수열 초기값 a=0, b=1 에서 a는 b값이 되고 b는 a+b가 되는 a를 나열한 수열"
   ]
  },
  {
   "cell_type": "code",
   "execution_count": 2,
   "metadata": {
    "collapsed": true
   },
   "outputs": [],
   "source": [
    "# n 번째 피보나치 수열의 숫자\n",
    "n = 10\n",
    "a, b = 0, 1\n",
    "# TODO"
   ]
  },
  {
   "cell_type": "code",
   "execution_count": null,
   "metadata": {
    "collapsed": true
   },
   "outputs": [],
   "source": []
  },
  {
   "cell_type": "code",
   "execution_count": 20,
   "metadata": {},
   "outputs": [
    {
     "name": "stdout",
     "output_type": "stream",
     "text": [
      "0\n",
      "1\n",
      "1\n",
      "2\n",
      "3\n",
      "5\n",
      "8\n"
     ]
    }
   ],
   "source": [
    "# n 까지 피보나치 수열의 숫자들\n",
    "n = 1000\n",
    "a, b = 0, 1\n",
    "# TODO\n",
    "\n",
    "\n",
    "def fib(n):\n",
    "    a, b = 0, 1\n",
    "    \n",
    "    while a < n:\n",
    "        print(a, end='')\n",
    "        a, b = b, a+b\n",
    "        print()\n",
    "\n",
    "fib(10)"
   ]
  },
  {
   "cell_type": "code",
   "execution_count": null,
   "metadata": {
    "collapsed": true
   },
   "outputs": [],
   "source": []
  },
  {
   "cell_type": "code",
   "execution_count": null,
   "metadata": {
    "collapsed": true
   },
   "outputs": [],
   "source": []
  },
  {
   "cell_type": "markdown",
   "metadata": {},
   "source": [
    "# string Transformation quiz"
   ]
  },
  {
   "cell_type": "markdown",
   "metadata": {
    "collapsed": true
   },
   "source": [
    "##### String Transformation\n",
    "\n",
    "문자열에서 문자를 한칸씩 이동하면서 해당 문자열이 나온만큼 뒤로 이동한다. (z + 1 => a) 로 순환해야 한다.\n",
    "문자열은 소문자만 사용한다.\n",
    "\n",
    "결과 예시\n",
    "- s = xyzxyzxyz (입력)\n",
    "- s[0] 은 x이다 s[0] 앞에 x 문자가 0개 나왔으므로 x + 0 => x를 출력\n",
    "- s[1] 은 y이다 s[1] 앞에 y 문자가 0개 나왔으므로 y + 0 => y를 출력\n",
    "- s[2] 은 z이다 s[2] 앞에 z 문자가 0개 나왔으므로 z + 0 => z를 출력\n",
    "- s[3] 은 x이다 s[3] 앞에 x 문자가 1개 나왔으므로 x + 1 => y를 출력\n",
    "- s[4] 은 x이다 s[4] 앞에 y 문자가 1개 나왔으므로 y + 1 => z를 출력\n",
    "- s[5] 은 y이다 s[5] 앞에 z 문자가 1개 나왔으므로 z + 1 => a를 출력\n",
    "- s[6] 은 z이다 s[6] 앞에 x 문자가 2개 나왔으므로 x + 2 => z를 출력\n",
    "- s[7] 은 x이다 s[7] 앞에 y 문자가 2개 나왔으므로 y + 2 => a를 출력\n",
    "- s[8] 은 x이다 s[8] 앞에 z 문자가 2개 나왔으므로 z + 2 => b를 출력\n",
    "- xyzyzazab (출력)\n",
    "\n",
    "힌트\n",
    "- 문자를 숫자로 변환 : ord('a')\n",
    "- 숫자를 문자로 변환 : chr(97)\n",
    "- a ~ z는 숫자로 변환하면 97 ~ 122 이다\n",
    "- 문자열을 각 문자의 갯수로 딕셔너리 형태로 변환\n",
    "\n",
    "from collections import Counter\n",
    "s = \"asdfqwera\"\n",
    "counter = Counter(s)\n",
    "counter\n",
    "\n",
    "성능\n",
    "- 10000개의 문자열을 transfomation 하는데 500ms 이하의 속도가 되어야 한다.\n",
    "\n"
   ]
  },
  {
   "cell_type": "code",
   "execution_count": 6,
   "metadata": {},
   "outputs": [
    {
     "name": "stdout",
     "output_type": "stream",
     "text": [
      "CPU times: user 2 µs, sys: 0 ns, total: 2 µs\n",
      "Wall time: 5.25 µs\n"
     ]
    },
    {
     "data": {
      "text/plain": [
       "Counter({'a': 2, 'd': 1, 'e': 1, 'f': 1, 'q': 1, 'r': 1, 's': 1, 'w': 1})"
      ]
     },
     "execution_count": 6,
     "metadata": {},
     "output_type": "execute_result"
    }
   ],
   "source": [
    "#문자열을 각 문자의 갯수로 딕셔너리 형태로 변환\n",
    "\n",
    "from collections import Counter\n",
    "\n",
    "%time\n",
    "s = \"asdfqwera\"\n",
    "counter = Counter(s)\n",
    "counter"
   ]
  },
  {
   "cell_type": "markdown",
   "metadata": {},
   "source": [
    "# Fibonachicken"
   ]
  },
  {
   "cell_type": "code",
   "execution_count": 21,
   "metadata": {
    "collapsed": true
   },
   "outputs": [],
   "source": [
    "# person, chicken, fibonaci\n",
    "\n",
    "# 1 1 -\n",
    "# 2 1 -\n",
    "# 3 2 -\n",
    "# 4 3\n",
    "# 5 3\n",
    "# 6 4\n",
    "# 7 4\n",
    "# 8 5 -\n",
    "# 9 6\n",
    "# 10 6\n",
    "# 11 7\n",
    "# 12 8\n",
    "# 13 8 -\n",
    "\n"
   ]
  },
  {
   "cell_type": "code",
   "execution_count": 22,
   "metadata": {
    "collapsed": true
   },
   "outputs": [],
   "source": [
    "def is_fib(num):\n",
    "    a, b = 0, 1\n",
    "    while a < num:\n",
    "        a, b = b, a+b\n",
    "    return num == a\n",
    "\n",
    "def prev_fib(num):\n",
    "    a, b, prev = 0, 1, 1\n",
    "    while a < num:\n",
    "        prev = a\n",
    "        a, b = b, a+b\n",
    "    return 1 if prev == 0 else prev"
   ]
  },
  {
   "cell_type": "code",
   "execution_count": 11,
   "metadata": {},
   "outputs": [
    {
     "data": {
      "text/plain": [
       "(True, 8)"
      ]
     },
     "execution_count": 11,
     "metadata": {},
     "output_type": "execute_result"
    }
   ],
   "source": [
    "is_fib(21), prev_fib(13)"
   ]
  },
  {
   "cell_type": "code",
   "execution_count": 17,
   "metadata": {
    "collapsed": true
   },
   "outputs": [],
   "source": [
    "def fib_chicken(person):\n",
    "    idx, ls, prev = 0, [], 1\n",
    "    \n",
    "    for num in range(1, person + 1):\n",
    "        \n",
    "        if is_fib(num):\n",
    "            prev = prev_fib(num)\n",
    "            ls.append(prev)\n",
    "            idx = 0\n",
    "        else:\n",
    "            number = prev + ls[idx]\n",
    "            ls.append(number)\n",
    "            idx += 1\n",
    "    return ls[-1:][0]\n",
    "            "
   ]
  },
  {
   "cell_type": "code",
   "execution_count": 19,
   "metadata": {},
   "outputs": [
    {
     "data": {
      "text/plain": [
       "62"
      ]
     },
     "execution_count": 19,
     "metadata": {},
     "output_type": "execute_result"
    }
   ],
   "source": [
    "fib_chicken(100)"
   ]
  },
  {
   "cell_type": "code",
   "execution_count": null,
   "metadata": {
    "collapsed": true
   },
   "outputs": [],
   "source": []
  }
 ],
 "metadata": {
  "kernelspec": {
   "display_name": "Python 3",
   "language": "python",
   "name": "python3"
  },
  "language_info": {
   "codemirror_mode": {
    "name": "ipython",
    "version": 3
   },
   "file_extension": ".py",
   "mimetype": "text/x-python",
   "name": "python",
   "nbconvert_exporter": "python",
   "pygments_lexer": "ipython3",
   "version": "3.6.3"
  }
 },
 "nbformat": 4,
 "nbformat_minor": 2
}
