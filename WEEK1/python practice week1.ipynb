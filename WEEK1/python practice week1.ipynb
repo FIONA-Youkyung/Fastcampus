{
 "cells": [
  {
   "cell_type": "code",
   "execution_count": 3,
   "metadata": {},
   "outputs": [
    {
     "name": "stdout",
     "output_type": "stream",
     "text": [
      "[list([5.1]) list([3.5]) list([1, 4]) list([0.2])]\n",
      "[[ 4.9]\n",
      " [ 3. ]\n",
      " [ 1.4]\n",
      " [ 0.2]]\n"
     ]
    }
   ],
   "source": [
    "import numpy as np\n",
    "\n",
    "x1 = np.array([[5.1], [3.5], [1,4], [0.2]])\n",
    "x2 = np.array([[4.9], [3.0], [1.4], [0.2]])\n",
    "print(x1)\n",
    "print(x2)"
   ]
  },
  {
   "cell_type": "code",
   "execution_count": 11,
   "metadata": {},
   "outputs": [
    {
     "name": "stdout",
     "output_type": "stream",
     "text": [
      "2011    1\n",
      "2012    2\n",
      "2013    3\n",
      "2014    4\n",
      "2015    5\n",
      "dtype: int64\n"
     ]
    }
   ],
   "source": [
    "import pandas as pd\n",
    "from pandas import Series, DataFrame\n",
    "\n",
    "kakao2 = Series([1, 2, 3, 4, 5], index = [2011, 2012, 2013, 2014, 2015])\n",
    "naver2 = Series([1, 10, 3, 4, 5], index = [2011, 2012, 2013, 2014, 2015])\n",
    "\n",
    "\n",
    "print(kakao2)"
   ]
  },
  {
   "cell_type": "code",
   "execution_count": null,
   "metadata": {
    "collapsed": true
   },
   "outputs": [],
   "source": [
    "\n"
   ]
  },
  {
   "cell_type": "code",
   "execution_count": null,
   "metadata": {
    "collapsed": true
   },
   "outputs": [],
   "source": []
  },
  {
   "cell_type": "code",
   "execution_count": null,
   "metadata": {
    "collapsed": true
   },
   "outputs": [],
   "source": [
    "import numpy as np\n",
    "\n",
    "x1 = np.array([5.1,3.5,1.4,0.2])\n",
    "x1"
   ]
  },
  {
   "cell_type": "code",
   "execution_count": null,
   "metadata": {
    "collapsed": true
   },
   "outputs": [],
   "source": [
    "from sklearn.datasets import load_digits\n",
    "\n",
    "digits = load_digits()\n",
    "d0 = digits.images[0]\n",
    "d1 = digits.images[10]\n",
    "d2 = digits.images[1]\n",
    "d3 = digits.images[11]\n",
    "\n",
    "f, ax = plt.subplots(1, 4)\n",
    "ax[0].imshow(d0, interpolation='nearest', cmap=plt.cm.bone_r)\n",
    "ax[0].grid(False)\n",
    "ax[1].imshow(d1, interpolation='nearest', cmap=plt.cm.bone_r)\n",
    "ax[1].grid(False)\n",
    "ax[2].imshow(d2, interpolation='nearest', cmap=plt.cm.bone_r)\n",
    "ax[2].grid(False)\n",
    "ax[3].imshow(d3, interpolation='nearest', cmap=plt.cm.bone_r)\n",
    "ax[3].grid(False)\n",
    "plot.show()"
   ]
  },
  {
   "cell_type": "code",
   "execution_count": null,
   "metadata": {
    "collapsed": true
   },
   "outputs": [],
   "source": []
  },
  {
   "cell_type": "code",
   "execution_count": null,
   "metadata": {
    "collapsed": true
   },
   "outputs": [],
   "source": [
    "import matplotlib as mpl\n",
    "import matplotlib.pylab as plt\n",
    "from sklearn.datasets import load_digits\n",
    "\n",
    "digits = load_digits()\n",
    "d0 = digits.images[0]\n",
    "d1 = digits.images[10]\n",
    "d2 = digits.images[1]\n",
    "d3 = digits.images[11]\n",
    "\n",
    "f, ax = plt.subplots(1, 4)\n",
    "ax[0].imshow(d0, interpolation='nearest', cmap=plt.cm.bone_r)\n",
    "ax[0].grid(False)\n",
    "ax[1].imshow(d1, interpolation='nearest', cmap=plt.cm.bone_r)\n",
    "ax[1].grid(False)\n",
    "ax[2].imshow(d2, interpolation='nearest', cmap=plt.cm.bone_r)\n",
    "ax[2].grid(False)\n",
    "ax[3].imshow(d3, interpolation='nearest', cmap=plt.cm.bone_r)\n",
    "ax[3].grid(False)\n",
    "plt.show()"
   ]
  },
  {
   "cell_type": "code",
   "execution_count": null,
   "metadata": {
    "collapsed": true
   },
   "outputs": [],
   "source": [
    "v0 = d0.reshape(64, 1)\n",
    "v1 = d1.reshape(64, 1)\n",
    "v2 = d2.reshape(64, 1)\n",
    "v3 = d3.reshape(64, 1)\n",
    "\n",
    "f, ax = plt.subplots(4, 1, figsize=(12, 2))\n",
    "ax[0].imshow(v0.T, interpolation='nearest', cmap=plt.cm.bone_r)\n",
    "ax[0].grid(False); ax[0].set_xticks([]); ax[0].set_yticks([])\n",
    "ax[1].imshow(v1.T, interpolation='nearest', cmap=plt.cm.bone_r)\n",
    "ax[1].grid(False); ax[1].set_xticks([]); ax[1].set_yticks([])\n",
    "ax[2].imshow(v2.T, interpolation='nearest', cmap=plt.cm.bone_r)\n",
    "ax[2].grid(False); ax[2].set_xticks([]); ax[2].set_yticks([])\n",
    "ax[3].imshow(v3.T, interpolation='nearest', cmap=plt.cm.bone_r)\n",
    "ax[3].grid(False); ax[3].set_xticks([]); ax[3].set_yticks([])\n",
    "plt.tight_layout()\n",
    "plt.show()"
   ]
  },
  {
   "cell_type": "code",
   "execution_count": null,
   "metadata": {
    "collapsed": true
   },
   "outputs": [],
   "source": [
    "a = np.array([[11,2,13],[22,3,13]])\n",
    "a"
   ]
  },
  {
   "cell_type": "code",
   "execution_count": null,
   "metadata": {
    "collapsed": true
   },
   "outputs": [],
   "source": [
    "X = np.array([[5.1, 3.5, 1.4, 0.2], [4.9, 3.0, 1.4, 0.2]])\n",
    "print(X, \"\\n\")\n",
    "print(X.T, \"\\n\")\n",
    "print(X.T.T)"
   ]
  },
  {
   "cell_type": "code",
   "execution_count": null,
   "metadata": {
    "collapsed": true
   },
   "outputs": [],
   "source": [
    "np.array([[0], [0]])"
   ]
  },
  {
   "cell_type": "code",
   "execution_count": null,
   "metadata": {
    "collapsed": true
   },
   "outputs": [],
   "source": [
    "np.array([[1],[1]])"
   ]
  },
  {
   "cell_type": "code",
   "execution_count": null,
   "metadata": {
    "collapsed": true
   },
   "outputs": [],
   "source": [
    "np.array([[1, 2],[2, 3]])"
   ]
  },
  {
   "cell_type": "code",
   "execution_count": null,
   "metadata": {
    "collapsed": true
   },
   "outputs": [],
   "source": [
    "np.diag([1, 2])"
   ]
  },
  {
   "cell_type": "code",
   "execution_count": null,
   "metadata": {
    "collapsed": true
   },
   "outputs": [],
   "source": [
    "np.identity(2)"
   ]
  },
  {
   "cell_type": "code",
   "execution_count": null,
   "metadata": {
    "collapsed": true
   },
   "outputs": [],
   "source": [
    "np.array([[[1,2],[2,1]]])"
   ]
  },
  {
   "cell_type": "code",
   "execution_count": null,
   "metadata": {
    "collapsed": true
   },
   "outputs": [],
   "source": [
    "stock_lable = ['A', 'B', 'C']\n",
    "stock_price = np.array([[100], [80], [50]])\n",
    "stock_share = np.array([[3], [4], [5]])\n",
    "budget = np.dot(stock_price.T,stock_share)\n",
    "budget[0, 0]"
   ]
  },
  {
   "cell_type": "code",
   "execution_count": null,
   "metadata": {
    "collapsed": true
   },
   "outputs": [],
   "source": [
    "A = np.array([[1, 2, 3], [4, 5, 6]])\n",
    "B = np.array([[1, 2], [3, 4], [5, 6]])\n",
    "print(np.dot(A, B))\n",
    "print()\n",
    "print(np.dot(B, A))"
   ]
  },
  {
   "cell_type": "code",
   "execution_count": null,
   "metadata": {
    "collapsed": true
   },
   "outputs": [],
   "source": [
    "A = np.array([[1, 2, 3]])\n",
    "B = np.array([[4, 7], [5, 8], [6, 9]])\n",
    "print(np.dot(A, B))\n",
    "print()\n",
    "#print(np.dot(B, A)) --> not working"
   ]
  },
  {
   "cell_type": "code",
   "execution_count": null,
   "metadata": {
    "collapsed": true
   },
   "outputs": [],
   "source": [
    "A = np.array([[1, 2], [3, 4]])\n",
    "B = np.array([[5, 6], [7, 8]])\n",
    "print(np.dot(A, B))\n",
    "print()\n",
    "print(np.dot(B, A))"
   ]
  },
  {
   "cell_type": "code",
   "execution_count": null,
   "metadata": {
    "collapsed": true
   },
   "outputs": [],
   "source": [
    "x = np.array([[1, 2, 3]])\n",
    "print(np.dot(x.T, x))\n",
    "print()\n",
    "print(np.dot(x, x.T))"
   ]
  },
  {
   "cell_type": "code",
   "execution_count": null,
   "metadata": {
    "collapsed": true
   },
   "outputs": [],
   "source": [
    "def say():\n",
    "    return 'hi'"
   ]
  },
  {
   "cell_type": "code",
   "execution_count": null,
   "metadata": {
    "collapsed": true
   },
   "outputs": [],
   "source": [
    "a = say()\n",
    "print(a)"
   ]
  },
  {
   "cell_type": "code",
   "execution_count": null,
   "metadata": {
    "collapsed": true
   },
   "outputs": [],
   "source": [
    "def sum_many(*args):\n",
    "    sum = 0\n",
    "    for i in args:\n",
    "        sum = sum +i\n",
    "    return sum\n",
    "\n"
   ]
  },
  {
   "cell_type": "code",
   "execution_count": null,
   "metadata": {
    "collapsed": true
   },
   "outputs": [],
   "source": [
    "result = sum_many(1, 2, 3)\n",
    "print(result)\n",
    "\n",
    "result = sum_many(1,2,3,4,5,6,7,8,9,10)\n",
    "print(result)"
   ]
  },
  {
   "cell_type": "code",
   "execution_count": null,
   "metadata": {
    "collapsed": true
   },
   "outputs": [],
   "source": [
    "def sum_mul(choice, *args):\n",
    "    if choice == \"sum\":\n",
    "        result = 0\n",
    "        for i in args:\n",
    "            result = result + i\n",
    "    elif choice == \"mul\":\n",
    "        result = 1\n",
    "        for i in args:\n",
    "            result = result*i\n",
    "            \n",
    "    return result"
   ]
  },
  {
   "cell_type": "code",
   "execution_count": null,
   "metadata": {
    "collapsed": true
   },
   "outputs": [],
   "source": [
    "result = sum_mul('sum', 1,2,3,4,5)\n",
    "print(result)"
   ]
  },
  {
   "cell_type": "code",
   "execution_count": null,
   "metadata": {
    "collapsed": true
   },
   "outputs": [],
   "source": [
    "result = sum_mul(\"mul\", 1,2,3,4,5)\n",
    "print(result)"
   ]
  },
  {
   "cell_type": "code",
   "execution_count": null,
   "metadata": {
    "collapsed": true
   },
   "outputs": [],
   "source": [
    "def sum(a,b):\n",
    "    return a+b"
   ]
  },
  {
   "cell_type": "code",
   "execution_count": null,
   "metadata": {
    "collapsed": true
   },
   "outputs": [],
   "source": [
    "result = sum(4,7)\n",
    "print(result)"
   ]
  },
  {
   "cell_type": "code",
   "execution_count": null,
   "metadata": {
    "collapsed": true
   },
   "outputs": [],
   "source": [
    "a= 1\n",
    "def vartest(a):\n",
    "    a = a+1\n",
    "    return a\n",
    "a = vartest(a)\n",
    "print(a)"
   ]
  },
  {
   "cell_type": "code",
   "execution_count": null,
   "metadata": {
    "collapsed": true
   },
   "outputs": [],
   "source": [
    "a1 = [1,2,3,4,5,6]\n",
    "a1.count('kim')"
   ]
  },
  {
   "cell_type": "code",
   "execution_count": null,
   "metadata": {
    "collapsed": true
   },
   "outputs": [],
   "source": [
    "a = \"pithon\"\n",
    "a.replace(\"i\",\"y\")"
   ]
  },
  {
   "cell_type": "code",
   "execution_count": null,
   "metadata": {
    "collapsed": true
   },
   "outputs": [],
   "source": [
    "flag = True\n",
    "\n",
    "if flag:\n",
    "    print(\"if\")\n",
    "\n",
    "else:\n",
    "    print(\"else\")\n",
    "    "
   ]
  },
  {
   "cell_type": "code",
   "execution_count": null,
   "metadata": {
    "collapsed": true
   },
   "outputs": [],
   "source": [
    "a,b = 10, 20\n",
    "\n",
    "if a < b:\n",
    "    print(\"a<b\")\n",
    "elif a == b:\n",
    "    print(\"a=b\")\n",
    "else:\n",
    "    print(\"a>b\")\n",
    "    \n",
    "    "
   ]
  },
  {
   "cell_type": "code",
   "execution_count": null,
   "metadata": {
    "collapsed": true
   },
   "outputs": [],
   "source": [
    "num = int(input(\"number : \"))\n",
    "\n",
    "if num % 2 == 0:\n",
    "    print(\"even\")\n",
    "\n",
    "else:\n",
    "    print(\"odd\")\n"
   ]
  },
  {
   "cell_type": "code",
   "execution_count": null,
   "metadata": {
    "collapsed": true
   },
   "outputs": [],
   "source": [
    "numbers = [1,3,5,7,9]"
   ]
  },
  {
   "cell_type": "code",
   "execution_count": null,
   "metadata": {
    "collapsed": true
   },
   "outputs": [],
   "source": [
    "for number in numbers:\n",
    "    number_sum = number_sum + number\n",
    "    \n",
    "    \n",
    "    print(number_sum)\n"
   ]
  },
  {
   "cell_type": "code",
   "execution_count": null,
   "metadata": {
    "collapsed": true
   },
   "outputs": [],
   "source": [
    "count = 0\n",
    "while True:\n",
    "    count = count + 1\n",
    "    print()\n",
    "    if count>len(numbers):\n",
    "        break\n",
    "        \n",
    "print(numbers)\n",
    "    \n"
   ]
  },
  {
   "cell_type": "code",
   "execution_count": null,
   "metadata": {
    "collapsed": true
   },
   "outputs": [],
   "source": [
    "input_name = input(\"name : \")\n",
    "\n",
    "names = []\n",
    "\n",
    "count = 0\n",
    "\n",
    "for _ in input_name:\n",
    "    print(\"\")\n",
    "\n"
   ]
  },
  {
   "cell_type": "code",
   "execution_count": null,
   "metadata": {
    "collapsed": true
   },
   "outputs": [],
   "source": [
    "count = 0\n",
    "while True:\n",
    "    count += 1\n",
    "    input_name = input(\"name : \")\n",
    "    if count >=5:\n",
    "        break\n",
    "    \n",
    "print(input_name)\n",
    "\n",
    "count_name = 0\n",
    "\n",
    "for name in input_name:\n",
    "    family_name = name.split(\" \")[0].lower()\n",
    "    \n",
    "    if family_name == \"kim\":\n",
    "        count_name = count_name+1\n",
    "\n",
    "print(input_name, count_name)\n",
    "    \n",
    "\n",
    "\n",
    "\n",
    "\n"
   ]
  },
  {
   "cell_type": "code",
   "execution_count": null,
   "metadata": {
    "collapsed": true
   },
   "outputs": [],
   "source": [
    "def avg_func(*args):\n",
    "    for data in args:\n",
    "        print(data)\n",
    "    return sum(args) / len(args)\n",
    "\n",
    "\n",
    "\n",
    "\n",
    "\n"
   ]
  },
  {
   "cell_type": "code",
   "execution_count": null,
   "metadata": {
    "collapsed": true
   },
   "outputs": [],
   "source": []
  },
  {
   "cell_type": "markdown",
   "metadata": {
    "collapsed": true
   },
   "source": [
    "##### 1. 5명의 이름을 입력 받아 kim인 성을 가진 사람의 수를 출력\n",
    "- [성(공백)이름] 형태로만 입력(ex : park doojin)"
   ]
  },
  {
   "cell_type": "code",
   "execution_count": null,
   "metadata": {
    "collapsed": true
   },
   "outputs": [],
   "source": [
    "names = []\n",
    "for _ in range(5):\n",
    "    name = input(\"name : \")\n",
    "    names.append(name)\n",
    "\n",
    "print(names)\n",
    "    \n",
    "count = 0    \n",
    "for name in names:\n",
    "        \n",
    "    family_name = name.split(\" \")[0].lower()\n",
    "\n",
    "    \n",
    "    if family_name == 'kim':\n",
    "        count += 1\n",
    "    \n",
    "    \n",
    "count\n",
    "    "
   ]
  },
  {
   "cell_type": "markdown",
   "metadata": {},
   "source": [
    "2. 2단에서 9단까지 구구단을 출력하는 프로그램을 작성"
   ]
  },
  {
   "cell_type": "code",
   "execution_count": null,
   "metadata": {
    "collapsed": true
   },
   "outputs": [],
   "source": [
    "\n",
    "for num1 in range(1,10):\n",
    "    for num2 in range(2,10):\n",
    "        print(\"{}*{}={}\".format(num1,num2,num1*num2), end = \"\\t\")\n",
    "    print()\n"
   ]
  },
  {
   "cell_type": "code",
   "execution_count": null,
   "metadata": {
    "collapsed": true
   },
   "outputs": [],
   "source": [
    "num3 = int(input(\"number : \"))\n",
    "\n",
    "for num4 in range(2,10):\n",
    "    print(\"{}*{}={}\".format(num3, num4, num3*num4))\n",
    "    \n",
    "print()\n"
   ]
  },
  {
   "cell_type": "code",
   "execution_count": 40,
   "metadata": {},
   "outputs": [
    {
     "name": "stdout",
     "output_type": "stream",
     "text": [
      "guess what : 10\n",
      "lower\n",
      "guess what : 50\n",
      "lower\n",
      "guess what : 1\n",
      "higher\n",
      "guess what : 2\n",
      "higher\n",
      "guess what : 4\n",
      "number5\n"
     ]
    }
   ],
   "source": [
    "import random\n",
    "random_number = random.randint(1,100)\n",
    "count = 0\n",
    "\n",
    "while True:\n",
    "    \n",
    "    num = int(input(\"guess what : \"))\n",
    "    count += 1\n",
    "    if random_number > num:\n",
    "        print(\"higher\")\n",
    "    elif random_number < num:\n",
    "        print(\"lower\")\n",
    "    else:\n",
    "        print(\"number{}\".format(count))\n",
    "        break\n"
   ]
  },
  {
   "cell_type": "markdown",
   "metadata": {},
   "source": [
    "5. 로또번호 출력\n",
    "1~45의 6자리의 로또번호를 출력\n"
   ]
  },
  {
   "cell_type": "code",
   "execution_count": null,
   "metadata": {
    "collapsed": true
   },
   "outputs": [],
   "source": []
  }
 ],
 "metadata": {
  "kernelspec": {
   "display_name": "Python 3",
   "language": "python",
   "name": "python3"
  },
  "language_info": {
   "codemirror_mode": {
    "name": "ipython",
    "version": 3
   },
   "file_extension": ".py",
   "mimetype": "text/x-python",
   "name": "python",
   "nbconvert_exporter": "python",
   "pygments_lexer": "ipython3",
   "version": "3.6.3"
  }
 },
 "nbformat": 4,
 "nbformat_minor": 2
}
